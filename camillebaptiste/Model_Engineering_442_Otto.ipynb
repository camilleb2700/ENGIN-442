{
  "cells": [
    {
      "cell_type": "code",
      "execution_count": null,
      "id": "da645ec0",
      "metadata": {
        "id": "da645ec0"
      },
      "outputs": [],
      "source": [
        "'''\n",
        "YOUR TASKS:\n",
        "\n",
        "1. SPECIFY THE URL OR PATH TO YOUR DATA, REMEMBER - YOU FIRST HAVE TO DOWNLOAD IT.\n",
        "2. CLICK RUN ALL OR RESTART AND RUN ALL BUTTON TO RUN THE CODE. THIS CODE RUNS IN A CHRONOLOGICAL MANNER - THE TOP BLOCKS MUST PRECEED THE BOTTOM ONES,\n",
        "                                                                                                            i.e. don't run stuff from the bottom first, otherwise the code won't work properly.\n",
        "3. NEAR THE END OF THE CODE, YOU WILL SEE YOUR EPOCH METRICS, AS I STATED IN CLASS, YOU WANT THE ACCURACY TO APPROACH 100% =1.0 AND THE LOSS TO APPROACH 0\n",
        "4. IN CASE IF YOUR MODEL IS STRUGGLING TO REACH THESE RESULTS AND IS INSTEAD STUCK AT A LOW ACCURACY, NAVIGATE TO THE BLOCK OF CODE WITH HYPERPARAMETERS AND CHANGE THESE NUMBERS,\n",
        "THEN, TRY RUNNING THE CODE AGAIN AND SEE HOW YOUR MODEL IS PERFORMING; REPEAT UNTIL YOU REACH A PLAUSIBLE RESULT (ONE THAT IS BETTER THAN A COIN TOSS IN TERMS OF PREDICTION ACCURACY IN THE WORST CASE)\n",
        "5. SAVE YOUR RESULTS => THE CODE INCLUDES A BLOCK WHICH WILL SAVE YOUR MODEL TO A .h5 FILE,\n",
        " - KEEP THE OUTPUTS OF THIS NOTEBOOK AS WELL, YOU WILL WANT TO DEMONSTRATE HOW THE TRAINING PROCESS WENT.\n",
        " - BE MINDFUL OF THE TIME YOU HAVE IF YOU CHOOSE TO USE GOOGLE COLLABORATORY INSTEAD OF YOUR OWN MACHINE AS THEIR VMs ONLY OFFER YOU A COUPLE OF HOURS OF USAGE.\n",
        "'''"
      ]
    },
    {
      "cell_type": "code",
      "execution_count": 1,
      "id": "dd77aa5b",
      "metadata": {
        "id": "dd77aa5b"
      },
      "outputs": [],
      "source": [
        "import numpy as np\n",
        "import pandas as pd\n",
        "import tensorflow as tf\n",
        "from sklearn.model_selection import train_test_split\n",
        "from tensorflow import keras\n",
        "from tensorflow.keras import layers\n",
        "from tensorflow.keras.models import load_model\n",
        "from tensorflow.keras.optimizers import Adam\n",
        "from tensorflow.keras.callbacks import ReduceLROnPlateau, EarlyStopping\n",
        "from sklearn.metrics import confusion_matrix\n",
        "import seaborn as sns\n",
        "from sklearn.preprocessing import LabelEncoder\n",
        "import matplotlib.pyplot as plt\n",
        "import time"
      ]
    },
    {
      "cell_type": "code",
      "execution_count": 2,
      "id": "f16df2f1",
      "metadata": {
        "id": "f16df2f1",
        "colab": {
          "base_uri": "https://localhost:8080/"
        },
        "outputId": "2d533f55-cb7b-4fc8-c2bb-ad487b424a45"
      },
      "outputs": [
        {
          "output_type": "stream",
          "name": "stderr",
          "text": [
            "<ipython-input-2-4e7dbdd6c32c>:10: DeprecationWarning: In a future version, `df.iloc[:, i] = newvals` will attempt to set the values inplace instead of always setting a new array. To retain the old behavior, use either `df[df.columns[i]] = newvals` or, if columns are non-unique, `df.isetitem(i, newvals)`\n",
            "  data.iloc[:, -1] = label_encoder.fit_transform(data.iloc[:, -1])\n"
          ]
        }
      ],
      "source": [
        "# Function to read the data\n",
        "def read_data(filename):\n",
        "    data = pd.read_csv(filename)\n",
        "\n",
        "    # Extract features\n",
        "    features = data.iloc[:,1 :-1].values\n",
        "\n",
        "    # Extract and encode labels\n",
        "    label_encoder = LabelEncoder()\n",
        "    data.iloc[:, -1] = label_encoder.fit_transform(data.iloc[:, -1])\n",
        "    labels = data.iloc[:, -1].values\n",
        "\n",
        "    return features, labels\n",
        "# Read the data\n",
        "data_url = \"https://raw.githubusercontent.com/camilleb2700/ENGIN-442/main/user_12.csv\" # enter your data URL or PATH here in enclosed in \" \" IF YOUR NOTEBOOK IS IN THE SAME FOLDER AS data.csv, which is your data you downloaded, then this will run as it is.\n",
        "                    # otherwise, you have to specify a different path or url\n",
        "x, y = read_data(data_url)"
      ]
    },
    {
      "cell_type": "code",
      "execution_count": 3,
      "id": "773378f4",
      "metadata": {
        "id": "773378f4"
      },
      "outputs": [],
      "source": [
        "df = pd.read_csv(data_url) ## THIS AND THE BLOCK OF CODE IMMEDIATELY AFTER THIS ARE OPTIONAL, THIS IS INTENDED TO HELP YOU VISUALIZE YOUR DATASET"
      ]
    },
    {
      "cell_type": "code",
      "execution_count": 4,
      "id": "c4345daf",
      "metadata": {
        "colab": {
          "base_uri": "https://localhost:8080/",
          "height": 441
        },
        "id": "c4345daf",
        "outputId": "ad31846d-f0e4-41f5-fbbc-02893d8a2902"
      },
      "outputs": [
        {
          "output_type": "execute_result",
          "data": {
            "text/plain": [
              "       Time (Seconds)  x-rotation  y-rotation  z-rotation  x-position  \\\n",
              "0            0.000000   -0.000000   -0.000000   -0.000000   -0.000000   \n",
              "1            0.008333   -0.000000   -0.000000   -0.000000   -0.000000   \n",
              "2            0.016667   -0.000000   -0.000000   -0.000000   -0.000000   \n",
              "3            0.025000   -0.000000   -0.000000   -0.000000   -0.000000   \n",
              "4            0.033333   -0.000000   -0.000000   -0.000000   -0.000000   \n",
              "...               ...         ...         ...         ...         ...   \n",
              "81195       30.350000  145.497528    1.136816 -100.203384    0.476438   \n",
              "81196       30.358333  145.435791    0.323997 -100.612747    0.477562   \n",
              "81197       30.366667  145.658401   -0.436725 -101.451706    0.478550   \n",
              "81198       30.375000  146.021698   -1.215853 -102.191917    0.479562   \n",
              "81199       30.383333  146.294464   -2.203671 -102.801735    0.480852   \n",
              "\n",
              "       y-position  z-position                  label  \n",
              "0        0.000000    0.000000      Sit_VidCall_Phone  \n",
              "1        0.000000    0.000000      Sit_VidCall_Phone  \n",
              "2        0.000000    0.000000      Sit_VidCall_Phone  \n",
              "3        0.000000    0.000000      Sit_VidCall_Phone  \n",
              "4        0.000000    0.000000      Sit_VidCall_Phone  \n",
              "...           ...         ...                    ...  \n",
              "81195    1.215163    0.705384  Walk_WebBrowse_Tablet  \n",
              "81196    1.214183    0.704687  Walk_WebBrowse_Tablet  \n",
              "81197    1.213255    0.704206  Walk_WebBrowse_Tablet  \n",
              "81198    1.212412    0.703331  Walk_WebBrowse_Tablet  \n",
              "81199    1.211642    0.702126  Walk_WebBrowse_Tablet  \n",
              "\n",
              "[81200 rows x 8 columns]"
            ],
            "text/html": [
              "\n",
              "  <div id=\"df-2c142037-e5e4-44ea-b4ef-9586d7c97cc5\" class=\"colab-df-container\">\n",
              "    <div>\n",
              "<style scoped>\n",
              "    .dataframe tbody tr th:only-of-type {\n",
              "        vertical-align: middle;\n",
              "    }\n",
              "\n",
              "    .dataframe tbody tr th {\n",
              "        vertical-align: top;\n",
              "    }\n",
              "\n",
              "    .dataframe thead th {\n",
              "        text-align: right;\n",
              "    }\n",
              "</style>\n",
              "<table border=\"1\" class=\"dataframe\">\n",
              "  <thead>\n",
              "    <tr style=\"text-align: right;\">\n",
              "      <th></th>\n",
              "      <th>Time (Seconds)</th>\n",
              "      <th>x-rotation</th>\n",
              "      <th>y-rotation</th>\n",
              "      <th>z-rotation</th>\n",
              "      <th>x-position</th>\n",
              "      <th>y-position</th>\n",
              "      <th>z-position</th>\n",
              "      <th>label</th>\n",
              "    </tr>\n",
              "  </thead>\n",
              "  <tbody>\n",
              "    <tr>\n",
              "      <th>0</th>\n",
              "      <td>0.000000</td>\n",
              "      <td>-0.000000</td>\n",
              "      <td>-0.000000</td>\n",
              "      <td>-0.000000</td>\n",
              "      <td>-0.000000</td>\n",
              "      <td>0.000000</td>\n",
              "      <td>0.000000</td>\n",
              "      <td>Sit_VidCall_Phone</td>\n",
              "    </tr>\n",
              "    <tr>\n",
              "      <th>1</th>\n",
              "      <td>0.008333</td>\n",
              "      <td>-0.000000</td>\n",
              "      <td>-0.000000</td>\n",
              "      <td>-0.000000</td>\n",
              "      <td>-0.000000</td>\n",
              "      <td>0.000000</td>\n",
              "      <td>0.000000</td>\n",
              "      <td>Sit_VidCall_Phone</td>\n",
              "    </tr>\n",
              "    <tr>\n",
              "      <th>2</th>\n",
              "      <td>0.016667</td>\n",
              "      <td>-0.000000</td>\n",
              "      <td>-0.000000</td>\n",
              "      <td>-0.000000</td>\n",
              "      <td>-0.000000</td>\n",
              "      <td>0.000000</td>\n",
              "      <td>0.000000</td>\n",
              "      <td>Sit_VidCall_Phone</td>\n",
              "    </tr>\n",
              "    <tr>\n",
              "      <th>3</th>\n",
              "      <td>0.025000</td>\n",
              "      <td>-0.000000</td>\n",
              "      <td>-0.000000</td>\n",
              "      <td>-0.000000</td>\n",
              "      <td>-0.000000</td>\n",
              "      <td>0.000000</td>\n",
              "      <td>0.000000</td>\n",
              "      <td>Sit_VidCall_Phone</td>\n",
              "    </tr>\n",
              "    <tr>\n",
              "      <th>4</th>\n",
              "      <td>0.033333</td>\n",
              "      <td>-0.000000</td>\n",
              "      <td>-0.000000</td>\n",
              "      <td>-0.000000</td>\n",
              "      <td>-0.000000</td>\n",
              "      <td>0.000000</td>\n",
              "      <td>0.000000</td>\n",
              "      <td>Sit_VidCall_Phone</td>\n",
              "    </tr>\n",
              "    <tr>\n",
              "      <th>...</th>\n",
              "      <td>...</td>\n",
              "      <td>...</td>\n",
              "      <td>...</td>\n",
              "      <td>...</td>\n",
              "      <td>...</td>\n",
              "      <td>...</td>\n",
              "      <td>...</td>\n",
              "      <td>...</td>\n",
              "    </tr>\n",
              "    <tr>\n",
              "      <th>81195</th>\n",
              "      <td>30.350000</td>\n",
              "      <td>145.497528</td>\n",
              "      <td>1.136816</td>\n",
              "      <td>-100.203384</td>\n",
              "      <td>0.476438</td>\n",
              "      <td>1.215163</td>\n",
              "      <td>0.705384</td>\n",
              "      <td>Walk_WebBrowse_Tablet</td>\n",
              "    </tr>\n",
              "    <tr>\n",
              "      <th>81196</th>\n",
              "      <td>30.358333</td>\n",
              "      <td>145.435791</td>\n",
              "      <td>0.323997</td>\n",
              "      <td>-100.612747</td>\n",
              "      <td>0.477562</td>\n",
              "      <td>1.214183</td>\n",
              "      <td>0.704687</td>\n",
              "      <td>Walk_WebBrowse_Tablet</td>\n",
              "    </tr>\n",
              "    <tr>\n",
              "      <th>81197</th>\n",
              "      <td>30.366667</td>\n",
              "      <td>145.658401</td>\n",
              "      <td>-0.436725</td>\n",
              "      <td>-101.451706</td>\n",
              "      <td>0.478550</td>\n",
              "      <td>1.213255</td>\n",
              "      <td>0.704206</td>\n",
              "      <td>Walk_WebBrowse_Tablet</td>\n",
              "    </tr>\n",
              "    <tr>\n",
              "      <th>81198</th>\n",
              "      <td>30.375000</td>\n",
              "      <td>146.021698</td>\n",
              "      <td>-1.215853</td>\n",
              "      <td>-102.191917</td>\n",
              "      <td>0.479562</td>\n",
              "      <td>1.212412</td>\n",
              "      <td>0.703331</td>\n",
              "      <td>Walk_WebBrowse_Tablet</td>\n",
              "    </tr>\n",
              "    <tr>\n",
              "      <th>81199</th>\n",
              "      <td>30.383333</td>\n",
              "      <td>146.294464</td>\n",
              "      <td>-2.203671</td>\n",
              "      <td>-102.801735</td>\n",
              "      <td>0.480852</td>\n",
              "      <td>1.211642</td>\n",
              "      <td>0.702126</td>\n",
              "      <td>Walk_WebBrowse_Tablet</td>\n",
              "    </tr>\n",
              "  </tbody>\n",
              "</table>\n",
              "<p>81200 rows × 8 columns</p>\n",
              "</div>\n",
              "    <div class=\"colab-df-buttons\">\n",
              "\n",
              "  <div class=\"colab-df-container\">\n",
              "    <button class=\"colab-df-convert\" onclick=\"convertToInteractive('df-2c142037-e5e4-44ea-b4ef-9586d7c97cc5')\"\n",
              "            title=\"Convert this dataframe to an interactive table.\"\n",
              "            style=\"display:none;\">\n",
              "\n",
              "  <svg xmlns=\"http://www.w3.org/2000/svg\" height=\"24px\" viewBox=\"0 -960 960 960\">\n",
              "    <path d=\"M120-120v-720h720v720H120Zm60-500h600v-160H180v160Zm220 220h160v-160H400v160Zm0 220h160v-160H400v160ZM180-400h160v-160H180v160Zm440 0h160v-160H620v160ZM180-180h160v-160H180v160Zm440 0h160v-160H620v160Z\"/>\n",
              "  </svg>\n",
              "    </button>\n",
              "\n",
              "  <style>\n",
              "    .colab-df-container {\n",
              "      display:flex;\n",
              "      gap: 12px;\n",
              "    }\n",
              "\n",
              "    .colab-df-convert {\n",
              "      background-color: #E8F0FE;\n",
              "      border: none;\n",
              "      border-radius: 50%;\n",
              "      cursor: pointer;\n",
              "      display: none;\n",
              "      fill: #1967D2;\n",
              "      height: 32px;\n",
              "      padding: 0 0 0 0;\n",
              "      width: 32px;\n",
              "    }\n",
              "\n",
              "    .colab-df-convert:hover {\n",
              "      background-color: #E2EBFA;\n",
              "      box-shadow: 0px 1px 2px rgba(60, 64, 67, 0.3), 0px 1px 3px 1px rgba(60, 64, 67, 0.15);\n",
              "      fill: #174EA6;\n",
              "    }\n",
              "\n",
              "    .colab-df-buttons div {\n",
              "      margin-bottom: 4px;\n",
              "    }\n",
              "\n",
              "    [theme=dark] .colab-df-convert {\n",
              "      background-color: #3B4455;\n",
              "      fill: #D2E3FC;\n",
              "    }\n",
              "\n",
              "    [theme=dark] .colab-df-convert:hover {\n",
              "      background-color: #434B5C;\n",
              "      box-shadow: 0px 1px 3px 1px rgba(0, 0, 0, 0.15);\n",
              "      filter: drop-shadow(0px 1px 2px rgba(0, 0, 0, 0.3));\n",
              "      fill: #FFFFFF;\n",
              "    }\n",
              "  </style>\n",
              "\n",
              "    <script>\n",
              "      const buttonEl =\n",
              "        document.querySelector('#df-2c142037-e5e4-44ea-b4ef-9586d7c97cc5 button.colab-df-convert');\n",
              "      buttonEl.style.display =\n",
              "        google.colab.kernel.accessAllowed ? 'block' : 'none';\n",
              "\n",
              "      async function convertToInteractive(key) {\n",
              "        const element = document.querySelector('#df-2c142037-e5e4-44ea-b4ef-9586d7c97cc5');\n",
              "        const dataTable =\n",
              "          await google.colab.kernel.invokeFunction('convertToInteractive',\n",
              "                                                    [key], {});\n",
              "        if (!dataTable) return;\n",
              "\n",
              "        const docLinkHtml = 'Like what you see? Visit the ' +\n",
              "          '<a target=\"_blank\" href=https://colab.research.google.com/notebooks/data_table.ipynb>data table notebook</a>'\n",
              "          + ' to learn more about interactive tables.';\n",
              "        element.innerHTML = '';\n",
              "        dataTable['output_type'] = 'display_data';\n",
              "        await google.colab.output.renderOutput(dataTable, element);\n",
              "        const docLink = document.createElement('div');\n",
              "        docLink.innerHTML = docLinkHtml;\n",
              "        element.appendChild(docLink);\n",
              "      }\n",
              "    </script>\n",
              "  </div>\n",
              "\n",
              "\n",
              "<div id=\"df-e9a42644-b82d-41ae-930c-5ac452eaa796\">\n",
              "  <button class=\"colab-df-quickchart\" onclick=\"quickchart('df-e9a42644-b82d-41ae-930c-5ac452eaa796')\"\n",
              "            title=\"Suggest charts\"\n",
              "            style=\"display:none;\">\n",
              "\n",
              "<svg xmlns=\"http://www.w3.org/2000/svg\" height=\"24px\"viewBox=\"0 0 24 24\"\n",
              "     width=\"24px\">\n",
              "    <g>\n",
              "        <path d=\"M19 3H5c-1.1 0-2 .9-2 2v14c0 1.1.9 2 2 2h14c1.1 0 2-.9 2-2V5c0-1.1-.9-2-2-2zM9 17H7v-7h2v7zm4 0h-2V7h2v10zm4 0h-2v-4h2v4z\"/>\n",
              "    </g>\n",
              "</svg>\n",
              "  </button>\n",
              "\n",
              "<style>\n",
              "  .colab-df-quickchart {\n",
              "      --bg-color: #E8F0FE;\n",
              "      --fill-color: #1967D2;\n",
              "      --hover-bg-color: #E2EBFA;\n",
              "      --hover-fill-color: #174EA6;\n",
              "      --disabled-fill-color: #AAA;\n",
              "      --disabled-bg-color: #DDD;\n",
              "  }\n",
              "\n",
              "  [theme=dark] .colab-df-quickchart {\n",
              "      --bg-color: #3B4455;\n",
              "      --fill-color: #D2E3FC;\n",
              "      --hover-bg-color: #434B5C;\n",
              "      --hover-fill-color: #FFFFFF;\n",
              "      --disabled-bg-color: #3B4455;\n",
              "      --disabled-fill-color: #666;\n",
              "  }\n",
              "\n",
              "  .colab-df-quickchart {\n",
              "    background-color: var(--bg-color);\n",
              "    border: none;\n",
              "    border-radius: 50%;\n",
              "    cursor: pointer;\n",
              "    display: none;\n",
              "    fill: var(--fill-color);\n",
              "    height: 32px;\n",
              "    padding: 0;\n",
              "    width: 32px;\n",
              "  }\n",
              "\n",
              "  .colab-df-quickchart:hover {\n",
              "    background-color: var(--hover-bg-color);\n",
              "    box-shadow: 0 1px 2px rgba(60, 64, 67, 0.3), 0 1px 3px 1px rgba(60, 64, 67, 0.15);\n",
              "    fill: var(--button-hover-fill-color);\n",
              "  }\n",
              "\n",
              "  .colab-df-quickchart-complete:disabled,\n",
              "  .colab-df-quickchart-complete:disabled:hover {\n",
              "    background-color: var(--disabled-bg-color);\n",
              "    fill: var(--disabled-fill-color);\n",
              "    box-shadow: none;\n",
              "  }\n",
              "\n",
              "  .colab-df-spinner {\n",
              "    border: 2px solid var(--fill-color);\n",
              "    border-color: transparent;\n",
              "    border-bottom-color: var(--fill-color);\n",
              "    animation:\n",
              "      spin 1s steps(1) infinite;\n",
              "  }\n",
              "\n",
              "  @keyframes spin {\n",
              "    0% {\n",
              "      border-color: transparent;\n",
              "      border-bottom-color: var(--fill-color);\n",
              "      border-left-color: var(--fill-color);\n",
              "    }\n",
              "    20% {\n",
              "      border-color: transparent;\n",
              "      border-left-color: var(--fill-color);\n",
              "      border-top-color: var(--fill-color);\n",
              "    }\n",
              "    30% {\n",
              "      border-color: transparent;\n",
              "      border-left-color: var(--fill-color);\n",
              "      border-top-color: var(--fill-color);\n",
              "      border-right-color: var(--fill-color);\n",
              "    }\n",
              "    40% {\n",
              "      border-color: transparent;\n",
              "      border-right-color: var(--fill-color);\n",
              "      border-top-color: var(--fill-color);\n",
              "    }\n",
              "    60% {\n",
              "      border-color: transparent;\n",
              "      border-right-color: var(--fill-color);\n",
              "    }\n",
              "    80% {\n",
              "      border-color: transparent;\n",
              "      border-right-color: var(--fill-color);\n",
              "      border-bottom-color: var(--fill-color);\n",
              "    }\n",
              "    90% {\n",
              "      border-color: transparent;\n",
              "      border-bottom-color: var(--fill-color);\n",
              "    }\n",
              "  }\n",
              "</style>\n",
              "\n",
              "  <script>\n",
              "    async function quickchart(key) {\n",
              "      const quickchartButtonEl =\n",
              "        document.querySelector('#' + key + ' button');\n",
              "      quickchartButtonEl.disabled = true;  // To prevent multiple clicks.\n",
              "      quickchartButtonEl.classList.add('colab-df-spinner');\n",
              "      try {\n",
              "        const charts = await google.colab.kernel.invokeFunction(\n",
              "            'suggestCharts', [key], {});\n",
              "      } catch (error) {\n",
              "        console.error('Error during call to suggestCharts:', error);\n",
              "      }\n",
              "      quickchartButtonEl.classList.remove('colab-df-spinner');\n",
              "      quickchartButtonEl.classList.add('colab-df-quickchart-complete');\n",
              "    }\n",
              "    (() => {\n",
              "      let quickchartButtonEl =\n",
              "        document.querySelector('#df-e9a42644-b82d-41ae-930c-5ac452eaa796 button');\n",
              "      quickchartButtonEl.style.display =\n",
              "        google.colab.kernel.accessAllowed ? 'block' : 'none';\n",
              "    })();\n",
              "  </script>\n",
              "</div>\n",
              "\n",
              "  <div id=\"id_c227d10a-048b-4fc6-9a2a-00342f54b8f2\">\n",
              "    <style>\n",
              "      .colab-df-generate {\n",
              "        background-color: #E8F0FE;\n",
              "        border: none;\n",
              "        border-radius: 50%;\n",
              "        cursor: pointer;\n",
              "        display: none;\n",
              "        fill: #1967D2;\n",
              "        height: 32px;\n",
              "        padding: 0 0 0 0;\n",
              "        width: 32px;\n",
              "      }\n",
              "\n",
              "      .colab-df-generate:hover {\n",
              "        background-color: #E2EBFA;\n",
              "        box-shadow: 0px 1px 2px rgba(60, 64, 67, 0.3), 0px 1px 3px 1px rgba(60, 64, 67, 0.15);\n",
              "        fill: #174EA6;\n",
              "      }\n",
              "\n",
              "      [theme=dark] .colab-df-generate {\n",
              "        background-color: #3B4455;\n",
              "        fill: #D2E3FC;\n",
              "      }\n",
              "\n",
              "      [theme=dark] .colab-df-generate:hover {\n",
              "        background-color: #434B5C;\n",
              "        box-shadow: 0px 1px 3px 1px rgba(0, 0, 0, 0.15);\n",
              "        filter: drop-shadow(0px 1px 2px rgba(0, 0, 0, 0.3));\n",
              "        fill: #FFFFFF;\n",
              "      }\n",
              "    </style>\n",
              "    <button class=\"colab-df-generate\" onclick=\"generateWithVariable('df')\"\n",
              "            title=\"Generate code using this dataframe.\"\n",
              "            style=\"display:none;\">\n",
              "\n",
              "  <svg xmlns=\"http://www.w3.org/2000/svg\" height=\"24px\"viewBox=\"0 0 24 24\"\n",
              "       width=\"24px\">\n",
              "    <path d=\"M7,19H8.4L18.45,9,17,7.55,7,17.6ZM5,21V16.75L18.45,3.32a2,2,0,0,1,2.83,0l1.4,1.43a1.91,1.91,0,0,1,.58,1.4,1.91,1.91,0,0,1-.58,1.4L9.25,21ZM18.45,9,17,7.55Zm-12,3A5.31,5.31,0,0,0,4.9,8.1,5.31,5.31,0,0,0,1,6.5,5.31,5.31,0,0,0,4.9,4.9,5.31,5.31,0,0,0,6.5,1,5.31,5.31,0,0,0,8.1,4.9,5.31,5.31,0,0,0,12,6.5,5.46,5.46,0,0,0,6.5,12Z\"/>\n",
              "  </svg>\n",
              "    </button>\n",
              "    <script>\n",
              "      (() => {\n",
              "      const buttonEl =\n",
              "        document.querySelector('#id_c227d10a-048b-4fc6-9a2a-00342f54b8f2 button.colab-df-generate');\n",
              "      buttonEl.style.display =\n",
              "        google.colab.kernel.accessAllowed ? 'block' : 'none';\n",
              "\n",
              "      buttonEl.onclick = () => {\n",
              "        google.colab.notebook.generateWithVariable('df');\n",
              "      }\n",
              "      })();\n",
              "    </script>\n",
              "  </div>\n",
              "\n",
              "    </div>\n",
              "  </div>\n"
            ]
          },
          "metadata": {},
          "execution_count": 4
        }
      ],
      "source": [
        "df # AS STATED ABOVE, YOU MAY REMOVE THIS AND THE ABOVE BLOCKS OF CODE IF YOU LIKE, THIS WILL HAVE NO"
      ]
    },
    {
      "cell_type": "code",
      "execution_count": 5,
      "id": "3eb86201",
      "metadata": {
        "colab": {
          "base_uri": "https://localhost:8080/"
        },
        "id": "3eb86201",
        "outputId": "d6b37d1c-34a2-49a8-f92a-0d9bc738a387"
      },
      "outputs": [
        {
          "output_type": "execute_result",
          "data": {
            "text/plain": [
              "(81200, 6)"
            ]
          },
          "metadata": {},
          "execution_count": 5
        }
      ],
      "source": [
        "x.shape ### IN THE FOLLOWING PARTS OF THE CODE, MAKE SURE THAT EVERYTING IS LOADED CORRECTLY, YOU SHOULD HAVE A DATASET WITH 22 CLASSES, (n-rows, 6 columns, later another dimension will be added here)"
      ]
    },
    {
      "cell_type": "code",
      "execution_count": 6,
      "id": "6b640bf8",
      "metadata": {
        "colab": {
          "base_uri": "https://localhost:8080/"
        },
        "id": "6b640bf8",
        "outputId": "0ceb38be-3374-4b3f-dd9f-20c2cf6d9c41"
      },
      "outputs": [
        {
          "output_type": "execute_result",
          "data": {
            "text/plain": [
              "(81200,)"
            ]
          },
          "metadata": {},
          "execution_count": 6
        }
      ],
      "source": [
        "y.shape"
      ]
    },
    {
      "cell_type": "code",
      "execution_count": 7,
      "id": "9650592c",
      "metadata": {
        "colab": {
          "base_uri": "https://localhost:8080/"
        },
        "id": "9650592c",
        "outputId": "411defb3-5bce-44eb-8649-4f4bc1f24154"
      },
      "outputs": [
        {
          "output_type": "execute_result",
          "data": {
            "text/plain": [
              "array([ 0,  1,  2,  3,  4,  5,  6,  7,  8,  9, 10, 11, 12, 13, 14, 15, 16,\n",
              "       17, 18, 19, 20, 21])"
            ]
          },
          "metadata": {},
          "execution_count": 7
        }
      ],
      "source": [
        "np.unique(y)"
      ]
    },
    {
      "cell_type": "code",
      "execution_count": 8,
      "id": "0edc69b6",
      "metadata": {
        "colab": {
          "base_uri": "https://localhost:8080/"
        },
        "id": "0edc69b6",
        "outputId": "67666dce-f04e-405e-c793-9807b9717154"
      },
      "outputs": [
        {
          "output_type": "execute_result",
          "data": {
            "text/plain": [
              "array([-0., -0., -0., -0.,  0.,  0.])"
            ]
          },
          "metadata": {},
          "execution_count": 8
        }
      ],
      "source": [
        "x[0]"
      ]
    },
    {
      "cell_type": "code",
      "execution_count": 9,
      "id": "b4eec323",
      "metadata": {
        "colab": {
          "base_uri": "https://localhost:8080/"
        },
        "id": "b4eec323",
        "outputId": "baa30d21-05db-494a-a42f-bb82d031797c"
      },
      "outputs": [
        {
          "output_type": "execute_result",
          "data": {
            "text/plain": [
              "0"
            ]
          },
          "metadata": {},
          "execution_count": 9
        }
      ],
      "source": [
        "y[0] # these were sample rows from the data for your to inspect, you should see a 6 by 1 vector above and a single value here"
      ]
    },
    {
      "cell_type": "code",
      "execution_count": 10,
      "id": "9db6440b",
      "metadata": {
        "id": "9db6440b"
      },
      "outputs": [],
      "source": [
        "# Split the data into training, validation, and testing sets\n",
        "x_train, x_test, y_train, y_test = train_test_split(x, y, test_size=0.1, random_state=42)\n",
        "x_train, x_val, y_train, y_val = train_test_split(x_train, y_train, test_size=0.2, random_state=42)"
      ]
    },
    {
      "cell_type": "code",
      "execution_count": 11,
      "id": "0b135163",
      "metadata": {
        "id": "0b135163"
      },
      "outputs": [],
      "source": [
        "# Reshape the data\n",
        "x_train = x_train.reshape((x_train.shape[0], x_train.shape[1], 1))\n",
        "x_val = x_val.reshape((x_val.shape[0], x_val.shape[1], 1))\n",
        "x_test = x_test.reshape((x_test.shape[0], x_test.shape[1], 1))"
      ]
    },
    {
      "cell_type": "code",
      "execution_count": 12,
      "id": "936243fe",
      "metadata": {
        "id": "936243fe"
      },
      "outputs": [],
      "source": [
        "# Determine the input shape and number of classes\n",
        "input_shape = (x_train.shape[1], 1)\n",
        "num_classes = len(np.unique(y))"
      ]
    },
    {
      "cell_type": "code",
      "execution_count": 13,
      "id": "4cb2989e",
      "metadata": {
        "colab": {
          "base_uri": "https://localhost:8080/"
        },
        "id": "4cb2989e",
        "outputId": "4ba492a1-ca79-4d3f-e2ab-c25fb953444c"
      },
      "outputs": [
        {
          "output_type": "execute_result",
          "data": {
            "text/plain": [
              "22"
            ]
          },
          "metadata": {},
          "execution_count": 13
        }
      ],
      "source": [
        "num_classes # must have 22"
      ]
    },
    {
      "cell_type": "code",
      "execution_count": 14,
      "id": "26c6890e",
      "metadata": {
        "colab": {
          "base_uri": "https://localhost:8080/"
        },
        "id": "26c6890e",
        "outputId": "7642ce6a-006a-41ad-94a0-a3f14a7a26e9"
      },
      "outputs": [
        {
          "output_type": "execute_result",
          "data": {
            "text/plain": [
              "(6, 1)"
            ]
          },
          "metadata": {},
          "execution_count": 14
        }
      ],
      "source": [
        "input_shape"
      ]
    },
    {
      "cell_type": "code",
      "execution_count": 15,
      "id": "859aa647",
      "metadata": {
        "colab": {
          "base_uri": "https://localhost:8080/"
        },
        "id": "859aa647",
        "outputId": "153aaa6a-84b4-4ecf-f77b-3d000e365773"
      },
      "outputs": [
        {
          "output_type": "execute_result",
          "data": {
            "text/plain": [
              "(58464, 6, 1)"
            ]
          },
          "metadata": {},
          "execution_count": 15
        }
      ],
      "source": [
        "x_train.shape"
      ]
    },
    {
      "cell_type": "code",
      "execution_count": 16,
      "id": "eab565dd",
      "metadata": {
        "colab": {
          "base_uri": "https://localhost:8080/"
        },
        "id": "eab565dd",
        "outputId": "ed24d6c6-d6c4-4301-87a8-67c30854e0f7"
      },
      "outputs": [
        {
          "output_type": "execute_result",
          "data": {
            "text/plain": [
              "(58464,)"
            ]
          },
          "metadata": {},
          "execution_count": 16
        }
      ],
      "source": [
        "y_train.shape"
      ]
    },
    {
      "cell_type": "code",
      "execution_count": 17,
      "id": "ab950213",
      "metadata": {
        "colab": {
          "base_uri": "https://localhost:8080/"
        },
        "id": "ab950213",
        "outputId": "7a8c1fa1-58a5-4467-c9a1-7adee2be204f"
      },
      "outputs": [
        {
          "output_type": "execute_result",
          "data": {
            "text/plain": [
              "array([[  5.603017],\n",
              "       [ -3.832383],\n",
              "       [144.152039],\n",
              "       [  1.588381],\n",
              "       [  1.38382 ],\n",
              "       [ -0.591574]])"
            ]
          },
          "metadata": {},
          "execution_count": 17
        }
      ],
      "source": [
        "x_train[0]"
      ]
    },
    {
      "cell_type": "code",
      "execution_count": 18,
      "id": "7f11432f",
      "metadata": {
        "colab": {
          "base_uri": "https://localhost:8080/"
        },
        "id": "7f11432f",
        "outputId": "7d294455-a7ca-4fe7-d859-fb5739338418"
      },
      "outputs": [
        {
          "output_type": "execute_result",
          "data": {
            "text/plain": [
              "19"
            ]
          },
          "metadata": {},
          "execution_count": 18
        }
      ],
      "source": [
        "y_train[0]"
      ]
    },
    {
      "cell_type": "code",
      "execution_count": 19,
      "id": "cd51204b",
      "metadata": {
        "id": "cd51204b"
      },
      "outputs": [],
      "source": [
        "# Transformer Encoder function with dropout and L2 regularization\n",
        "def transformer_encoder(inputs, head_size, num_heads, ff_dim, dropout=0.1, l2_reg=0.01):\n",
        "\n",
        "    x = layers.MultiHeadAttention(key_dim=head_size, num_heads=num_heads, dropout=dropout)(inputs, inputs)\n",
        "    x = layers.Dropout(dropout)(x)\n",
        "    x = layers.LayerNormalization(epsilon=1e-6)(x)\n",
        "    res = x + inputs\n",
        "\n",
        "    # Feed-forward network with dropout and L2 regularization\n",
        "    x = layers.Dense(ff_dim, activation=\"relu\", kernel_regularizer=keras.regularizers.l2(l2_reg))(res)\n",
        "    x = layers.Dropout(dropout)(x)\n",
        "\n",
        "    x = layers.Dense(ff_dim, activation=\"relu\", kernel_regularizer=keras.regularizers.l2(l2_reg))(x)\n",
        "    x = layers.Dropout(dropout)(x)\n",
        "\n",
        "    '''\n",
        "    YOU MAY WANT TO ADD OR REMOVE THESE TWO LINES HERE PRECISELY IN THIS PART OF THE CODE, PAY ATTENTION TO THE INDENTATION, PYTHON REQUIRES CONSISTENCY IN ORDER FOR THE CODE TO RUN CORRECTLY\n",
        "    x = layers.Dense(ff_dim, activation=\"relu\", kernel_regularizer=keras.regularizers.l2(l2_reg))(x)\n",
        "    x = layers.Dropout(dropout)(x)\n",
        "\n",
        "    '''\n",
        "\n",
        "    x = layers.Dense(ff_dim, activation=\"relu\", kernel_regularizer=keras.regularizers.l2(l2_reg))(x)\n",
        "    x = layers.Dropout(dropout)(x)\n",
        "\n",
        "    x = layers.Dense(inputs.shape[-1], activation = 'softmax')(x)\n",
        "    x = layers.LayerNormalization(epsilon=1e-6)(x)\n",
        "\n",
        "    return x + res"
      ]
    },
    {
      "cell_type": "code",
      "execution_count": 20,
      "id": "9df843aa",
      "metadata": {
        "id": "9df843aa"
      },
      "outputs": [],
      "source": [
        "# Transformer Decoder function\n",
        "def transformer_decoder(inputs, enc_outputs, head_size, num_heads, ff_dim, dropout=0.1, l2_reg=0.01):\n",
        "    x = layers.MultiHeadAttention(key_dim=head_size, num_heads=num_heads, dropout=dropout)(inputs, inputs)\n",
        "    x = layers.Dropout(dropout)(x)\n",
        "    x = layers.LayerNormalization(epsilon=1e-6)(x)\n",
        "    res = x + inputs\n",
        "\n",
        "    x = layers.MultiHeadAttention(key_dim=head_size, num_heads=num_heads, dropout=dropout)(res, enc_outputs)\n",
        "    x = layers.Dropout(dropout)(x)\n",
        "    x = layers.LayerNormalization(epsilon=1e-6)(x)\n",
        "    x = x + res\n",
        "\n",
        "    # Feed-forward network\n",
        "    x = layers.Dense(ff_dim, activation=\"relu\", kernel_regularizer=keras.regularizers.l2(l2_reg))(x)\n",
        "    x = layers.Dropout(dropout)(x)\n",
        "\n",
        "    x = layers.Dense(ff_dim, activation=\"relu\", kernel_regularizer=keras.regularizers.l2(l2_reg))(x)\n",
        "    x = layers.Dropout(dropout)(x)\n",
        "\n",
        "    '''\n",
        "    YOU MAY WANT TO ADD OR REMOVE THESE TWO LINES HERE PRECISELY IN THIS PART OF THE CODE, PAY ATTENTION TO THE INDENTATION, PYTHON REQUIRES CONSISTENCY IN ORDER FOR THE CODE TO RUN CORRECTLY\n",
        "    x = layers.Dense(ff_dim, activation=\"relu\", kernel_regularizer=keras.regularizers.l2(l2_reg))(x)\n",
        "    x = layers.Dropout(dropout)(x)\n",
        "\n",
        "    '''\n",
        "\n",
        "    x = layers.Dense(ff_dim, activation=\"relu\", kernel_regularizer=keras.regularizers.l2(l2_reg))(x)\n",
        "    x = layers.Dropout(dropout)(x)\n",
        "\n",
        "    x = layers.Dense(inputs.shape[-1], activation = 'softmax')(x)\n",
        "    x = layers.LayerNormalization(epsilon=1e-6)(x)\n",
        "\n",
        "    return x + res\n"
      ]
    },
    {
      "cell_type": "code",
      "execution_count": 22,
      "id": "d9851305",
      "metadata": {
        "id": "d9851305"
      },
      "outputs": [],
      "source": [
        "# Build the model\n",
        "def build_model(input_shape, head_size, num_heads, ff_dim, num_transformer_blocks, mlp_units, dropout=0, mlp_dropout=0, l2_reg=0):\n",
        "    inputs = keras.Input(shape=input_shape)\n",
        "    x = inputs\n",
        "\n",
        "    # Encoder\n",
        "    for _ in range(num_transformer_blocks):\n",
        "        x = transformer_encoder(x, head_size, num_heads, ff_dim, dropout, l2_reg)\n",
        "\n",
        "\n",
        "    # Decoder\n",
        "    decoder_input = keras.Input(shape=input_shape)\n",
        "    dec = decoder_input\n",
        "    for _ in range(num_transformer_blocks):\n",
        "        dec = transformer_decoder(dec, x, head_size, num_heads, ff_dim, dropout, l2_reg)\n",
        "\n",
        "    x = layers.Flatten()(x)\n",
        "    dec = layers.Flatten()(dec)\n",
        "    x = layers.Concatenate()([x, dec])\n",
        "\n",
        "    for dim in mlp_units:\n",
        "        x = layers.Dense(dim, activation=\"relu\")(x)\n",
        "        x = layers.Dropout(mlp_dropout)(x)\n",
        "\n",
        "    outputs = layers.Dense(num_classes, activation=\"softmax\")(x)\n",
        "\n",
        "    model = keras.Model([inputs, decoder_input], outputs)\n",
        "    return model"
      ]
    },
    {
      "cell_type": "code",
      "execution_count": 37,
      "id": "1d648db6",
      "metadata": {
        "id": "1d648db6"
      },
      "outputs": [],
      "source": [
        "# Define the hyperparameters\n",
        "\"\"\"\n",
        "# THIS IS THE PART YOU SHOULD PLAY AROUND WITH\n",
        "# YOU MAY REDUCE THESE NUMBERS IF YOUR MACHINE IS OTHERWISE INCAPABLE OF RUNNING THE CODE\"\"\"\n",
        "\n",
        "head_size = 4\n",
        "num_heads = 4\n",
        "ff_dim = 256\n",
        "num_transformer_blocks = 4\n",
        "\n",
        "mlp_units = [256]\n",
        "dropout = 0.1\n",
        "mlp_dropout = 0.1\n",
        "initial_lr = 0.001\n",
        "l2_reg=0.01"
      ]
    },
    {
      "cell_type": "code",
      "execution_count": 38,
      "id": "6c794103",
      "metadata": {
        "id": "6c794103"
      },
      "outputs": [],
      "source": [
        "# Build the model\n",
        "model = build_model(input_shape, head_size, num_heads, ff_dim, num_transformer_blocks, mlp_units, dropout, mlp_dropout)"
      ]
    },
    {
      "cell_type": "code",
      "execution_count": 39,
      "id": "64e4c3ef",
      "metadata": {
        "id": "64e4c3ef"
      },
      "outputs": [],
      "source": [
        "# Create the optimizer with the initial learning rate\n",
        "optimizer = Adam(learning_rate=initial_lr)"
      ]
    },
    {
      "cell_type": "code",
      "execution_count": 40,
      "id": "0e19e795",
      "metadata": {
        "id": "0e19e795"
      },
      "outputs": [],
      "source": [
        "# Compile the model\n",
        "model.compile(optimizer=optimizer, loss=\"sparse_categorical_crossentropy\", metrics=[\"accuracy\"])"
      ]
    },
    {
      "cell_type": "code",
      "execution_count": 41,
      "id": "02a51f0f",
      "metadata": {
        "id": "02a51f0f"
      },
      "outputs": [],
      "source": [
        "# Create the ReduceLROnPlateau callback\n",
        "lr_callback = ReduceLROnPlateau(factor=0.1, patience=50)"
      ]
    },
    {
      "cell_type": "code",
      "execution_count": 42,
      "id": "511f6219",
      "metadata": {
        "id": "511f6219"
      },
      "outputs": [],
      "source": [
        "# Record the start time\n",
        "start_time = time.time()"
      ]
    },
    {
      "cell_type": "code",
      "execution_count": null,
      "id": "19d80153",
      "metadata": {
        "colab": {
          "base_uri": "https://localhost:8080/"
        },
        "id": "19d80153",
        "outputId": "e6d99c0b-417b-4d2d-f13d-f9d7aeb9b80f"
      },
      "outputs": [
        {
          "output_type": "stream",
          "name": "stdout",
          "text": [
            "Epoch 1/100\n",
            "914/914 [==============================] - 102s 74ms/step - loss: 2.1134 - accuracy: 0.5345 - val_loss: 0.8104 - val_accuracy: 0.6923 - lr: 0.0010\n",
            "Epoch 2/100\n",
            "914/914 [==============================] - 64s 70ms/step - loss: 0.7437 - accuracy: 0.7356 - val_loss: 0.5520 - val_accuracy: 0.8240 - lr: 0.0010\n",
            "Epoch 3/100\n",
            "914/914 [==============================] - 64s 70ms/step - loss: 0.5084 - accuracy: 0.8224 - val_loss: 0.4067 - val_accuracy: 0.8720 - lr: 0.0010\n",
            "Epoch 4/100\n",
            "914/914 [==============================] - 65s 72ms/step - loss: 0.3930 - accuracy: 0.8641 - val_loss: 0.3392 - val_accuracy: 0.8716 - lr: 0.0010\n",
            "Epoch 5/100\n",
            "914/914 [==============================] - 64s 70ms/step - loss: 0.3261 - accuracy: 0.8887 - val_loss: 0.2664 - val_accuracy: 0.9181 - lr: 0.0010\n",
            "Epoch 6/100\n",
            "914/914 [==============================] - 62s 68ms/step - loss: 0.2757 - accuracy: 0.9054 - val_loss: 0.2287 - val_accuracy: 0.9224 - lr: 0.0010\n",
            "Epoch 7/100\n",
            "914/914 [==============================] - 65s 71ms/step - loss: 0.2473 - accuracy: 0.9142 - val_loss: 0.2108 - val_accuracy: 0.9296 - lr: 0.0010\n",
            "Epoch 8/100\n",
            "914/914 [==============================] - 64s 69ms/step - loss: 0.2227 - accuracy: 0.9215 - val_loss: 0.2471 - val_accuracy: 0.9009 - lr: 0.0010\n",
            "Epoch 9/100\n",
            "914/914 [==============================] - 65s 71ms/step - loss: 0.2115 - accuracy: 0.9235 - val_loss: 0.1756 - val_accuracy: 0.9373 - lr: 0.0010\n",
            "Epoch 10/100\n",
            "914/914 [==============================] - 65s 71ms/step - loss: 0.1983 - accuracy: 0.9275 - val_loss: 0.1742 - val_accuracy: 0.9359 - lr: 0.0010\n",
            "Epoch 11/100\n",
            "914/914 [==============================] - 67s 73ms/step - loss: 0.1852 - accuracy: 0.9321 - val_loss: 0.1707 - val_accuracy: 0.9412 - lr: 0.0010\n",
            "Epoch 12/100\n",
            "914/914 [==============================] - 66s 72ms/step - loss: 0.1841 - accuracy: 0.9327 - val_loss: 0.1595 - val_accuracy: 0.9416 - lr: 0.0010\n",
            "Epoch 13/100\n",
            "914/914 [==============================] - 65s 71ms/step - loss: 0.1722 - accuracy: 0.9352 - val_loss: 0.1910 - val_accuracy: 0.9345 - lr: 0.0010\n",
            "Epoch 14/100\n",
            "914/914 [==============================] - 66s 72ms/step - loss: 0.1708 - accuracy: 0.9371 - val_loss: 0.1539 - val_accuracy: 0.9399 - lr: 0.0010\n",
            "Epoch 15/100\n",
            "914/914 [==============================] - 66s 72ms/step - loss: 0.1646 - accuracy: 0.9378 - val_loss: 0.1509 - val_accuracy: 0.9428 - lr: 0.0010\n",
            "Epoch 16/100\n",
            "914/914 [==============================] - 65s 71ms/step - loss: 0.1661 - accuracy: 0.9372 - val_loss: 0.1410 - val_accuracy: 0.9452 - lr: 0.0010\n",
            "Epoch 17/100\n",
            "914/914 [==============================] - 65s 71ms/step - loss: 0.1590 - accuracy: 0.9399 - val_loss: 0.1476 - val_accuracy: 0.9480 - lr: 0.0010\n",
            "Epoch 18/100\n",
            "914/914 [==============================] - 67s 73ms/step - loss: 0.1569 - accuracy: 0.9410 - val_loss: 0.1993 - val_accuracy: 0.9206 - lr: 0.0010\n",
            "Epoch 19/100\n",
            "914/914 [==============================] - 64s 70ms/step - loss: 0.1577 - accuracy: 0.9400 - val_loss: 0.1373 - val_accuracy: 0.9498 - lr: 0.0010\n",
            "Epoch 20/100\n",
            "914/914 [==============================] - 65s 71ms/step - loss: 0.1557 - accuracy: 0.9407 - val_loss: 0.1438 - val_accuracy: 0.9498 - lr: 0.0010\n",
            "Epoch 21/100\n",
            "914/914 [==============================] - 66s 72ms/step - loss: 0.1529 - accuracy: 0.9414 - val_loss: 0.1342 - val_accuracy: 0.9537 - lr: 0.0010\n",
            "Epoch 22/100\n",
            "914/914 [==============================] - 66s 72ms/step - loss: 0.1469 - accuracy: 0.9438 - val_loss: 0.1508 - val_accuracy: 0.9411 - lr: 0.0010\n",
            "Epoch 23/100\n",
            "914/914 [==============================] - 66s 72ms/step - loss: 0.1551 - accuracy: 0.9412 - val_loss: 0.1287 - val_accuracy: 0.9466 - lr: 0.0010\n",
            "Epoch 24/100\n",
            "914/914 [==============================] - 66s 72ms/step - loss: 0.1451 - accuracy: 0.9441 - val_loss: 0.1474 - val_accuracy: 0.9446 - lr: 0.0010\n",
            "Epoch 25/100\n",
            "914/914 [==============================] - 66s 72ms/step - loss: 0.1534 - accuracy: 0.9411 - val_loss: 0.1289 - val_accuracy: 0.9492 - lr: 0.0010\n",
            "Epoch 26/100\n",
            "914/914 [==============================] - 66s 72ms/step - loss: 0.1478 - accuracy: 0.9433 - val_loss: 0.1459 - val_accuracy: 0.9427 - lr: 0.0010\n",
            "Epoch 27/100\n",
            "914/914 [==============================] - 64s 70ms/step - loss: 0.1478 - accuracy: 0.9423 - val_loss: 0.1227 - val_accuracy: 0.9514 - lr: 0.0010\n",
            "Epoch 28/100\n",
            "914/914 [==============================] - 66s 73ms/step - loss: 0.1453 - accuracy: 0.9448 - val_loss: 0.1565 - val_accuracy: 0.9368 - lr: 0.0010\n",
            "Epoch 29/100\n",
            "914/914 [==============================] - 65s 71ms/step - loss: 0.1498 - accuracy: 0.9424 - val_loss: 0.1462 - val_accuracy: 0.9418 - lr: 0.0010\n",
            "Epoch 30/100\n",
            "914/914 [==============================] - 65s 71ms/step - loss: 0.1452 - accuracy: 0.9435 - val_loss: 0.1442 - val_accuracy: 0.9449 - lr: 0.0010\n",
            "Epoch 31/100\n",
            "914/914 [==============================] - 65s 71ms/step - loss: 0.1492 - accuracy: 0.9428 - val_loss: 0.1484 - val_accuracy: 0.9458 - lr: 0.0010\n",
            "Epoch 32/100\n",
            "914/914 [==============================] - 66s 72ms/step - loss: 0.1386 - accuracy: 0.9465 - val_loss: 0.1324 - val_accuracy: 0.9485 - lr: 0.0010\n",
            "Epoch 33/100\n",
            "914/914 [==============================] - 63s 69ms/step - loss: 0.1465 - accuracy: 0.9439 - val_loss: 0.1241 - val_accuracy: 0.9525 - lr: 0.0010\n",
            "Epoch 34/100\n",
            "914/914 [==============================] - 65s 71ms/step - loss: 0.1413 - accuracy: 0.9448 - val_loss: 0.1500 - val_accuracy: 0.9442 - lr: 0.0010\n",
            "Epoch 35/100\n",
            "914/914 [==============================] - 66s 72ms/step - loss: 0.1447 - accuracy: 0.9442 - val_loss: 0.1407 - val_accuracy: 0.9461 - lr: 0.0010\n",
            "Epoch 36/100\n",
            "914/914 [==============================] - 65s 71ms/step - loss: 0.1428 - accuracy: 0.9448 - val_loss: 0.1328 - val_accuracy: 0.9516 - lr: 0.0010\n",
            "Epoch 37/100\n",
            "914/914 [==============================] - 66s 72ms/step - loss: 0.1452 - accuracy: 0.9444 - val_loss: 0.1292 - val_accuracy: 0.9463 - lr: 0.0010\n",
            "Epoch 38/100\n",
            "914/914 [==============================] - 66s 72ms/step - loss: 0.1366 - accuracy: 0.9464 - val_loss: 0.1191 - val_accuracy: 0.9553 - lr: 0.0010\n",
            "Epoch 39/100\n",
            "914/914 [==============================] - 68s 74ms/step - loss: 0.1451 - accuracy: 0.9437 - val_loss: 0.1255 - val_accuracy: 0.9507 - lr: 0.0010\n",
            "Epoch 40/100\n",
            "914/914 [==============================] - 65s 71ms/step - loss: 0.1334 - accuracy: 0.9480 - val_loss: 0.1283 - val_accuracy: 0.9516 - lr: 0.0010\n",
            "Epoch 41/100\n",
            "914/914 [==============================] - 65s 71ms/step - loss: 0.1508 - accuracy: 0.9441 - val_loss: 0.1309 - val_accuracy: 0.9464 - lr: 0.0010\n",
            "Epoch 42/100\n",
            "914/914 [==============================] - 64s 70ms/step - loss: 0.1353 - accuracy: 0.9475 - val_loss: 0.1421 - val_accuracy: 0.9490 - lr: 0.0010\n",
            "Epoch 43/100\n",
            "914/914 [==============================] - 63s 69ms/step - loss: 0.1392 - accuracy: 0.9457 - val_loss: 0.1410 - val_accuracy: 0.9400 - lr: 0.0010\n",
            "Epoch 44/100\n",
            "914/914 [==============================] - 62s 67ms/step - loss: 0.1396 - accuracy: 0.9459 - val_loss: 0.1278 - val_accuracy: 0.9508 - lr: 0.0010\n",
            "Epoch 45/100\n",
            "914/914 [==============================] - 62s 67ms/step - loss: 0.1432 - accuracy: 0.9454 - val_loss: 0.1181 - val_accuracy: 0.9553 - lr: 0.0010\n",
            "Epoch 46/100\n",
            "914/914 [==============================] - 62s 68ms/step - loss: 0.1394 - accuracy: 0.9470 - val_loss: 0.1301 - val_accuracy: 0.9490 - lr: 0.0010\n",
            "Epoch 47/100\n",
            "914/914 [==============================] - 62s 68ms/step - loss: 0.1340 - accuracy: 0.9478 - val_loss: 0.1618 - val_accuracy: 0.9412 - lr: 0.0010\n",
            "Epoch 48/100\n",
            "914/914 [==============================] - 61s 67ms/step - loss: 0.1383 - accuracy: 0.9461 - val_loss: 0.1261 - val_accuracy: 0.9515 - lr: 0.0010\n",
            "Epoch 49/100\n",
            "914/914 [==============================] - 62s 68ms/step - loss: 0.1372 - accuracy: 0.9472 - val_loss: 0.1153 - val_accuracy: 0.9534 - lr: 0.0010\n",
            "Epoch 50/100\n",
            "914/914 [==============================] - 64s 70ms/step - loss: 0.1387 - accuracy: 0.9465 - val_loss: 0.1328 - val_accuracy: 0.9482 - lr: 0.0010\n",
            "Epoch 51/100\n",
            "914/914 [==============================] - 62s 68ms/step - loss: 0.1351 - accuracy: 0.9476 - val_loss: 0.1241 - val_accuracy: 0.9519 - lr: 0.0010\n",
            "Epoch 52/100\n",
            "914/914 [==============================] - 63s 69ms/step - loss: 0.1455 - accuracy: 0.9449 - val_loss: 0.1145 - val_accuracy: 0.9563 - lr: 0.0010\n",
            "Epoch 53/100\n",
            "914/914 [==============================] - 61s 66ms/step - loss: 0.1346 - accuracy: 0.9476 - val_loss: 0.1223 - val_accuracy: 0.9515 - lr: 0.0010\n",
            "Epoch 54/100\n",
            "914/914 [==============================] - 62s 68ms/step - loss: 0.1318 - accuracy: 0.9489 - val_loss: 0.1475 - val_accuracy: 0.9392 - lr: 0.0010\n",
            "Epoch 55/100\n",
            "914/914 [==============================] - 61s 66ms/step - loss: 0.1369 - accuracy: 0.9469 - val_loss: 0.1602 - val_accuracy: 0.9367 - lr: 0.0010\n",
            "Epoch 56/100\n",
            "914/914 [==============================] - 60s 66ms/step - loss: 0.1339 - accuracy: 0.9488 - val_loss: 0.1229 - val_accuracy: 0.9499 - lr: 0.0010\n",
            "Epoch 57/100\n",
            "914/914 [==============================] - 61s 67ms/step - loss: 0.1297 - accuracy: 0.9492 - val_loss: 0.1338 - val_accuracy: 0.9468 - lr: 0.0010\n",
            "Epoch 58/100\n",
            "914/914 [==============================] - 62s 68ms/step - loss: 0.1393 - accuracy: 0.9460 - val_loss: 0.1202 - val_accuracy: 0.9554 - lr: 0.0010\n",
            "Epoch 59/100\n",
            "914/914 [==============================] - 61s 67ms/step - loss: 0.1314 - accuracy: 0.9489 - val_loss: 0.1117 - val_accuracy: 0.9512 - lr: 0.0010\n",
            "Epoch 60/100\n",
            "914/914 [==============================] - 61s 67ms/step - loss: 0.1347 - accuracy: 0.9481 - val_loss: 0.1463 - val_accuracy: 0.9454 - lr: 0.0010\n",
            "Epoch 61/100\n",
            "914/914 [==============================] - 62s 68ms/step - loss: 0.1512 - accuracy: 0.9459 - val_loss: 0.1228 - val_accuracy: 0.9498 - lr: 0.0010\n",
            "Epoch 62/100\n",
            "914/914 [==============================] - 62s 68ms/step - loss: 0.1326 - accuracy: 0.9496 - val_loss: 0.1114 - val_accuracy: 0.9566 - lr: 0.0010\n",
            "Epoch 63/100\n",
            "914/914 [==============================] - 61s 67ms/step - loss: 0.1310 - accuracy: 0.9485 - val_loss: 0.1251 - val_accuracy: 0.9497 - lr: 0.0010\n",
            "Epoch 64/100\n",
            "914/914 [==============================] - 61s 66ms/step - loss: 0.1227 - accuracy: 0.9514 - val_loss: 0.1101 - val_accuracy: 0.9548 - lr: 0.0010\n",
            "Epoch 65/100\n",
            "914/914 [==============================] - 60s 65ms/step - loss: 0.1416 - accuracy: 0.9453 - val_loss: 0.1171 - val_accuracy: 0.9530 - lr: 0.0010\n",
            "Epoch 66/100\n",
            "914/914 [==============================] - 62s 68ms/step - loss: 0.1338 - accuracy: 0.9481 - val_loss: 0.1217 - val_accuracy: 0.9509 - lr: 0.0010\n",
            "Epoch 67/100\n",
            "914/914 [==============================] - 60s 66ms/step - loss: 0.1336 - accuracy: 0.9485 - val_loss: 0.1122 - val_accuracy: 0.9555 - lr: 0.0010\n",
            "Epoch 68/100\n",
            "914/914 [==============================] - 61s 67ms/step - loss: 0.1276 - accuracy: 0.9505 - val_loss: 0.1395 - val_accuracy: 0.9430 - lr: 0.0010\n",
            "Epoch 69/100\n",
            "914/914 [==============================] - 61s 67ms/step - loss: 0.1345 - accuracy: 0.9478 - val_loss: 0.1193 - val_accuracy: 0.9501 - lr: 0.0010\n",
            "Epoch 70/100\n",
            "914/914 [==============================] - 63s 69ms/step - loss: 0.1305 - accuracy: 0.9496 - val_loss: 0.1372 - val_accuracy: 0.9507 - lr: 0.0010\n",
            "Epoch 71/100\n",
            "914/914 [==============================] - 62s 68ms/step - loss: 0.1337 - accuracy: 0.9480 - val_loss: 0.1176 - val_accuracy: 0.9526 - lr: 0.0010\n",
            "Epoch 72/100\n",
            "914/914 [==============================] - 62s 67ms/step - loss: 0.1324 - accuracy: 0.9491 - val_loss: 0.1092 - val_accuracy: 0.9569 - lr: 0.0010\n",
            "Epoch 73/100\n",
            "914/914 [==============================] - 62s 68ms/step - loss: 0.1300 - accuracy: 0.9498 - val_loss: 0.1147 - val_accuracy: 0.9557 - lr: 0.0010\n",
            "Epoch 74/100\n",
            "914/914 [==============================] - 61s 67ms/step - loss: 0.1349 - accuracy: 0.9483 - val_loss: 0.1243 - val_accuracy: 0.9509 - lr: 0.0010\n",
            "Epoch 75/100\n",
            "914/914 [==============================] - 62s 67ms/step - loss: 0.1388 - accuracy: 0.9478 - val_loss: 0.1371 - val_accuracy: 0.9514 - lr: 0.0010\n",
            "Epoch 76/100\n",
            "914/914 [==============================] - 62s 68ms/step - loss: 0.1295 - accuracy: 0.9496 - val_loss: 0.1167 - val_accuracy: 0.9516 - lr: 0.0010\n",
            "Epoch 77/100\n",
            "914/914 [==============================] - 62s 68ms/step - loss: 0.1303 - accuracy: 0.9496 - val_loss: 0.1235 - val_accuracy: 0.9518 - lr: 0.0010\n",
            "Epoch 78/100\n",
            "914/914 [==============================] - 63s 69ms/step - loss: 0.1350 - accuracy: 0.9484 - val_loss: 0.1194 - val_accuracy: 0.9531 - lr: 0.0010\n",
            "Epoch 79/100\n",
            "914/914 [==============================] - 62s 68ms/step - loss: 0.1287 - accuracy: 0.9501 - val_loss: 0.1206 - val_accuracy: 0.9555 - lr: 0.0010\n",
            "Epoch 80/100\n",
            "914/914 [==============================] - 62s 68ms/step - loss: 0.1423 - accuracy: 0.9466 - val_loss: 0.1112 - val_accuracy: 0.9552 - lr: 0.0010\n",
            "Epoch 81/100\n",
            "914/914 [==============================] - 62s 68ms/step - loss: 0.1307 - accuracy: 0.9489 - val_loss: 0.1163 - val_accuracy: 0.9524 - lr: 0.0010\n",
            "Epoch 82/100\n",
            "914/914 [==============================] - 63s 69ms/step - loss: 0.1375 - accuracy: 0.9478 - val_loss: 0.1197 - val_accuracy: 0.9505 - lr: 0.0010\n",
            "Epoch 83/100\n",
            "914/914 [==============================] - 61s 67ms/step - loss: 0.1262 - accuracy: 0.9506 - val_loss: 0.1156 - val_accuracy: 0.9531 - lr: 0.0010\n",
            "Epoch 84/100\n",
            "914/914 [==============================] - 63s 69ms/step - loss: 0.1345 - accuracy: 0.9477 - val_loss: 0.1403 - val_accuracy: 0.9477 - lr: 0.0010\n",
            "Epoch 85/100\n",
            "914/914 [==============================] - 61s 66ms/step - loss: 0.1335 - accuracy: 0.9479 - val_loss: 0.1199 - val_accuracy: 0.9525 - lr: 0.0010\n",
            "Epoch 86/100\n",
            "914/914 [==============================] - 63s 69ms/step - loss: 0.1370 - accuracy: 0.9484 - val_loss: 0.1106 - val_accuracy: 0.9559 - lr: 0.0010\n",
            "Epoch 87/100\n",
            "914/914 [==============================] - 61s 66ms/step - loss: 0.1244 - accuracy: 0.9515 - val_loss: 0.1121 - val_accuracy: 0.9544 - lr: 0.0010\n",
            "Epoch 88/100\n",
            "914/914 [==============================] - 61s 67ms/step - loss: 0.1255 - accuracy: 0.9509 - val_loss: 0.1138 - val_accuracy: 0.9555 - lr: 0.0010\n",
            "Epoch 89/100\n",
            "914/914 [==============================] - 60s 66ms/step - loss: 0.1403 - accuracy: 0.9462 - val_loss: 0.1057 - val_accuracy: 0.9575 - lr: 0.0010\n",
            "Epoch 90/100\n",
            "914/914 [==============================] - 63s 68ms/step - loss: 0.1222 - accuracy: 0.9522 - val_loss: 0.1135 - val_accuracy: 0.9568 - lr: 0.0010\n",
            "Epoch 91/100\n",
            "914/914 [==============================] - 61s 67ms/step - loss: 0.1380 - accuracy: 0.9469 - val_loss: 0.1168 - val_accuracy: 0.9537 - lr: 0.0010\n",
            "Epoch 92/100\n",
            "914/914 [==============================] - 60s 65ms/step - loss: 0.1342 - accuracy: 0.9486 - val_loss: 0.1194 - val_accuracy: 0.9462 - lr: 0.0010\n",
            "Epoch 93/100\n",
            "914/914 [==============================] - 61s 67ms/step - loss: 0.1281 - accuracy: 0.9503 - val_loss: 0.1100 - val_accuracy: 0.9561 - lr: 0.0010\n",
            "Epoch 94/100\n",
            "914/914 [==============================] - 63s 69ms/step - loss: 0.1290 - accuracy: 0.9495 - val_loss: 0.1330 - val_accuracy: 0.9475 - lr: 0.0010\n",
            "Epoch 95/100\n",
            "914/914 [==============================] - 62s 68ms/step - loss: 0.1414 - accuracy: 0.9469 - val_loss: 0.1181 - val_accuracy: 0.9511 - lr: 0.0010\n",
            "Epoch 96/100\n",
            "262/914 [=======>......................] - ETA: 39s - loss: 0.1310 - accuracy: 0.9506"
          ]
        }
      ],
      "source": [
        "model.fit([x_train, x_train], y_train,\n",
        "          batch_size=64,\n",
        "          epochs=100,\n",
        "          validation_data=([x_val, x_val], y_val),\n",
        "          callbacks=[lr_callback])"
      ]
    },
    {
      "cell_type": "code",
      "execution_count": 44,
      "id": "3ffe7d0c",
      "metadata": {
        "id": "3ffe7d0c"
      },
      "outputs": [],
      "source": [
        "# Record the end time\n",
        "end_time = time.time()"
      ]
    },
    {
      "cell_type": "code",
      "execution_count": 45,
      "id": "e8dd9c65",
      "metadata": {
        "id": "e8dd9c65",
        "colab": {
          "base_uri": "https://localhost:8080/"
        },
        "outputId": "2cea3128-7672-47e7-b7b6-8c745daa53d7"
      },
      "outputs": [
        {
          "output_type": "stream",
          "name": "stdout",
          "text": [
            "Total Running Time: 7895.13 seconds\n"
          ]
        }
      ],
      "source": [
        "# Calculate the total running time\n",
        "running_time = end_time - start_time\n",
        "print(\"Total Running Time: {:.2f} seconds\".format(running_time))"
      ]
    },
    {
      "cell_type": "code",
      "execution_count": 46,
      "id": "23ebca14",
      "metadata": {
        "id": "23ebca14",
        "colab": {
          "base_uri": "https://localhost:8080/"
        },
        "outputId": "454189d2-d2e9-42a9-fbf0-8b518db8fa83"
      },
      "outputs": [
        {
          "output_type": "stream",
          "name": "stdout",
          "text": [
            "254/254 [==============================] - 5s 19ms/step - loss: 0.1229 - accuracy: 0.9510\n",
            "Test loss: 0.1228950247168541, Test accuracy: 0.9509851932525635\n"
          ]
        }
      ],
      "source": [
        "# Evaluate the model\n",
        "loss, accuracy = model.evaluate([x_test, x_test], y_test)\n",
        "print(f\"Test loss: {loss}, Test accuracy: {accuracy}\")"
      ]
    },
    {
      "cell_type": "code",
      "execution_count": 52,
      "id": "78f8e19d",
      "metadata": {
        "id": "78f8e19d"
      },
      "outputs": [],
      "source": [
        "# Save the trained model\n",
        "model.save(\"my_model_otto.h5\")\n"
      ]
    }
  ],
  "metadata": {
    "accelerator": "GPU",
    "colab": {
      "provenance": [],
      "toc_visible": true
    },
    "kernelspec": {
      "display_name": "Python 3 (ipykernel)",
      "language": "python",
      "name": "python3"
    },
    "language_info": {
      "codemirror_mode": {
        "name": "ipython",
        "version": 3
      },
      "file_extension": ".py",
      "mimetype": "text/x-python",
      "name": "python",
      "nbconvert_exporter": "python",
      "pygments_lexer": "ipython3",
      "version": "3.10.7"
    }
  },
  "nbformat": 4,
  "nbformat_minor": 5
}