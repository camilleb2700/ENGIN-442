{
  "cells": [
    {
      "cell_type": "code",
      "execution_count": 87,
      "id": "da645ec0",
      "metadata": {
        "colab": {
          "base_uri": "https://localhost:8080/",
          "height": 178
        },
        "id": "da645ec0",
        "outputId": "facd5f71-3c51-4ca7-8246-0d0fa7c7c3be"
      },
      "outputs": [
        {
          "output_type": "execute_result",
          "data": {
            "text/plain": [
              "\"\\nYOUR TASKS:\\n\\n1. SPECIFY THE URL OR PATH TO YOUR DATA, REMEMBER - YOU FIRST HAVE TO DOWNLOAD IT.\\n2. CLICK RUN ALL OR RESTART AND RUN ALL BUTTON TO RUN THE CODE. THIS CODE RUNS IN A CHRONOLOGICAL MANNER - THE TOP BLOCKS MUST PRECEED THE BOTTOM ONES, \\n                                                                                                            i.e. don't run stuff from the bottom first, otherwise the code won't work properly.\\n3. NEAR THE END OF THE CODE, YOU WILL SEE YOUR EPOCH METRICS, AS I STATED IN CLASS, YOU WANT THE ACCURACY TO APPROACH 100% =1.0 AND THE LOSS TO APPROACH 0\\n4. IN CASE IF YOUR MODEL IS STRUGGLING TO REACH THESE RESULTS AND IS INSTEAD STUCK AT A LOW ACCURACY, NAVIGATE TO THE BLOCK OF CODE WITH HYPERPARAMETERS AND CHANGE THESE NUMBERS,\\nTHEN, TRY RUNNING THE CODE AGAIN AND SEE HOW YOUR MODEL IS PERFORMING; REPEAT UNTIL YOU REACH A PLAUSIBLE RESULT (ONE THAT IS BETTER THAN A COIN TOSS IN TERMS OF PREDICTION ACCURACY IN THE WORST CASE)\\n5. SAVE YOUR RESULTS => THE CODE INCLUDES A BLOCK WHICH WILL SAVE YOUR MODEL TO A .h5 FILE,\\n - KEEP THE OUTPUTS OF THIS NOTEBOOK AS WELL, YOU WILL WANT TO DEMONSTRATE HOW THE TRAINING PROCESS WENT.\\n - BE MINDFUL OF THE TIME YOU HAVE IF YOU CHOOSE TO USE GOOGLE COLLABORATORY INSTEAD OF YOUR OWN MACHINE AS THEIR VMs ONLY OFFER YOU A COUPLE OF HOURS OF USAGE.\\n\""
            ],
            "application/vnd.google.colaboratory.intrinsic+json": {
              "type": "string"
            }
          },
          "metadata": {},
          "execution_count": 87
        }
      ],
      "source": [
        "'''\n",
        "YOUR TASKS:\n",
        "\n",
        "1. SPECIFY THE URL OR PATH TO YOUR DATA, REMEMBER - YOU FIRST HAVE TO DOWNLOAD IT.\n",
        "2. CLICK RUN ALL OR RESTART AND RUN ALL BUTTON TO RUN THE CODE. THIS CODE RUNS IN A CHRONOLOGICAL MANNER - THE TOP BLOCKS MUST PRECEED THE BOTTOM ONES,\n",
        "                                                                                                            i.e. don't run stuff from the bottom first, otherwise the code won't work properly.\n",
        "3. NEAR THE END OF THE CODE, YOU WILL SEE YOUR EPOCH METRICS, AS I STATED IN CLASS, YOU WANT THE ACCURACY TO APPROACH 100% =1.0 AND THE LOSS TO APPROACH 0\n",
        "4. IN CASE IF YOUR MODEL IS STRUGGLING TO REACH THESE RESULTS AND IS INSTEAD STUCK AT A LOW ACCURACY, NAVIGATE TO THE BLOCK OF CODE WITH HYPERPARAMETERS AND CHANGE THESE NUMBERS,\n",
        "THEN, TRY RUNNING THE CODE AGAIN AND SEE HOW YOUR MODEL IS PERFORMING; REPEAT UNTIL YOU REACH A PLAUSIBLE RESULT (ONE THAT IS BETTER THAN A COIN TOSS IN TERMS OF PREDICTION ACCURACY IN THE WORST CASE)\n",
        "5. SAVE YOUR RESULTS => THE CODE INCLUDES A BLOCK WHICH WILL SAVE YOUR MODEL TO A .h5 FILE,\n",
        " - KEEP THE OUTPUTS OF THIS NOTEBOOK AS WELL, YOU WILL WANT TO DEMONSTRATE HOW THE TRAINING PROCESS WENT.\n",
        " - BE MINDFUL OF THE TIME YOU HAVE IF YOU CHOOSE TO USE GOOGLE COLLABORATORY INSTEAD OF YOUR OWN MACHINE AS THEIR VMs ONLY OFFER YOU A COUPLE OF HOURS OF USAGE.\n",
        "'''"
      ]
    },
    {
      "cell_type": "code",
      "execution_count": 88,
      "id": "dd77aa5b",
      "metadata": {
        "id": "dd77aa5b"
      },
      "outputs": [],
      "source": [
        "import numpy as np\n",
        "import pandas as pd\n",
        "import tensorflow as tf\n",
        "from sklearn.model_selection import train_test_split\n",
        "from tensorflow import keras\n",
        "from tensorflow.keras import layers\n",
        "from tensorflow.keras.models import load_model\n",
        "from tensorflow.keras.optimizers import Adam\n",
        "from tensorflow.keras.callbacks import ReduceLROnPlateau, EarlyStopping\n",
        "from sklearn.metrics import confusion_matrix\n",
        "import seaborn as sns\n",
        "from sklearn.preprocessing import LabelEncoder\n",
        "import matplotlib.pyplot as plt\n",
        "import time"
      ]
    },
    {
      "cell_type": "code",
      "execution_count": 89,
      "id": "f16df2f1",
      "metadata": {
        "id": "f16df2f1",
        "colab": {
          "base_uri": "https://localhost:8080/"
        },
        "outputId": "a6080d97-5316-4b22-d40f-9a7b1d8f5305"
      },
      "outputs": [
        {
          "output_type": "stream",
          "name": "stderr",
          "text": [
            "<ipython-input-89-f71415f27b7e>:10: DeprecationWarning: In a future version, `df.iloc[:, i] = newvals` will attempt to set the values inplace instead of always setting a new array. To retain the old behavior, use either `df[df.columns[i]] = newvals` or, if columns are non-unique, `df.isetitem(i, newvals)`\n",
            "  data.iloc[:, -1] = label_encoder.fit_transform(data.iloc[:, -1])\n"
          ]
        }
      ],
      "source": [
        "# Function to read the data\n",
        "def read_data(filename):\n",
        "    data = pd.read_csv(filename)\n",
        "\n",
        "    # Extract features\n",
        "    features = data.iloc[:,1 :-1].values\n",
        "\n",
        "    # Extract and encode labels\n",
        "    label_encoder = LabelEncoder()\n",
        "    data.iloc[:, -1] = label_encoder.fit_transform(data.iloc[:, -1])\n",
        "    labels = data.iloc[:, -1].values\n",
        "\n",
        "    return features, labels\n",
        "# Read the data\n",
        "data_url = 'https://raw.githubusercontent.com/camilleb2700/ENGIN-442/main/user_12.csv'# enter your data URL or PATH here in enclosed in \" \" IF YOUR NOTEBOOK IS IN THE SAME FOLDER AS data.csv, which is your data you downloaded, then this will run as it is.\n",
        "                    # otherwise, you have to specify a different path or url\n",
        "x, y = read_data(data_url)"
      ]
    },
    {
      "cell_type": "code",
      "execution_count": 90,
      "id": "773378f4",
      "metadata": {
        "id": "773378f4"
      },
      "outputs": [],
      "source": [
        "df = pd.read_csv(data_url) ## THIS AND THE BLOCK OF CODE IMMEDIATELY AFTER THIS ARE OPTIONAL, THIS IS INTENDED TO HELP YOU VISUALIZE YOUR DATASET"
      ]
    },
    {
      "cell_type": "code",
      "execution_count": 91,
      "id": "c4345daf",
      "metadata": {
        "colab": {
          "base_uri": "https://localhost:8080/",
          "height": 424
        },
        "id": "c4345daf",
        "outputId": "94f13912-def6-44ce-8d2c-eab4dcbf03c4"
      },
      "outputs": [
        {
          "output_type": "execute_result",
          "data": {
            "text/plain": [
              "       Time (Seconds)  x-rotation  y-rotation  z-rotation  x-position  \\\n",
              "0            0.000000   -0.000000   -0.000000   -0.000000   -0.000000   \n",
              "1            0.008333   -0.000000   -0.000000   -0.000000   -0.000000   \n",
              "2            0.016667   -0.000000   -0.000000   -0.000000   -0.000000   \n",
              "3            0.025000   -0.000000   -0.000000   -0.000000   -0.000000   \n",
              "4            0.033333   -0.000000   -0.000000   -0.000000   -0.000000   \n",
              "...               ...         ...         ...         ...         ...   \n",
              "81195       30.350000  145.497528    1.136816 -100.203384    0.476438   \n",
              "81196       30.358333  145.435791    0.323997 -100.612747    0.477562   \n",
              "81197       30.366667  145.658401   -0.436725 -101.451706    0.478550   \n",
              "81198       30.375000  146.021698   -1.215853 -102.191917    0.479562   \n",
              "81199       30.383333  146.294464   -2.203671 -102.801735    0.480852   \n",
              "\n",
              "       y-position  z-position                  label  \n",
              "0        0.000000    0.000000      Sit_VidCall_Phone  \n",
              "1        0.000000    0.000000      Sit_VidCall_Phone  \n",
              "2        0.000000    0.000000      Sit_VidCall_Phone  \n",
              "3        0.000000    0.000000      Sit_VidCall_Phone  \n",
              "4        0.000000    0.000000      Sit_VidCall_Phone  \n",
              "...           ...         ...                    ...  \n",
              "81195    1.215163    0.705384  Walk_WebBrowse_Tablet  \n",
              "81196    1.214183    0.704687  Walk_WebBrowse_Tablet  \n",
              "81197    1.213255    0.704206  Walk_WebBrowse_Tablet  \n",
              "81198    1.212412    0.703331  Walk_WebBrowse_Tablet  \n",
              "81199    1.211642    0.702126  Walk_WebBrowse_Tablet  \n",
              "\n",
              "[81200 rows x 8 columns]"
            ],
            "text/html": [
              "\n",
              "  <div id=\"df-fb930352-2bb3-40eb-a1e4-a0fdf0e9d6c4\" class=\"colab-df-container\">\n",
              "    <div>\n",
              "<style scoped>\n",
              "    .dataframe tbody tr th:only-of-type {\n",
              "        vertical-align: middle;\n",
              "    }\n",
              "\n",
              "    .dataframe tbody tr th {\n",
              "        vertical-align: top;\n",
              "    }\n",
              "\n",
              "    .dataframe thead th {\n",
              "        text-align: right;\n",
              "    }\n",
              "</style>\n",
              "<table border=\"1\" class=\"dataframe\">\n",
              "  <thead>\n",
              "    <tr style=\"text-align: right;\">\n",
              "      <th></th>\n",
              "      <th>Time (Seconds)</th>\n",
              "      <th>x-rotation</th>\n",
              "      <th>y-rotation</th>\n",
              "      <th>z-rotation</th>\n",
              "      <th>x-position</th>\n",
              "      <th>y-position</th>\n",
              "      <th>z-position</th>\n",
              "      <th>label</th>\n",
              "    </tr>\n",
              "  </thead>\n",
              "  <tbody>\n",
              "    <tr>\n",
              "      <th>0</th>\n",
              "      <td>0.000000</td>\n",
              "      <td>-0.000000</td>\n",
              "      <td>-0.000000</td>\n",
              "      <td>-0.000000</td>\n",
              "      <td>-0.000000</td>\n",
              "      <td>0.000000</td>\n",
              "      <td>0.000000</td>\n",
              "      <td>Sit_VidCall_Phone</td>\n",
              "    </tr>\n",
              "    <tr>\n",
              "      <th>1</th>\n",
              "      <td>0.008333</td>\n",
              "      <td>-0.000000</td>\n",
              "      <td>-0.000000</td>\n",
              "      <td>-0.000000</td>\n",
              "      <td>-0.000000</td>\n",
              "      <td>0.000000</td>\n",
              "      <td>0.000000</td>\n",
              "      <td>Sit_VidCall_Phone</td>\n",
              "    </tr>\n",
              "    <tr>\n",
              "      <th>2</th>\n",
              "      <td>0.016667</td>\n",
              "      <td>-0.000000</td>\n",
              "      <td>-0.000000</td>\n",
              "      <td>-0.000000</td>\n",
              "      <td>-0.000000</td>\n",
              "      <td>0.000000</td>\n",
              "      <td>0.000000</td>\n",
              "      <td>Sit_VidCall_Phone</td>\n",
              "    </tr>\n",
              "    <tr>\n",
              "      <th>3</th>\n",
              "      <td>0.025000</td>\n",
              "      <td>-0.000000</td>\n",
              "      <td>-0.000000</td>\n",
              "      <td>-0.000000</td>\n",
              "      <td>-0.000000</td>\n",
              "      <td>0.000000</td>\n",
              "      <td>0.000000</td>\n",
              "      <td>Sit_VidCall_Phone</td>\n",
              "    </tr>\n",
              "    <tr>\n",
              "      <th>4</th>\n",
              "      <td>0.033333</td>\n",
              "      <td>-0.000000</td>\n",
              "      <td>-0.000000</td>\n",
              "      <td>-0.000000</td>\n",
              "      <td>-0.000000</td>\n",
              "      <td>0.000000</td>\n",
              "      <td>0.000000</td>\n",
              "      <td>Sit_VidCall_Phone</td>\n",
              "    </tr>\n",
              "    <tr>\n",
              "      <th>...</th>\n",
              "      <td>...</td>\n",
              "      <td>...</td>\n",
              "      <td>...</td>\n",
              "      <td>...</td>\n",
              "      <td>...</td>\n",
              "      <td>...</td>\n",
              "      <td>...</td>\n",
              "      <td>...</td>\n",
              "    </tr>\n",
              "    <tr>\n",
              "      <th>81195</th>\n",
              "      <td>30.350000</td>\n",
              "      <td>145.497528</td>\n",
              "      <td>1.136816</td>\n",
              "      <td>-100.203384</td>\n",
              "      <td>0.476438</td>\n",
              "      <td>1.215163</td>\n",
              "      <td>0.705384</td>\n",
              "      <td>Walk_WebBrowse_Tablet</td>\n",
              "    </tr>\n",
              "    <tr>\n",
              "      <th>81196</th>\n",
              "      <td>30.358333</td>\n",
              "      <td>145.435791</td>\n",
              "      <td>0.323997</td>\n",
              "      <td>-100.612747</td>\n",
              "      <td>0.477562</td>\n",
              "      <td>1.214183</td>\n",
              "      <td>0.704687</td>\n",
              "      <td>Walk_WebBrowse_Tablet</td>\n",
              "    </tr>\n",
              "    <tr>\n",
              "      <th>81197</th>\n",
              "      <td>30.366667</td>\n",
              "      <td>145.658401</td>\n",
              "      <td>-0.436725</td>\n",
              "      <td>-101.451706</td>\n",
              "      <td>0.478550</td>\n",
              "      <td>1.213255</td>\n",
              "      <td>0.704206</td>\n",
              "      <td>Walk_WebBrowse_Tablet</td>\n",
              "    </tr>\n",
              "    <tr>\n",
              "      <th>81198</th>\n",
              "      <td>30.375000</td>\n",
              "      <td>146.021698</td>\n",
              "      <td>-1.215853</td>\n",
              "      <td>-102.191917</td>\n",
              "      <td>0.479562</td>\n",
              "      <td>1.212412</td>\n",
              "      <td>0.703331</td>\n",
              "      <td>Walk_WebBrowse_Tablet</td>\n",
              "    </tr>\n",
              "    <tr>\n",
              "      <th>81199</th>\n",
              "      <td>30.383333</td>\n",
              "      <td>146.294464</td>\n",
              "      <td>-2.203671</td>\n",
              "      <td>-102.801735</td>\n",
              "      <td>0.480852</td>\n",
              "      <td>1.211642</td>\n",
              "      <td>0.702126</td>\n",
              "      <td>Walk_WebBrowse_Tablet</td>\n",
              "    </tr>\n",
              "  </tbody>\n",
              "</table>\n",
              "<p>81200 rows × 8 columns</p>\n",
              "</div>\n",
              "    <div class=\"colab-df-buttons\">\n",
              "\n",
              "  <div class=\"colab-df-container\">\n",
              "    <button class=\"colab-df-convert\" onclick=\"convertToInteractive('df-fb930352-2bb3-40eb-a1e4-a0fdf0e9d6c4')\"\n",
              "            title=\"Convert this dataframe to an interactive table.\"\n",
              "            style=\"display:none;\">\n",
              "\n",
              "  <svg xmlns=\"http://www.w3.org/2000/svg\" height=\"24px\" viewBox=\"0 -960 960 960\">\n",
              "    <path d=\"M120-120v-720h720v720H120Zm60-500h600v-160H180v160Zm220 220h160v-160H400v160Zm0 220h160v-160H400v160ZM180-400h160v-160H180v160Zm440 0h160v-160H620v160ZM180-180h160v-160H180v160Zm440 0h160v-160H620v160Z\"/>\n",
              "  </svg>\n",
              "    </button>\n",
              "\n",
              "  <style>\n",
              "    .colab-df-container {\n",
              "      display:flex;\n",
              "      gap: 12px;\n",
              "    }\n",
              "\n",
              "    .colab-df-convert {\n",
              "      background-color: #E8F0FE;\n",
              "      border: none;\n",
              "      border-radius: 50%;\n",
              "      cursor: pointer;\n",
              "      display: none;\n",
              "      fill: #1967D2;\n",
              "      height: 32px;\n",
              "      padding: 0 0 0 0;\n",
              "      width: 32px;\n",
              "    }\n",
              "\n",
              "    .colab-df-convert:hover {\n",
              "      background-color: #E2EBFA;\n",
              "      box-shadow: 0px 1px 2px rgba(60, 64, 67, 0.3), 0px 1px 3px 1px rgba(60, 64, 67, 0.15);\n",
              "      fill: #174EA6;\n",
              "    }\n",
              "\n",
              "    .colab-df-buttons div {\n",
              "      margin-bottom: 4px;\n",
              "    }\n",
              "\n",
              "    [theme=dark] .colab-df-convert {\n",
              "      background-color: #3B4455;\n",
              "      fill: #D2E3FC;\n",
              "    }\n",
              "\n",
              "    [theme=dark] .colab-df-convert:hover {\n",
              "      background-color: #434B5C;\n",
              "      box-shadow: 0px 1px 3px 1px rgba(0, 0, 0, 0.15);\n",
              "      filter: drop-shadow(0px 1px 2px rgba(0, 0, 0, 0.3));\n",
              "      fill: #FFFFFF;\n",
              "    }\n",
              "  </style>\n",
              "\n",
              "    <script>\n",
              "      const buttonEl =\n",
              "        document.querySelector('#df-fb930352-2bb3-40eb-a1e4-a0fdf0e9d6c4 button.colab-df-convert');\n",
              "      buttonEl.style.display =\n",
              "        google.colab.kernel.accessAllowed ? 'block' : 'none';\n",
              "\n",
              "      async function convertToInteractive(key) {\n",
              "        const element = document.querySelector('#df-fb930352-2bb3-40eb-a1e4-a0fdf0e9d6c4');\n",
              "        const dataTable =\n",
              "          await google.colab.kernel.invokeFunction('convertToInteractive',\n",
              "                                                    [key], {});\n",
              "        if (!dataTable) return;\n",
              "\n",
              "        const docLinkHtml = 'Like what you see? Visit the ' +\n",
              "          '<a target=\"_blank\" href=https://colab.research.google.com/notebooks/data_table.ipynb>data table notebook</a>'\n",
              "          + ' to learn more about interactive tables.';\n",
              "        element.innerHTML = '';\n",
              "        dataTable['output_type'] = 'display_data';\n",
              "        await google.colab.output.renderOutput(dataTable, element);\n",
              "        const docLink = document.createElement('div');\n",
              "        docLink.innerHTML = docLinkHtml;\n",
              "        element.appendChild(docLink);\n",
              "      }\n",
              "    </script>\n",
              "  </div>\n",
              "\n",
              "\n",
              "<div id=\"df-ae098dc8-26a4-4073-8b17-ac15d7577d0b\">\n",
              "  <button class=\"colab-df-quickchart\" onclick=\"quickchart('df-ae098dc8-26a4-4073-8b17-ac15d7577d0b')\"\n",
              "            title=\"Suggest charts\"\n",
              "            style=\"display:none;\">\n",
              "\n",
              "<svg xmlns=\"http://www.w3.org/2000/svg\" height=\"24px\"viewBox=\"0 0 24 24\"\n",
              "     width=\"24px\">\n",
              "    <g>\n",
              "        <path d=\"M19 3H5c-1.1 0-2 .9-2 2v14c0 1.1.9 2 2 2h14c1.1 0 2-.9 2-2V5c0-1.1-.9-2-2-2zM9 17H7v-7h2v7zm4 0h-2V7h2v10zm4 0h-2v-4h2v4z\"/>\n",
              "    </g>\n",
              "</svg>\n",
              "  </button>\n",
              "\n",
              "<style>\n",
              "  .colab-df-quickchart {\n",
              "      --bg-color: #E8F0FE;\n",
              "      --fill-color: #1967D2;\n",
              "      --hover-bg-color: #E2EBFA;\n",
              "      --hover-fill-color: #174EA6;\n",
              "      --disabled-fill-color: #AAA;\n",
              "      --disabled-bg-color: #DDD;\n",
              "  }\n",
              "\n",
              "  [theme=dark] .colab-df-quickchart {\n",
              "      --bg-color: #3B4455;\n",
              "      --fill-color: #D2E3FC;\n",
              "      --hover-bg-color: #434B5C;\n",
              "      --hover-fill-color: #FFFFFF;\n",
              "      --disabled-bg-color: #3B4455;\n",
              "      --disabled-fill-color: #666;\n",
              "  }\n",
              "\n",
              "  .colab-df-quickchart {\n",
              "    background-color: var(--bg-color);\n",
              "    border: none;\n",
              "    border-radius: 50%;\n",
              "    cursor: pointer;\n",
              "    display: none;\n",
              "    fill: var(--fill-color);\n",
              "    height: 32px;\n",
              "    padding: 0;\n",
              "    width: 32px;\n",
              "  }\n",
              "\n",
              "  .colab-df-quickchart:hover {\n",
              "    background-color: var(--hover-bg-color);\n",
              "    box-shadow: 0 1px 2px rgba(60, 64, 67, 0.3), 0 1px 3px 1px rgba(60, 64, 67, 0.15);\n",
              "    fill: var(--button-hover-fill-color);\n",
              "  }\n",
              "\n",
              "  .colab-df-quickchart-complete:disabled,\n",
              "  .colab-df-quickchart-complete:disabled:hover {\n",
              "    background-color: var(--disabled-bg-color);\n",
              "    fill: var(--disabled-fill-color);\n",
              "    box-shadow: none;\n",
              "  }\n",
              "\n",
              "  .colab-df-spinner {\n",
              "    border: 2px solid var(--fill-color);\n",
              "    border-color: transparent;\n",
              "    border-bottom-color: var(--fill-color);\n",
              "    animation:\n",
              "      spin 1s steps(1) infinite;\n",
              "  }\n",
              "\n",
              "  @keyframes spin {\n",
              "    0% {\n",
              "      border-color: transparent;\n",
              "      border-bottom-color: var(--fill-color);\n",
              "      border-left-color: var(--fill-color);\n",
              "    }\n",
              "    20% {\n",
              "      border-color: transparent;\n",
              "      border-left-color: var(--fill-color);\n",
              "      border-top-color: var(--fill-color);\n",
              "    }\n",
              "    30% {\n",
              "      border-color: transparent;\n",
              "      border-left-color: var(--fill-color);\n",
              "      border-top-color: var(--fill-color);\n",
              "      border-right-color: var(--fill-color);\n",
              "    }\n",
              "    40% {\n",
              "      border-color: transparent;\n",
              "      border-right-color: var(--fill-color);\n",
              "      border-top-color: var(--fill-color);\n",
              "    }\n",
              "    60% {\n",
              "      border-color: transparent;\n",
              "      border-right-color: var(--fill-color);\n",
              "    }\n",
              "    80% {\n",
              "      border-color: transparent;\n",
              "      border-right-color: var(--fill-color);\n",
              "      border-bottom-color: var(--fill-color);\n",
              "    }\n",
              "    90% {\n",
              "      border-color: transparent;\n",
              "      border-bottom-color: var(--fill-color);\n",
              "    }\n",
              "  }\n",
              "</style>\n",
              "\n",
              "  <script>\n",
              "    async function quickchart(key) {\n",
              "      const quickchartButtonEl =\n",
              "        document.querySelector('#' + key + ' button');\n",
              "      quickchartButtonEl.disabled = true;  // To prevent multiple clicks.\n",
              "      quickchartButtonEl.classList.add('colab-df-spinner');\n",
              "      try {\n",
              "        const charts = await google.colab.kernel.invokeFunction(\n",
              "            'suggestCharts', [key], {});\n",
              "      } catch (error) {\n",
              "        console.error('Error during call to suggestCharts:', error);\n",
              "      }\n",
              "      quickchartButtonEl.classList.remove('colab-df-spinner');\n",
              "      quickchartButtonEl.classList.add('colab-df-quickchart-complete');\n",
              "    }\n",
              "    (() => {\n",
              "      let quickchartButtonEl =\n",
              "        document.querySelector('#df-ae098dc8-26a4-4073-8b17-ac15d7577d0b button');\n",
              "      quickchartButtonEl.style.display =\n",
              "        google.colab.kernel.accessAllowed ? 'block' : 'none';\n",
              "    })();\n",
              "  </script>\n",
              "</div>\n",
              "\n",
              "  <div id=\"id_16a2a78e-bd84-4f19-8a0d-25dc6ede692e\">\n",
              "    <style>\n",
              "      .colab-df-generate {\n",
              "        background-color: #E8F0FE;\n",
              "        border: none;\n",
              "        border-radius: 50%;\n",
              "        cursor: pointer;\n",
              "        display: none;\n",
              "        fill: #1967D2;\n",
              "        height: 32px;\n",
              "        padding: 0 0 0 0;\n",
              "        width: 32px;\n",
              "      }\n",
              "\n",
              "      .colab-df-generate:hover {\n",
              "        background-color: #E2EBFA;\n",
              "        box-shadow: 0px 1px 2px rgba(60, 64, 67, 0.3), 0px 1px 3px 1px rgba(60, 64, 67, 0.15);\n",
              "        fill: #174EA6;\n",
              "      }\n",
              "\n",
              "      [theme=dark] .colab-df-generate {\n",
              "        background-color: #3B4455;\n",
              "        fill: #D2E3FC;\n",
              "      }\n",
              "\n",
              "      [theme=dark] .colab-df-generate:hover {\n",
              "        background-color: #434B5C;\n",
              "        box-shadow: 0px 1px 3px 1px rgba(0, 0, 0, 0.15);\n",
              "        filter: drop-shadow(0px 1px 2px rgba(0, 0, 0, 0.3));\n",
              "        fill: #FFFFFF;\n",
              "      }\n",
              "    </style>\n",
              "    <button class=\"colab-df-generate\" onclick=\"generateWithVariable('df')\"\n",
              "            title=\"Generate code using this dataframe.\"\n",
              "            style=\"display:none;\">\n",
              "\n",
              "  <svg xmlns=\"http://www.w3.org/2000/svg\" height=\"24px\"viewBox=\"0 0 24 24\"\n",
              "       width=\"24px\">\n",
              "    <path d=\"M7,19H8.4L18.45,9,17,7.55,7,17.6ZM5,21V16.75L18.45,3.32a2,2,0,0,1,2.83,0l1.4,1.43a1.91,1.91,0,0,1,.58,1.4,1.91,1.91,0,0,1-.58,1.4L9.25,21ZM18.45,9,17,7.55Zm-12,3A5.31,5.31,0,0,0,4.9,8.1,5.31,5.31,0,0,0,1,6.5,5.31,5.31,0,0,0,4.9,4.9,5.31,5.31,0,0,0,6.5,1,5.31,5.31,0,0,0,8.1,4.9,5.31,5.31,0,0,0,12,6.5,5.46,5.46,0,0,0,6.5,12Z\"/>\n",
              "  </svg>\n",
              "    </button>\n",
              "    <script>\n",
              "      (() => {\n",
              "      const buttonEl =\n",
              "        document.querySelector('#id_16a2a78e-bd84-4f19-8a0d-25dc6ede692e button.colab-df-generate');\n",
              "      buttonEl.style.display =\n",
              "        google.colab.kernel.accessAllowed ? 'block' : 'none';\n",
              "\n",
              "      buttonEl.onclick = () => {\n",
              "        google.colab.notebook.generateWithVariable('df');\n",
              "      }\n",
              "      })();\n",
              "    </script>\n",
              "  </div>\n",
              "\n",
              "    </div>\n",
              "  </div>\n"
            ]
          },
          "metadata": {},
          "execution_count": 91
        }
      ],
      "source": [
        "df # AS STATED ABOVE, YOU MAY REMOVE THIS AND THE ABOVE BLOCKS OF CODE IF YOU LIKE, THIS WILL HAVE NO"
      ]
    },
    {
      "cell_type": "code",
      "execution_count": 92,
      "id": "3eb86201",
      "metadata": {
        "colab": {
          "base_uri": "https://localhost:8080/"
        },
        "id": "3eb86201",
        "outputId": "d0d707cf-fa9e-4784-e973-de8bacc2c1ae"
      },
      "outputs": [
        {
          "output_type": "execute_result",
          "data": {
            "text/plain": [
              "(81200, 6)"
            ]
          },
          "metadata": {},
          "execution_count": 92
        }
      ],
      "source": [
        "x.shape ### IN THE FOLLOWING PARTS OF THE CODE, MAKE SURE THAT EVERYTING IS LOADED CORRECTLY, YOU SHOULD HAVE A DATASET WITH 22 CLASSES, (n-rows, 6 columns, later another dimension will be added here)"
      ]
    },
    {
      "cell_type": "code",
      "execution_count": 93,
      "id": "6b640bf8",
      "metadata": {
        "colab": {
          "base_uri": "https://localhost:8080/"
        },
        "id": "6b640bf8",
        "outputId": "e870c334-0fa1-47a0-d8e0-b4bf7ed0e12b"
      },
      "outputs": [
        {
          "output_type": "execute_result",
          "data": {
            "text/plain": [
              "(81200,)"
            ]
          },
          "metadata": {},
          "execution_count": 93
        }
      ],
      "source": [
        "y.shape"
      ]
    },
    {
      "cell_type": "code",
      "execution_count": 94,
      "id": "9650592c",
      "metadata": {
        "colab": {
          "base_uri": "https://localhost:8080/"
        },
        "id": "9650592c",
        "outputId": "c298f43a-d92c-48cf-d2c0-2b2a8ae65f27"
      },
      "outputs": [
        {
          "output_type": "execute_result",
          "data": {
            "text/plain": [
              "array([ 0,  1,  2,  3,  4,  5,  6,  7,  8,  9, 10, 11, 12, 13, 14, 15, 16,\n",
              "       17, 18, 19, 20, 21])"
            ]
          },
          "metadata": {},
          "execution_count": 94
        }
      ],
      "source": [
        "np.unique(y)"
      ]
    },
    {
      "cell_type": "code",
      "execution_count": 95,
      "id": "0edc69b6",
      "metadata": {
        "colab": {
          "base_uri": "https://localhost:8080/"
        },
        "id": "0edc69b6",
        "outputId": "809ae172-a531-4703-addc-f048d8ae3562"
      },
      "outputs": [
        {
          "output_type": "execute_result",
          "data": {
            "text/plain": [
              "array([-0., -0., -0., -0.,  0.,  0.])"
            ]
          },
          "metadata": {},
          "execution_count": 95
        }
      ],
      "source": [
        "x[0]"
      ]
    },
    {
      "cell_type": "code",
      "execution_count": 96,
      "id": "b4eec323",
      "metadata": {
        "colab": {
          "base_uri": "https://localhost:8080/"
        },
        "id": "b4eec323",
        "outputId": "ac40e69c-f501-4aca-fd31-a8826b7aa9f9"
      },
      "outputs": [
        {
          "output_type": "execute_result",
          "data": {
            "text/plain": [
              "0"
            ]
          },
          "metadata": {},
          "execution_count": 96
        }
      ],
      "source": [
        "y[0] # these were sample rows from the data for your to inspect, you should see a 6 by 1 vector above and a single value here"
      ]
    },
    {
      "cell_type": "code",
      "execution_count": 97,
      "id": "9db6440b",
      "metadata": {
        "id": "9db6440b"
      },
      "outputs": [],
      "source": [
        "# Split the data into training, validation, and testing sets\n",
        "x_train, x_test, y_train, y_test = train_test_split(x, y, test_size=0.1, random_state=42)\n",
        "x_train, x_val, y_train, y_val = train_test_split(x_train, y_train, test_size=0.2, random_state=42)"
      ]
    },
    {
      "cell_type": "code",
      "execution_count": 98,
      "id": "0b135163",
      "metadata": {
        "id": "0b135163"
      },
      "outputs": [],
      "source": [
        "# Reshape the data\n",
        "x_train = x_train.reshape((x_train.shape[0], x_train.shape[1], 1))\n",
        "x_val = x_val.reshape((x_val.shape[0], x_val.shape[1], 1))\n",
        "x_test = x_test.reshape((x_test.shape[0], x_test.shape[1], 1))"
      ]
    },
    {
      "cell_type": "code",
      "execution_count": 99,
      "id": "936243fe",
      "metadata": {
        "id": "936243fe"
      },
      "outputs": [],
      "source": [
        "# Determine the input shape and number of classes\n",
        "input_shape = (x_train.shape[1], 1)\n",
        "num_classes = len(np.unique(y))"
      ]
    },
    {
      "cell_type": "code",
      "execution_count": 100,
      "id": "4cb2989e",
      "metadata": {
        "colab": {
          "base_uri": "https://localhost:8080/"
        },
        "id": "4cb2989e",
        "outputId": "7b141ae1-c39d-40cf-e882-e41e45155ac2"
      },
      "outputs": [
        {
          "output_type": "execute_result",
          "data": {
            "text/plain": [
              "22"
            ]
          },
          "metadata": {},
          "execution_count": 100
        }
      ],
      "source": [
        "num_classes # must have 22"
      ]
    },
    {
      "cell_type": "code",
      "execution_count": 101,
      "id": "26c6890e",
      "metadata": {
        "colab": {
          "base_uri": "https://localhost:8080/"
        },
        "id": "26c6890e",
        "outputId": "da26279c-3a89-4844-b042-7cb54e6df62f"
      },
      "outputs": [
        {
          "output_type": "execute_result",
          "data": {
            "text/plain": [
              "(6, 1)"
            ]
          },
          "metadata": {},
          "execution_count": 101
        }
      ],
      "source": [
        "input_shape"
      ]
    },
    {
      "cell_type": "code",
      "execution_count": 102,
      "id": "859aa647",
      "metadata": {
        "colab": {
          "base_uri": "https://localhost:8080/"
        },
        "id": "859aa647",
        "outputId": "02184d3d-b7e0-4621-ea87-1d9286a79c4a"
      },
      "outputs": [
        {
          "output_type": "execute_result",
          "data": {
            "text/plain": [
              "(58464, 6, 1)"
            ]
          },
          "metadata": {},
          "execution_count": 102
        }
      ],
      "source": [
        "x_train.shape"
      ]
    },
    {
      "cell_type": "code",
      "execution_count": 103,
      "id": "eab565dd",
      "metadata": {
        "colab": {
          "base_uri": "https://localhost:8080/"
        },
        "id": "eab565dd",
        "outputId": "4056aa9c-ac65-47a0-cdd5-bc4be7430520"
      },
      "outputs": [
        {
          "output_type": "execute_result",
          "data": {
            "text/plain": [
              "(58464,)"
            ]
          },
          "metadata": {},
          "execution_count": 103
        }
      ],
      "source": [
        "y_train.shape"
      ]
    },
    {
      "cell_type": "code",
      "execution_count": 104,
      "id": "ab950213",
      "metadata": {
        "colab": {
          "base_uri": "https://localhost:8080/"
        },
        "id": "ab950213",
        "outputId": "4c512c88-6850-44f4-a25e-9623b95aa79b"
      },
      "outputs": [
        {
          "output_type": "execute_result",
          "data": {
            "text/plain": [
              "array([[  5.603017],\n",
              "       [ -3.832383],\n",
              "       [144.152039],\n",
              "       [  1.588381],\n",
              "       [  1.38382 ],\n",
              "       [ -0.591574]])"
            ]
          },
          "metadata": {},
          "execution_count": 104
        }
      ],
      "source": [
        "x_train[0]"
      ]
    },
    {
      "cell_type": "code",
      "execution_count": 105,
      "id": "7f11432f",
      "metadata": {
        "colab": {
          "base_uri": "https://localhost:8080/"
        },
        "id": "7f11432f",
        "outputId": "edb87e08-8c09-497a-81c2-58662bd67ca0"
      },
      "outputs": [
        {
          "output_type": "execute_result",
          "data": {
            "text/plain": [
              "19"
            ]
          },
          "metadata": {},
          "execution_count": 105
        }
      ],
      "source": [
        "y_train[0]"
      ]
    },
    {
      "cell_type": "code",
      "execution_count": 106,
      "id": "cd51204b",
      "metadata": {
        "id": "cd51204b"
      },
      "outputs": [],
      "source": [
        "# Transformer Encoder function with dropout and L2 regularization\n",
        "def transformer_encoder(inputs, head_size, num_heads, ff_dim, dropout=0.1, l2_reg=0.01):\n",
        "\n",
        "    x = layers.MultiHeadAttention(key_dim=head_size, num_heads=num_heads, dropout=dropout)(inputs, inputs)\n",
        "    x = layers.Dropout(dropout)(x)\n",
        "    x = layers.LayerNormalization(epsilon=1e-6)(x)\n",
        "    res = x + inputs\n",
        "\n",
        "    # Feed-forward network with dropout and L2 regularization\n",
        "    x = layers.Dense(ff_dim, activation=\"relu\", kernel_regularizer=keras.regularizers.l2(l2_reg))(res)\n",
        "    x = layers.Dropout(dropout)(x)\n",
        "\n",
        "    x = layers.Dense(ff_dim, activation=\"relu\", kernel_regularizer=keras.regularizers.l2(l2_reg))(x)\n",
        "    x = layers.Dropout(dropout)(x)\n",
        "\n",
        "    '''\n",
        "    YOU MAY WANT TO ADD OR REMOVE THESE TWO LINES HERE PRECISELY IN THIS PART OF THE CODE, PAY ATTENTION TO THE INDENTATION, PYTHON REQUIRES CONSISTENCY IN ORDER FOR THE CODE TO RUN CORRECTLY\n",
        "    x = layers.Dense(ff_dim, activation=\"relu\", kernel_regularizer=keras.regularizers.l2(l2_reg))(x)\n",
        "    x = layers.Dropout(dropout)(x)\n",
        "\n",
        "    '''\n",
        "\n",
        "    x = layers.Dense(ff_dim, activation=\"relu\", kernel_regularizer=keras.regularizers.l2(l2_reg))(x)\n",
        "    x = layers.Dropout(dropout)(x)\n",
        "\n",
        "    x = layers.Dense(inputs.shape[-1], activation = 'softmax')(x)\n",
        "    x = layers.LayerNormalization(epsilon=1e-6)(x)\n",
        "\n",
        "    return x + res"
      ]
    },
    {
      "cell_type": "code",
      "execution_count": 107,
      "id": "9df843aa",
      "metadata": {
        "id": "9df843aa"
      },
      "outputs": [],
      "source": [
        "# Transformer Decoder function\n",
        "def transformer_decoder(inputs, enc_outputs, head_size, num_heads, ff_dim, dropout=0.1, l2_reg=0.01):\n",
        "    x = layers.MultiHeadAttention(key_dim=head_size, num_heads=num_heads, dropout=dropout)(inputs, inputs)\n",
        "    x = layers.Dropout(dropout)(x)\n",
        "    x = layers.LayerNormalization(epsilon=1e-6)(x)\n",
        "    res = x + inputs\n",
        "\n",
        "    x = layers.MultiHeadAttention(key_dim=head_size, num_heads=num_heads, dropout=dropout)(res, enc_outputs)\n",
        "    x = layers.Dropout(dropout)(x)\n",
        "    x = layers.LayerNormalization(epsilon=1e-6)(x)\n",
        "    x = x + res\n",
        "\n",
        "    # Feed-forward network\n",
        "    x = layers.Dense(ff_dim, activation=\"relu\", kernel_regularizer=keras.regularizers.l2(l2_reg))(x)\n",
        "    x = layers.Dropout(dropout)(x)\n",
        "\n",
        "    x = layers.Dense(ff_dim, activation=\"relu\", kernel_regularizer=keras.regularizers.l2(l2_reg))(x)\n",
        "    x = layers.Dropout(dropout)(x)\n",
        "\n",
        "    '''\n",
        "    YOU MAY WANT TO ADD OR REMOVE THESE TWO LINES HERE PRECISELY IN THIS PART OF THE CODE, PAY ATTENTION TO THE INDENTATION, PYTHON REQUIRES CONSISTENCY IN ORDER FOR THE CODE TO RUN CORRECTLY\n",
        "    x = layers.Dense(ff_dim, activation=\"relu\", kernel_regularizer=keras.regularizers.l2(l2_reg))(x)\n",
        "    x = layers.Dropout(dropout)(x)\n",
        "\n",
        "    '''\n",
        "\n",
        "    x = layers.Dense(ff_dim, activation=\"relu\", kernel_regularizer=keras.regularizers.l2(l2_reg))(x)\n",
        "    x = layers.Dropout(dropout)(x)\n",
        "\n",
        "    x = layers.Dense(inputs.shape[-1], activation = 'softmax')(x)\n",
        "    x = layers.LayerNormalization(epsilon=1e-6)(x)\n",
        "\n",
        "    return x + res\n"
      ]
    },
    {
      "cell_type": "code",
      "execution_count": 108,
      "id": "d9851305",
      "metadata": {
        "id": "d9851305"
      },
      "outputs": [],
      "source": [
        "# Build the model\n",
        "def build_model(input_shape, head_size, num_heads, ff_dim, num_transformer_blocks, mlp_units, dropout=0, mlp_dropout=0, l2_reg=0):\n",
        "    inputs = keras.Input(shape=input_shape)\n",
        "    x = inputs\n",
        "\n",
        "    # Encoder\n",
        "    for _ in range(num_transformer_blocks):\n",
        "        x = transformer_encoder(x, head_size, num_heads, ff_dim, dropout, l2_reg)\n",
        "\n",
        "\n",
        "    # Decoder\n",
        "    decoder_input = keras.Input(shape=input_shape)\n",
        "    dec = decoder_input\n",
        "    for _ in range(num_transformer_blocks):\n",
        "        dec = transformer_decoder(dec, x, head_size, num_heads, ff_dim, dropout, l2_reg)\n",
        "\n",
        "    x = layers.Flatten()(x)\n",
        "    dec = layers.Flatten()(dec)\n",
        "    x = layers.Concatenate()([x, dec])\n",
        "\n",
        "    for dim in mlp_units:\n",
        "        x = layers.Dense(dim, activation=\"relu\")(x)\n",
        "        x = layers.Dropout(mlp_dropout)(x)\n",
        "\n",
        "    outputs = layers.Dense(num_classes, activation=\"softmax\")(x)\n",
        "\n",
        "    model = keras.Model([inputs, decoder_input], outputs)\n",
        "    return model"
      ]
    },
    {
      "cell_type": "code",
      "execution_count": 109,
      "id": "1d648db6",
      "metadata": {
        "id": "1d648db6"
      },
      "outputs": [],
      "source": [
        "# Define the hyperparameters\n",
        "\"\"\"\n",
        "# THIS IS THE PART YOU SHOULD PLAY AROUND WITH\n",
        "# YOU MAY REDUCE THESE NUMBERS IF YOUR MACHINE IS OTHERWISE INCAPABLE OF RUNNING THE CODE\"\"\"\n",
        "\n",
        "head_size = 4\n",
        "num_heads = 4\n",
        "ff_dim = 256\n",
        "num_transformer_blocks = 4\n",
        "mlp_units = [256]\n",
        "dropout = 0.1\n",
        "mlp_dropout = 0.1\n",
        "initial_lr = 0.001\n",
        "l2_reg=0.01"
      ]
    },
    {
      "cell_type": "code",
      "execution_count": 110,
      "id": "6c794103",
      "metadata": {
        "id": "6c794103"
      },
      "outputs": [],
      "source": [
        "# Build the model\n",
        "model = build_model(input_shape, head_size, num_heads, ff_dim, num_transformer_blocks, mlp_units, dropout, mlp_dropout)"
      ]
    },
    {
      "cell_type": "code",
      "execution_count": 111,
      "id": "64e4c3ef",
      "metadata": {
        "id": "64e4c3ef"
      },
      "outputs": [],
      "source": [
        "# Create the optimizer with the initial learning rate\n",
        "optimizer = Adam(learning_rate=initial_lr)"
      ]
    },
    {
      "cell_type": "code",
      "execution_count": 112,
      "id": "0e19e795",
      "metadata": {
        "id": "0e19e795"
      },
      "outputs": [],
      "source": [
        "# Compile the model\n",
        "model.compile(optimizer=optimizer, loss=\"sparse_categorical_crossentropy\", metrics=[\"accuracy\"])"
      ]
    },
    {
      "cell_type": "code",
      "execution_count": 113,
      "id": "02a51f0f",
      "metadata": {
        "id": "02a51f0f"
      },
      "outputs": [],
      "source": [
        "# Create the ReduceLROnPlateau callback\n",
        "lr_callback = ReduceLROnPlateau(factor=0.1, patience=50)"
      ]
    },
    {
      "cell_type": "code",
      "execution_count": 114,
      "id": "511f6219",
      "metadata": {
        "id": "511f6219"
      },
      "outputs": [],
      "source": [
        "# Record the start time\n",
        "start_time = time.time()"
      ]
    },
    {
      "cell_type": "code",
      "execution_count": 115,
      "id": "19d80153",
      "metadata": {
        "colab": {
          "base_uri": "https://localhost:8080/"
        },
        "id": "19d80153",
        "outputId": "10e1cc39-bad0-4053-9d52-39dd631ce07b"
      },
      "outputs": [
        {
          "output_type": "stream",
          "name": "stdout",
          "text": [
            "Epoch 1/100\n",
            "914/914 [==============================] - 97s 70ms/step - loss: 1.9367 - accuracy: 0.5469 - val_loss: 0.7606 - val_accuracy: 0.7463 - lr: 0.0010\n",
            "Epoch 2/100\n",
            "914/914 [==============================] - 62s 68ms/step - loss: 0.7403 - accuracy: 0.7307 - val_loss: 0.5582 - val_accuracy: 0.8147 - lr: 0.0010\n",
            "Epoch 3/100\n",
            "914/914 [==============================] - 61s 67ms/step - loss: 0.5214 - accuracy: 0.8167 - val_loss: 0.4218 - val_accuracy: 0.8619 - lr: 0.0010\n",
            "Epoch 4/100\n",
            "914/914 [==============================] - 58s 63ms/step - loss: 0.3820 - accuracy: 0.8683 - val_loss: 0.3056 - val_accuracy: 0.9065 - lr: 0.0010\n",
            "Epoch 5/100\n",
            "914/914 [==============================] - 58s 64ms/step - loss: 0.3086 - accuracy: 0.8927 - val_loss: 0.2616 - val_accuracy: 0.9128 - lr: 0.0010\n",
            "Epoch 6/100\n",
            "914/914 [==============================] - 61s 67ms/step - loss: 0.2599 - accuracy: 0.9094 - val_loss: 0.2225 - val_accuracy: 0.9262 - lr: 0.0010\n",
            "Epoch 7/100\n",
            "914/914 [==============================] - 58s 63ms/step - loss: 0.2309 - accuracy: 0.9191 - val_loss: 0.2330 - val_accuracy: 0.9123 - lr: 0.0010\n",
            "Epoch 8/100\n",
            "914/914 [==============================] - 58s 63ms/step - loss: 0.2123 - accuracy: 0.9237 - val_loss: 0.1938 - val_accuracy: 0.9311 - lr: 0.0010\n",
            "Epoch 9/100\n",
            "914/914 [==============================] - 61s 66ms/step - loss: 0.2038 - accuracy: 0.9261 - val_loss: 0.1811 - val_accuracy: 0.9339 - lr: 0.0010\n",
            "Epoch 10/100\n",
            "914/914 [==============================] - 59s 65ms/step - loss: 0.1891 - accuracy: 0.9311 - val_loss: 0.1736 - val_accuracy: 0.9388 - lr: 0.0010\n",
            "Epoch 11/100\n",
            "914/914 [==============================] - 59s 65ms/step - loss: 0.1775 - accuracy: 0.9361 - val_loss: 0.1779 - val_accuracy: 0.9413 - lr: 0.0010\n",
            "Epoch 12/100\n",
            "914/914 [==============================] - 61s 67ms/step - loss: 0.1807 - accuracy: 0.9330 - val_loss: 0.1588 - val_accuracy: 0.9439 - lr: 0.0010\n",
            "Epoch 13/100\n",
            "914/914 [==============================] - 62s 68ms/step - loss: 0.1708 - accuracy: 0.9360 - val_loss: 0.1749 - val_accuracy: 0.9343 - lr: 0.0010\n",
            "Epoch 14/100\n",
            "914/914 [==============================] - 60s 66ms/step - loss: 0.1649 - accuracy: 0.9377 - val_loss: 0.1486 - val_accuracy: 0.9479 - lr: 0.0010\n",
            "Epoch 15/100\n",
            "914/914 [==============================] - 61s 66ms/step - loss: 0.1709 - accuracy: 0.9354 - val_loss: 0.1536 - val_accuracy: 0.9385 - lr: 0.0010\n",
            "Epoch 16/100\n",
            "914/914 [==============================] - 62s 68ms/step - loss: 0.1624 - accuracy: 0.9384 - val_loss: 0.1545 - val_accuracy: 0.9401 - lr: 0.0010\n",
            "Epoch 17/100\n",
            "914/914 [==============================] - 58s 63ms/step - loss: 0.1615 - accuracy: 0.9392 - val_loss: 0.1442 - val_accuracy: 0.9445 - lr: 0.0010\n",
            "Epoch 18/100\n",
            "914/914 [==============================] - 58s 64ms/step - loss: 0.1553 - accuracy: 0.9399 - val_loss: 0.1406 - val_accuracy: 0.9425 - lr: 0.0010\n",
            "Epoch 19/100\n",
            "914/914 [==============================] - 58s 63ms/step - loss: 0.1567 - accuracy: 0.9404 - val_loss: 0.1358 - val_accuracy: 0.9503 - lr: 0.0010\n",
            "Epoch 20/100\n",
            "914/914 [==============================] - 59s 65ms/step - loss: 0.1549 - accuracy: 0.9394 - val_loss: 0.1292 - val_accuracy: 0.9492 - lr: 0.0010\n",
            "Epoch 21/100\n",
            "914/914 [==============================] - 60s 66ms/step - loss: 0.1507 - accuracy: 0.9415 - val_loss: 0.1356 - val_accuracy: 0.9444 - lr: 0.0010\n",
            "Epoch 22/100\n",
            "914/914 [==============================] - 61s 66ms/step - loss: 0.1539 - accuracy: 0.9407 - val_loss: 0.1441 - val_accuracy: 0.9436 - lr: 0.0010\n",
            "Epoch 23/100\n",
            "914/914 [==============================] - 65s 71ms/step - loss: 0.1518 - accuracy: 0.9414 - val_loss: 0.1424 - val_accuracy: 0.9441 - lr: 0.0010\n",
            "Epoch 24/100\n",
            "914/914 [==============================] - 61s 67ms/step - loss: 0.1499 - accuracy: 0.9430 - val_loss: 0.1410 - val_accuracy: 0.9447 - lr: 0.0010\n",
            "Epoch 25/100\n",
            "914/914 [==============================] - 62s 68ms/step - loss: 0.1521 - accuracy: 0.9420 - val_loss: 0.1359 - val_accuracy: 0.9435 - lr: 0.0010\n",
            "Epoch 26/100\n",
            "914/914 [==============================] - 60s 66ms/step - loss: 0.1474 - accuracy: 0.9438 - val_loss: 0.1278 - val_accuracy: 0.9516 - lr: 0.0010\n",
            "Epoch 27/100\n",
            "914/914 [==============================] - 65s 71ms/step - loss: 0.1464 - accuracy: 0.9430 - val_loss: 0.1446 - val_accuracy: 0.9416 - lr: 0.0010\n",
            "Epoch 28/100\n",
            "914/914 [==============================] - 64s 70ms/step - loss: 0.1490 - accuracy: 0.9420 - val_loss: 0.1237 - val_accuracy: 0.9510 - lr: 0.0010\n",
            "Epoch 29/100\n",
            "914/914 [==============================] - 63s 69ms/step - loss: 0.1484 - accuracy: 0.9430 - val_loss: 0.1250 - val_accuracy: 0.9551 - lr: 0.0010\n",
            "Epoch 30/100\n",
            "914/914 [==============================] - 64s 70ms/step - loss: 0.1486 - accuracy: 0.9426 - val_loss: 0.1679 - val_accuracy: 0.9357 - lr: 0.0010\n",
            "Epoch 31/100\n",
            "914/914 [==============================] - 62s 68ms/step - loss: 0.1403 - accuracy: 0.9445 - val_loss: 0.1251 - val_accuracy: 0.9509 - lr: 0.0010\n",
            "Epoch 32/100\n",
            "914/914 [==============================] - 61s 66ms/step - loss: 0.1469 - accuracy: 0.9430 - val_loss: 0.1332 - val_accuracy: 0.9510 - lr: 0.0010\n",
            "Epoch 33/100\n",
            "914/914 [==============================] - 62s 68ms/step - loss: 0.1411 - accuracy: 0.9444 - val_loss: 0.1186 - val_accuracy: 0.9547 - lr: 0.0010\n",
            "Epoch 34/100\n",
            "914/914 [==============================] - 64s 70ms/step - loss: 0.1418 - accuracy: 0.9451 - val_loss: 0.1136 - val_accuracy: 0.9552 - lr: 0.0010\n",
            "Epoch 35/100\n",
            "914/914 [==============================] - 64s 70ms/step - loss: 0.1444 - accuracy: 0.9439 - val_loss: 0.1271 - val_accuracy: 0.9511 - lr: 0.0010\n",
            "Epoch 36/100\n",
            "914/914 [==============================] - 64s 70ms/step - loss: 0.1375 - accuracy: 0.9457 - val_loss: 0.1254 - val_accuracy: 0.9513 - lr: 0.0010\n",
            "Epoch 37/100\n",
            "914/914 [==============================] - 65s 71ms/step - loss: 0.1423 - accuracy: 0.9451 - val_loss: 0.1209 - val_accuracy: 0.9510 - lr: 0.0010\n",
            "Epoch 38/100\n",
            "914/914 [==============================] - 66s 73ms/step - loss: 0.1463 - accuracy: 0.9441 - val_loss: 0.1282 - val_accuracy: 0.9501 - lr: 0.0010\n",
            "Epoch 39/100\n",
            "914/914 [==============================] - 64s 70ms/step - loss: 0.1369 - accuracy: 0.9457 - val_loss: 0.1503 - val_accuracy: 0.9423 - lr: 0.0010\n",
            "Epoch 40/100\n",
            "914/914 [==============================] - 65s 71ms/step - loss: 0.1379 - accuracy: 0.9467 - val_loss: 0.1273 - val_accuracy: 0.9466 - lr: 0.0010\n",
            "Epoch 41/100\n",
            "914/914 [==============================] - 64s 70ms/step - loss: 0.1413 - accuracy: 0.9453 - val_loss: 0.1269 - val_accuracy: 0.9501 - lr: 0.0010\n",
            "Epoch 42/100\n",
            "914/914 [==============================] - 64s 70ms/step - loss: 0.1337 - accuracy: 0.9475 - val_loss: 0.1168 - val_accuracy: 0.9518 - lr: 0.0010\n",
            "Epoch 43/100\n",
            "914/914 [==============================] - 64s 70ms/step - loss: 0.1400 - accuracy: 0.9458 - val_loss: 0.1355 - val_accuracy: 0.9408 - lr: 0.0010\n",
            "Epoch 44/100\n",
            "914/914 [==============================] - 63s 69ms/step - loss: 0.1400 - accuracy: 0.9460 - val_loss: 0.1214 - val_accuracy: 0.9543 - lr: 0.0010\n",
            "Epoch 45/100\n",
            "914/914 [==============================] - 64s 70ms/step - loss: 0.1393 - accuracy: 0.9454 - val_loss: 0.1360 - val_accuracy: 0.9489 - lr: 0.0010\n",
            "Epoch 46/100\n",
            "914/914 [==============================] - 64s 70ms/step - loss: 0.1352 - accuracy: 0.9473 - val_loss: 0.1253 - val_accuracy: 0.9498 - lr: 0.0010\n",
            "Epoch 47/100\n",
            "914/914 [==============================] - 62s 68ms/step - loss: 0.1397 - accuracy: 0.9458 - val_loss: 0.1307 - val_accuracy: 0.9457 - lr: 0.0010\n",
            "Epoch 48/100\n",
            "914/914 [==============================] - 63s 69ms/step - loss: 0.1386 - accuracy: 0.9458 - val_loss: 0.1362 - val_accuracy: 0.9518 - lr: 0.0010\n",
            "Epoch 49/100\n",
            "914/914 [==============================] - 62s 68ms/step - loss: 0.1393 - accuracy: 0.9465 - val_loss: 0.1236 - val_accuracy: 0.9533 - lr: 0.0010\n",
            "Epoch 50/100\n",
            "914/914 [==============================] - 63s 69ms/step - loss: 0.1373 - accuracy: 0.9462 - val_loss: 0.1231 - val_accuracy: 0.9511 - lr: 0.0010\n",
            "Epoch 51/100\n",
            "914/914 [==============================] - 65s 72ms/step - loss: 0.1345 - accuracy: 0.9470 - val_loss: 0.1216 - val_accuracy: 0.9527 - lr: 0.0010\n",
            "Epoch 52/100\n",
            "914/914 [==============================] - 63s 68ms/step - loss: 0.1351 - accuracy: 0.9475 - val_loss: 0.1425 - val_accuracy: 0.9418 - lr: 0.0010\n",
            "Epoch 53/100\n",
            "914/914 [==============================] - 64s 70ms/step - loss: 0.1427 - accuracy: 0.9449 - val_loss: 0.1442 - val_accuracy: 0.9438 - lr: 0.0010\n",
            "Epoch 54/100\n",
            "914/914 [==============================] - 65s 72ms/step - loss: 0.1309 - accuracy: 0.9485 - val_loss: 0.1221 - val_accuracy: 0.9524 - lr: 0.0010\n",
            "Epoch 55/100\n",
            "914/914 [==============================] - 63s 69ms/step - loss: 0.1377 - accuracy: 0.9464 - val_loss: 0.1183 - val_accuracy: 0.9536 - lr: 0.0010\n",
            "Epoch 56/100\n",
            "914/914 [==============================] - 63s 69ms/step - loss: 0.1344 - accuracy: 0.9478 - val_loss: 0.1295 - val_accuracy: 0.9470 - lr: 0.0010\n",
            "Epoch 57/100\n",
            "914/914 [==============================] - 64s 70ms/step - loss: 0.1348 - accuracy: 0.9471 - val_loss: 0.1252 - val_accuracy: 0.9503 - lr: 0.0010\n",
            "Epoch 58/100\n",
            "914/914 [==============================] - 64s 70ms/step - loss: 0.1365 - accuracy: 0.9468 - val_loss: 0.1314 - val_accuracy: 0.9511 - lr: 0.0010\n",
            "Epoch 59/100\n",
            "914/914 [==============================] - 63s 69ms/step - loss: 0.1313 - accuracy: 0.9483 - val_loss: 0.1211 - val_accuracy: 0.9515 - lr: 0.0010\n",
            "Epoch 60/100\n",
            "914/914 [==============================] - 62s 68ms/step - loss: 0.1342 - accuracy: 0.9478 - val_loss: 0.1217 - val_accuracy: 0.9523 - lr: 0.0010\n",
            "Epoch 61/100\n",
            "914/914 [==============================] - 64s 70ms/step - loss: 0.1357 - accuracy: 0.9475 - val_loss: 0.1361 - val_accuracy: 0.9471 - lr: 0.0010\n",
            "Epoch 62/100\n",
            "914/914 [==============================] - 64s 70ms/step - loss: 0.1339 - accuracy: 0.9488 - val_loss: 0.1164 - val_accuracy: 0.9522 - lr: 0.0010\n",
            "Epoch 63/100\n",
            "914/914 [==============================] - 62s 68ms/step - loss: 0.1340 - accuracy: 0.9479 - val_loss: 0.1237 - val_accuracy: 0.9488 - lr: 0.0010\n",
            "Epoch 64/100\n",
            "914/914 [==============================] - 64s 70ms/step - loss: 0.1356 - accuracy: 0.9483 - val_loss: 0.1196 - val_accuracy: 0.9501 - lr: 0.0010\n",
            "Epoch 65/100\n",
            "914/914 [==============================] - 65s 71ms/step - loss: 0.1356 - accuracy: 0.9480 - val_loss: 0.1312 - val_accuracy: 0.9506 - lr: 0.0010\n",
            "Epoch 66/100\n",
            "914/914 [==============================] - 62s 68ms/step - loss: 0.1363 - accuracy: 0.9477 - val_loss: 0.1404 - val_accuracy: 0.9426 - lr: 0.0010\n",
            "Epoch 67/100\n",
            "914/914 [==============================] - 62s 68ms/step - loss: 0.1311 - accuracy: 0.9485 - val_loss: 0.1242 - val_accuracy: 0.9511 - lr: 0.0010\n",
            "Epoch 68/100\n",
            "914/914 [==============================] - 64s 70ms/step - loss: 0.1303 - accuracy: 0.9494 - val_loss: 0.1213 - val_accuracy: 0.9521 - lr: 0.0010\n",
            "Epoch 69/100\n",
            "914/914 [==============================] - 64s 70ms/step - loss: 0.1285 - accuracy: 0.9490 - val_loss: 0.1360 - val_accuracy: 0.9464 - lr: 0.0010\n",
            "Epoch 70/100\n",
            "914/914 [==============================] - 62s 68ms/step - loss: 0.1343 - accuracy: 0.9473 - val_loss: 0.1142 - val_accuracy: 0.9548 - lr: 0.0010\n",
            "Epoch 71/100\n",
            "914/914 [==============================] - 64s 70ms/step - loss: 0.1320 - accuracy: 0.9486 - val_loss: 0.1145 - val_accuracy: 0.9517 - lr: 0.0010\n",
            "Epoch 72/100\n",
            "914/914 [==============================] - 65s 71ms/step - loss: 0.1363 - accuracy: 0.9468 - val_loss: 0.1385 - val_accuracy: 0.9488 - lr: 0.0010\n",
            "Epoch 73/100\n",
            "914/914 [==============================] - 62s 68ms/step - loss: 0.1292 - accuracy: 0.9496 - val_loss: 0.1247 - val_accuracy: 0.9531 - lr: 0.0010\n",
            "Epoch 74/100\n",
            "914/914 [==============================] - 63s 69ms/step - loss: 0.1257 - accuracy: 0.9508 - val_loss: 0.1308 - val_accuracy: 0.9490 - lr: 0.0010\n",
            "Epoch 75/100\n",
            "914/914 [==============================] - 63s 69ms/step - loss: 0.1453 - accuracy: 0.9467 - val_loss: 0.1175 - val_accuracy: 0.9535 - lr: 0.0010\n",
            "Epoch 76/100\n",
            "914/914 [==============================] - 63s 68ms/step - loss: 0.1267 - accuracy: 0.9510 - val_loss: 0.1139 - val_accuracy: 0.9554 - lr: 0.0010\n",
            "Epoch 77/100\n",
            "914/914 [==============================] - 62s 68ms/step - loss: 0.1275 - accuracy: 0.9503 - val_loss: 0.1366 - val_accuracy: 0.9451 - lr: 0.0010\n",
            "Epoch 78/100\n",
            "914/914 [==============================] - 63s 69ms/step - loss: 0.1308 - accuracy: 0.9488 - val_loss: 0.1186 - val_accuracy: 0.9517 - lr: 0.0010\n",
            "Epoch 79/100\n",
            "914/914 [==============================] - 65s 71ms/step - loss: 0.1323 - accuracy: 0.9491 - val_loss: 0.1116 - val_accuracy: 0.9531 - lr: 0.0010\n",
            "Epoch 80/100\n",
            "914/914 [==============================] - 63s 69ms/step - loss: 0.1292 - accuracy: 0.9495 - val_loss: 0.1250 - val_accuracy: 0.9490 - lr: 0.0010\n",
            "Epoch 81/100\n",
            "914/914 [==============================] - 64s 70ms/step - loss: 0.1286 - accuracy: 0.9493 - val_loss: 0.1051 - val_accuracy: 0.9575 - lr: 0.0010\n",
            "Epoch 82/100\n",
            "914/914 [==============================] - 63s 69ms/step - loss: 0.1312 - accuracy: 0.9495 - val_loss: 0.1164 - val_accuracy: 0.9566 - lr: 0.0010\n",
            "Epoch 83/100\n",
            "914/914 [==============================] - 64s 70ms/step - loss: 0.1293 - accuracy: 0.9506 - val_loss: 0.1289 - val_accuracy: 0.9474 - lr: 0.0010\n",
            "Epoch 84/100\n",
            "914/914 [==============================] - 64s 70ms/step - loss: 0.1301 - accuracy: 0.9504 - val_loss: 0.1150 - val_accuracy: 0.9560 - lr: 0.0010\n",
            "Epoch 85/100\n",
            "914/914 [==============================] - 64s 70ms/step - loss: 0.1325 - accuracy: 0.9482 - val_loss: 0.1166 - val_accuracy: 0.9504 - lr: 0.0010\n",
            "Epoch 86/100\n",
            "914/914 [==============================] - 65s 71ms/step - loss: 0.1270 - accuracy: 0.9501 - val_loss: 0.1754 - val_accuracy: 0.9365 - lr: 0.0010\n",
            "Epoch 87/100\n",
            "914/914 [==============================] - 62s 68ms/step - loss: 0.1312 - accuracy: 0.9502 - val_loss: 0.1228 - val_accuracy: 0.9498 - lr: 0.0010\n",
            "Epoch 88/100\n",
            "914/914 [==============================] - 64s 70ms/step - loss: 0.1276 - accuracy: 0.9503 - val_loss: 0.1195 - val_accuracy: 0.9505 - lr: 0.0010\n",
            "Epoch 89/100\n",
            "914/914 [==============================] - 61s 67ms/step - loss: 0.1337 - accuracy: 0.9487 - val_loss: 0.1126 - val_accuracy: 0.9488 - lr: 0.0010\n",
            "Epoch 90/100\n",
            "914/914 [==============================] - 60s 66ms/step - loss: 0.1286 - accuracy: 0.9499 - val_loss: 0.1378 - val_accuracy: 0.9460 - lr: 0.0010\n",
            "Epoch 91/100\n",
            "914/914 [==============================] - 59s 64ms/step - loss: 0.1244 - accuracy: 0.9515 - val_loss: 0.1180 - val_accuracy: 0.9539 - lr: 0.0010\n",
            "Epoch 92/100\n",
            "914/914 [==============================] - 58s 64ms/step - loss: 0.1270 - accuracy: 0.9503 - val_loss: 0.1207 - val_accuracy: 0.9507 - lr: 0.0010\n",
            "Epoch 93/100\n",
            "914/914 [==============================] - 59s 64ms/step - loss: 0.1319 - accuracy: 0.9497 - val_loss: 0.1223 - val_accuracy: 0.9530 - lr: 0.0010\n",
            "Epoch 94/100\n",
            "914/914 [==============================] - 63s 69ms/step - loss: 0.1301 - accuracy: 0.9497 - val_loss: 0.1263 - val_accuracy: 0.9546 - lr: 0.0010\n",
            "Epoch 95/100\n",
            "914/914 [==============================] - 63s 69ms/step - loss: 0.1301 - accuracy: 0.9495 - val_loss: 0.1115 - val_accuracy: 0.9554 - lr: 0.0010\n",
            "Epoch 96/100\n",
            "914/914 [==============================] - 63s 69ms/step - loss: 0.1312 - accuracy: 0.9484 - val_loss: 0.1193 - val_accuracy: 0.9528 - lr: 0.0010\n",
            "Epoch 97/100\n",
            "914/914 [==============================] - 63s 68ms/step - loss: 0.1297 - accuracy: 0.9490 - val_loss: 0.1192 - val_accuracy: 0.9535 - lr: 0.0010\n",
            "Epoch 98/100\n",
            "914/914 [==============================] - 62s 68ms/step - loss: 0.1277 - accuracy: 0.9503 - val_loss: 0.1216 - val_accuracy: 0.9482 - lr: 0.0010\n",
            "Epoch 99/100\n",
            "914/914 [==============================] - 62s 68ms/step - loss: 0.1328 - accuracy: 0.9491 - val_loss: 0.1176 - val_accuracy: 0.9531 - lr: 0.0010\n",
            "Epoch 100/100\n",
            "914/914 [==============================] - 62s 68ms/step - loss: 0.1287 - accuracy: 0.9497 - val_loss: 0.1176 - val_accuracy: 0.9527 - lr: 0.0010\n"
          ]
        },
        {
          "output_type": "execute_result",
          "data": {
            "text/plain": [
              "<keras.src.callbacks.History at 0x7b9877ead7e0>"
            ]
          },
          "metadata": {},
          "execution_count": 115
        }
      ],
      "source": [
        "model.fit([x_train, x_train], y_train,\n",
        "          batch_size=64,\n",
        "          epochs=100,\n",
        "          validation_data=([x_val, x_val], y_val),\n",
        "          callbacks=[lr_callback])"
      ]
    },
    {
      "cell_type": "code",
      "execution_count": 116,
      "id": "3ffe7d0c",
      "metadata": {
        "id": "3ffe7d0c"
      },
      "outputs": [],
      "source": [
        "# Record the end time\n",
        "end_time = time.time()"
      ]
    },
    {
      "cell_type": "code",
      "execution_count": 117,
      "id": "e8dd9c65",
      "metadata": {
        "colab": {
          "base_uri": "https://localhost:8080/"
        },
        "id": "e8dd9c65",
        "outputId": "773c997a-e409-45a5-a08e-fb8dbde06207"
      },
      "outputs": [
        {
          "output_type": "stream",
          "name": "stdout",
          "text": [
            "Total Running Time: 6282.37 seconds\n"
          ]
        }
      ],
      "source": [
        "# Calculate the total running time\n",
        "running_time = end_time - start_time\n",
        "print(\"Total Running Time: {:.2f} seconds\".format(running_time))"
      ]
    },
    {
      "cell_type": "code",
      "execution_count": 118,
      "id": "23ebca14",
      "metadata": {
        "id": "23ebca14",
        "colab": {
          "base_uri": "https://localhost:8080/"
        },
        "outputId": "4021a5fa-29e1-42aa-d2e9-a8879bae31da"
      },
      "outputs": [
        {
          "output_type": "stream",
          "name": "stdout",
          "text": [
            "254/254 [==============================] - 5s 21ms/step - loss: 0.1232 - accuracy: 0.9512\n",
            "Test loss: 0.12318335473537445, Test accuracy: 0.9512315392494202\n"
          ]
        }
      ],
      "source": [
        "# Evaluate the model\n",
        "loss, accuracy = model.evaluate([x_test, x_test], y_test)\n",
        "print(f\"Test loss: {loss}, Test accuracy: {accuracy}\")"
      ]
    },
    {
      "cell_type": "code",
      "execution_count": 119,
      "id": "78f8e19d",
      "metadata": {
        "colab": {
          "base_uri": "https://localhost:8080/"
        },
        "id": "78f8e19d",
        "outputId": "8cb3fe71-ff40-4ba3-8c3e-ee7a5233e0fd"
      },
      "outputs": [
        {
          "output_type": "stream",
          "name": "stderr",
          "text": [
            "/usr/local/lib/python3.10/dist-packages/keras/src/engine/training.py:3103: UserWarning: You are saving your model as an HDF5 file via `model.save()`. This file format is considered legacy. We recommend using instead the native Keras format, e.g. `model.save('my_model.keras')`.\n",
            "  saving_api.save_model(\n"
          ]
        }
      ],
      "source": [
        "# Save the trained model\n",
        "model.save(\"my_model_miguel.h5\")"
      ]
    }
  ],
  "metadata": {
    "accelerator": "GPU",
    "colab": {
      "provenance": []
    },
    "kernelspec": {
      "display_name": "Python 3 (ipykernel)",
      "language": "python",
      "name": "python3"
    },
    "language_info": {
      "codemirror_mode": {
        "name": "ipython",
        "version": 3
      },
      "file_extension": ".py",
      "mimetype": "text/x-python",
      "name": "python",
      "nbconvert_exporter": "python",
      "pygments_lexer": "ipython3",
      "version": "3.10.7"
    }
  },
  "nbformat": 4,
  "nbformat_minor": 5
}
