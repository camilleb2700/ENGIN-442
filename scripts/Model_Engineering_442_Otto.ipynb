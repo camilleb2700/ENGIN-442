{
  "cells": [
    {
      "cell_type": "code",
      "execution_count": 54,
      "id": "da645ec0",
      "metadata": {
        "colab": {
          "base_uri": "https://localhost:8080/",
          "height": 178
        },
        "id": "da645ec0",
        "outputId": "66cda53e-2d05-44c1-af25-5a23c3ca1062"
      },
      "outputs": [
        {
          "output_type": "execute_result",
          "data": {
            "text/plain": [
              "\"\\nYOUR TASKS:\\n\\n1. SPECIFY THE URL OR PATH TO YOUR DATA, REMEMBER - YOU FIRST HAVE TO DOWNLOAD IT.\\n2. CLICK RUN ALL OR RESTART AND RUN ALL BUTTON TO RUN THE CODE. THIS CODE RUNS IN A CHRONOLOGICAL MANNER - THE TOP BLOCKS MUST PRECEED THE BOTTOM ONES, \\n                                                                                                            i.e. don't run stuff from the bottom first, otherwise the code won't work properly.\\n3. NEAR THE END OF THE CODE, YOU WILL SEE YOUR EPOCH METRICS, AS I STATED IN CLASS, YOU WANT THE ACCURACY TO APPROACH 100% =1.0 AND THE LOSS TO APPROACH 0\\n4. IN CASE IF YOUR MODEL IS STRUGGLING TO REACH THESE RESULTS AND IS INSTEAD STUCK AT A LOW ACCURACY, NAVIGATE TO THE BLOCK OF CODE WITH HYPERPARAMETERS AND CHANGE THESE NUMBERS,\\nTHEN, TRY RUNNING THE CODE AGAIN AND SEE HOW YOUR MODEL IS PERFORMING; REPEAT UNTIL YOU REACH A PLAUSIBLE RESULT (ONE THAT IS BETTER THAN A COIN TOSS IN TERMS OF PREDICTION ACCURACY IN THE WORST CASE)\\n5. SAVE YOUR RESULTS => THE CODE INCLUDES A BLOCK WHICH WILL SAVE YOUR MODEL TO A .h5 FILE,\\n - KEEP THE OUTPUTS OF THIS NOTEBOOK AS WELL, YOU WILL WANT TO DEMONSTRATE HOW THE TRAINING PROCESS WENT.\\n - BE MINDFUL OF THE TIME YOU HAVE IF YOU CHOOSE TO USE GOOGLE COLLABORATORY INSTEAD OF YOUR OWN MACHINE AS THEIR VMs ONLY OFFER YOU A COUPLE OF HOURS OF USAGE.\\n\""
            ],
            "application/vnd.google.colaboratory.intrinsic+json": {
              "type": "string"
            }
          },
          "metadata": {},
          "execution_count": 54
        }
      ],
      "source": [
        "'''\n",
        "YOUR TASKS:\n",
        "\n",
        "1. SPECIFY THE URL OR PATH TO YOUR DATA, REMEMBER - YOU FIRST HAVE TO DOWNLOAD IT.\n",
        "2. CLICK RUN ALL OR RESTART AND RUN ALL BUTTON TO RUN THE CODE. THIS CODE RUNS IN A CHRONOLOGICAL MANNER - THE TOP BLOCKS MUST PRECEED THE BOTTOM ONES,\n",
        "                                                                                                            i.e. don't run stuff from the bottom first, otherwise the code won't work properly.\n",
        "3. NEAR THE END OF THE CODE, YOU WILL SEE YOUR EPOCH METRICS, AS I STATED IN CLASS, YOU WANT THE ACCURACY TO APPROACH 100% =1.0 AND THE LOSS TO APPROACH 0\n",
        "4. IN CASE IF YOUR MODEL IS STRUGGLING TO REACH THESE RESULTS AND IS INSTEAD STUCK AT A LOW ACCURACY, NAVIGATE TO THE BLOCK OF CODE WITH HYPERPARAMETERS AND CHANGE THESE NUMBERS,\n",
        "THEN, TRY RUNNING THE CODE AGAIN AND SEE HOW YOUR MODEL IS PERFORMING; REPEAT UNTIL YOU REACH A PLAUSIBLE RESULT (ONE THAT IS BETTER THAN A COIN TOSS IN TERMS OF PREDICTION ACCURACY IN THE WORST CASE)\n",
        "5. SAVE YOUR RESULTS => THE CODE INCLUDES A BLOCK WHICH WILL SAVE YOUR MODEL TO A .h5 FILE,\n",
        " - KEEP THE OUTPUTS OF THIS NOTEBOOK AS WELL, YOU WILL WANT TO DEMONSTRATE HOW THE TRAINING PROCESS WENT.\n",
        " - BE MINDFUL OF THE TIME YOU HAVE IF YOU CHOOSE TO USE GOOGLE COLLABORATORY INSTEAD OF YOUR OWN MACHINE AS THEIR VMs ONLY OFFER YOU A COUPLE OF HOURS OF USAGE.\n",
        "'''"
      ]
    },
    {
      "cell_type": "code",
      "execution_count": 55,
      "id": "dd77aa5b",
      "metadata": {
        "id": "dd77aa5b"
      },
      "outputs": [],
      "source": [
        "import numpy as np\n",
        "import pandas as pd\n",
        "import tensorflow as tf\n",
        "from sklearn.model_selection import train_test_split\n",
        "from tensorflow import keras\n",
        "from tensorflow.keras import layers\n",
        "from tensorflow.keras.models import load_model\n",
        "from tensorflow.keras.optimizers import Adam\n",
        "from tensorflow.keras.callbacks import ReduceLROnPlateau, EarlyStopping\n",
        "from sklearn.metrics import confusion_matrix\n",
        "import seaborn as sns\n",
        "from sklearn.preprocessing import LabelEncoder\n",
        "import matplotlib.pyplot as plt\n",
        "import time"
      ]
    },
    {
      "cell_type": "code",
      "execution_count": 56,
      "id": "f16df2f1",
      "metadata": {
        "id": "f16df2f1",
        "colab": {
          "base_uri": "https://localhost:8080/"
        },
        "outputId": "bd5245ac-0f13-416f-ee8c-fc9b82639f31"
      },
      "outputs": [
        {
          "output_type": "stream",
          "name": "stderr",
          "text": [
            "<ipython-input-56-bab6b6b75e96>:10: DeprecationWarning: In a future version, `df.iloc[:, i] = newvals` will attempt to set the values inplace instead of always setting a new array. To retain the old behavior, use either `df[df.columns[i]] = newvals` or, if columns are non-unique, `df.isetitem(i, newvals)`\n",
            "  data.iloc[:, -1] = label_encoder.fit_transform(data.iloc[:, -1])\n"
          ]
        }
      ],
      "source": [
        "# Function to read the data\n",
        "def read_data(filename):\n",
        "    data = pd.read_csv(filename)\n",
        "\n",
        "    # Extract features\n",
        "    features = data.iloc[:,1 :-1].values\n",
        "\n",
        "    # Extract and encode labels\n",
        "    label_encoder = LabelEncoder()\n",
        "    data.iloc[:, -1] = label_encoder.fit_transform(data.iloc[:, -1])\n",
        "    labels = data.iloc[:, -1].values\n",
        "\n",
        "    return features, labels\n",
        "# Read the data\n",
        "data_url = 'https://raw.githubusercontent.com/camilleb2700/ENGIN-442/main/user_13.csv'# enter your data URL or PATH here in enclosed in \" \" IF YOUR NOTEBOOK IS IN THE SAME FOLDER AS data.csv, which is your data you downloaded, then this will run as it is.\n",
        "                    # otherwise, you have to specify a different path or url\n",
        "x, y = read_data(data_url)"
      ]
    },
    {
      "cell_type": "code",
      "execution_count": 57,
      "id": "773378f4",
      "metadata": {
        "id": "773378f4"
      },
      "outputs": [],
      "source": [
        "df = pd.read_csv(data_url) ## THIS AND THE BLOCK OF CODE IMMEDIATELY AFTER THIS ARE OPTIONAL, THIS IS INTENDED TO HELP YOU VISUALIZE YOUR DATASET"
      ]
    },
    {
      "cell_type": "code",
      "execution_count": 58,
      "id": "c4345daf",
      "metadata": {
        "colab": {
          "base_uri": "https://localhost:8080/",
          "height": 424
        },
        "id": "c4345daf",
        "outputId": "6d017254-1619-4778-d51f-18aa98b80a7c"
      },
      "outputs": [
        {
          "output_type": "execute_result",
          "data": {
            "text/plain": [
              "       Time (Seconds)  x-rotation  y-rotation  z-rotation  x-position  \\\n",
              "0            0.000000   -0.000000   -0.000000   -0.000000   -0.000000   \n",
              "1            0.008333   -0.000000   -0.000000   -0.000000   -0.000000   \n",
              "2            0.016667   -0.000000   -0.000000   -0.000000   -0.000000   \n",
              "3            0.025000   -0.000000   -0.000000   -0.000000   -0.000000   \n",
              "4            0.033333   -0.000000   -0.000000   -0.000000   -0.000000   \n",
              "...               ...         ...         ...         ...         ...   \n",
              "81092       31.425000   58.627224  -16.453003  100.837242    0.963660   \n",
              "81093       31.433333   58.508793  -16.198683  100.496178    0.960310   \n",
              "81094       31.441667   58.372505  -15.928641  100.154335    0.956939   \n",
              "81095       31.450000   58.301109  -15.527400   99.811371    0.953483   \n",
              "81096       31.458333   58.231148  -15.285139   99.531036    0.950060   \n",
              "\n",
              "       y-position  z-position                  label  \n",
              "0        0.000000    0.000000      Sit_VidCall_Phone  \n",
              "1        0.000000    0.000000      Sit_VidCall_Phone  \n",
              "2        0.000000    0.000000      Sit_VidCall_Phone  \n",
              "3        0.000000    0.000000      Sit_VidCall_Phone  \n",
              "4        0.000000    0.000000      Sit_VidCall_Phone  \n",
              "...           ...         ...                    ...  \n",
              "81092    1.294864    1.035364  Walk_WebBrowse_Tablet  \n",
              "81093    1.294741    1.032513  Walk_WebBrowse_Tablet  \n",
              "81094    1.294636    1.029681  Walk_WebBrowse_Tablet  \n",
              "81095    1.294595    1.026789  Walk_WebBrowse_Tablet  \n",
              "81096    1.294562    1.023957  Walk_WebBrowse_Tablet  \n",
              "\n",
              "[81097 rows x 8 columns]"
            ],
            "text/html": [
              "\n",
              "  <div id=\"df-9b1887d4-927e-4729-9eae-22a82b4516ce\" class=\"colab-df-container\">\n",
              "    <div>\n",
              "<style scoped>\n",
              "    .dataframe tbody tr th:only-of-type {\n",
              "        vertical-align: middle;\n",
              "    }\n",
              "\n",
              "    .dataframe tbody tr th {\n",
              "        vertical-align: top;\n",
              "    }\n",
              "\n",
              "    .dataframe thead th {\n",
              "        text-align: right;\n",
              "    }\n",
              "</style>\n",
              "<table border=\"1\" class=\"dataframe\">\n",
              "  <thead>\n",
              "    <tr style=\"text-align: right;\">\n",
              "      <th></th>\n",
              "      <th>Time (Seconds)</th>\n",
              "      <th>x-rotation</th>\n",
              "      <th>y-rotation</th>\n",
              "      <th>z-rotation</th>\n",
              "      <th>x-position</th>\n",
              "      <th>y-position</th>\n",
              "      <th>z-position</th>\n",
              "      <th>label</th>\n",
              "    </tr>\n",
              "  </thead>\n",
              "  <tbody>\n",
              "    <tr>\n",
              "      <th>0</th>\n",
              "      <td>0.000000</td>\n",
              "      <td>-0.000000</td>\n",
              "      <td>-0.000000</td>\n",
              "      <td>-0.000000</td>\n",
              "      <td>-0.000000</td>\n",
              "      <td>0.000000</td>\n",
              "      <td>0.000000</td>\n",
              "      <td>Sit_VidCall_Phone</td>\n",
              "    </tr>\n",
              "    <tr>\n",
              "      <th>1</th>\n",
              "      <td>0.008333</td>\n",
              "      <td>-0.000000</td>\n",
              "      <td>-0.000000</td>\n",
              "      <td>-0.000000</td>\n",
              "      <td>-0.000000</td>\n",
              "      <td>0.000000</td>\n",
              "      <td>0.000000</td>\n",
              "      <td>Sit_VidCall_Phone</td>\n",
              "    </tr>\n",
              "    <tr>\n",
              "      <th>2</th>\n",
              "      <td>0.016667</td>\n",
              "      <td>-0.000000</td>\n",
              "      <td>-0.000000</td>\n",
              "      <td>-0.000000</td>\n",
              "      <td>-0.000000</td>\n",
              "      <td>0.000000</td>\n",
              "      <td>0.000000</td>\n",
              "      <td>Sit_VidCall_Phone</td>\n",
              "    </tr>\n",
              "    <tr>\n",
              "      <th>3</th>\n",
              "      <td>0.025000</td>\n",
              "      <td>-0.000000</td>\n",
              "      <td>-0.000000</td>\n",
              "      <td>-0.000000</td>\n",
              "      <td>-0.000000</td>\n",
              "      <td>0.000000</td>\n",
              "      <td>0.000000</td>\n",
              "      <td>Sit_VidCall_Phone</td>\n",
              "    </tr>\n",
              "    <tr>\n",
              "      <th>4</th>\n",
              "      <td>0.033333</td>\n",
              "      <td>-0.000000</td>\n",
              "      <td>-0.000000</td>\n",
              "      <td>-0.000000</td>\n",
              "      <td>-0.000000</td>\n",
              "      <td>0.000000</td>\n",
              "      <td>0.000000</td>\n",
              "      <td>Sit_VidCall_Phone</td>\n",
              "    </tr>\n",
              "    <tr>\n",
              "      <th>...</th>\n",
              "      <td>...</td>\n",
              "      <td>...</td>\n",
              "      <td>...</td>\n",
              "      <td>...</td>\n",
              "      <td>...</td>\n",
              "      <td>...</td>\n",
              "      <td>...</td>\n",
              "      <td>...</td>\n",
              "    </tr>\n",
              "    <tr>\n",
              "      <th>81092</th>\n",
              "      <td>31.425000</td>\n",
              "      <td>58.627224</td>\n",
              "      <td>-16.453003</td>\n",
              "      <td>100.837242</td>\n",
              "      <td>0.963660</td>\n",
              "      <td>1.294864</td>\n",
              "      <td>1.035364</td>\n",
              "      <td>Walk_WebBrowse_Tablet</td>\n",
              "    </tr>\n",
              "    <tr>\n",
              "      <th>81093</th>\n",
              "      <td>31.433333</td>\n",
              "      <td>58.508793</td>\n",
              "      <td>-16.198683</td>\n",
              "      <td>100.496178</td>\n",
              "      <td>0.960310</td>\n",
              "      <td>1.294741</td>\n",
              "      <td>1.032513</td>\n",
              "      <td>Walk_WebBrowse_Tablet</td>\n",
              "    </tr>\n",
              "    <tr>\n",
              "      <th>81094</th>\n",
              "      <td>31.441667</td>\n",
              "      <td>58.372505</td>\n",
              "      <td>-15.928641</td>\n",
              "      <td>100.154335</td>\n",
              "      <td>0.956939</td>\n",
              "      <td>1.294636</td>\n",
              "      <td>1.029681</td>\n",
              "      <td>Walk_WebBrowse_Tablet</td>\n",
              "    </tr>\n",
              "    <tr>\n",
              "      <th>81095</th>\n",
              "      <td>31.450000</td>\n",
              "      <td>58.301109</td>\n",
              "      <td>-15.527400</td>\n",
              "      <td>99.811371</td>\n",
              "      <td>0.953483</td>\n",
              "      <td>1.294595</td>\n",
              "      <td>1.026789</td>\n",
              "      <td>Walk_WebBrowse_Tablet</td>\n",
              "    </tr>\n",
              "    <tr>\n",
              "      <th>81096</th>\n",
              "      <td>31.458333</td>\n",
              "      <td>58.231148</td>\n",
              "      <td>-15.285139</td>\n",
              "      <td>99.531036</td>\n",
              "      <td>0.950060</td>\n",
              "      <td>1.294562</td>\n",
              "      <td>1.023957</td>\n",
              "      <td>Walk_WebBrowse_Tablet</td>\n",
              "    </tr>\n",
              "  </tbody>\n",
              "</table>\n",
              "<p>81097 rows × 8 columns</p>\n",
              "</div>\n",
              "    <div class=\"colab-df-buttons\">\n",
              "\n",
              "  <div class=\"colab-df-container\">\n",
              "    <button class=\"colab-df-convert\" onclick=\"convertToInteractive('df-9b1887d4-927e-4729-9eae-22a82b4516ce')\"\n",
              "            title=\"Convert this dataframe to an interactive table.\"\n",
              "            style=\"display:none;\">\n",
              "\n",
              "  <svg xmlns=\"http://www.w3.org/2000/svg\" height=\"24px\" viewBox=\"0 -960 960 960\">\n",
              "    <path d=\"M120-120v-720h720v720H120Zm60-500h600v-160H180v160Zm220 220h160v-160H400v160Zm0 220h160v-160H400v160ZM180-400h160v-160H180v160Zm440 0h160v-160H620v160ZM180-180h160v-160H180v160Zm440 0h160v-160H620v160Z\"/>\n",
              "  </svg>\n",
              "    </button>\n",
              "\n",
              "  <style>\n",
              "    .colab-df-container {\n",
              "      display:flex;\n",
              "      gap: 12px;\n",
              "    }\n",
              "\n",
              "    .colab-df-convert {\n",
              "      background-color: #E8F0FE;\n",
              "      border: none;\n",
              "      border-radius: 50%;\n",
              "      cursor: pointer;\n",
              "      display: none;\n",
              "      fill: #1967D2;\n",
              "      height: 32px;\n",
              "      padding: 0 0 0 0;\n",
              "      width: 32px;\n",
              "    }\n",
              "\n",
              "    .colab-df-convert:hover {\n",
              "      background-color: #E2EBFA;\n",
              "      box-shadow: 0px 1px 2px rgba(60, 64, 67, 0.3), 0px 1px 3px 1px rgba(60, 64, 67, 0.15);\n",
              "      fill: #174EA6;\n",
              "    }\n",
              "\n",
              "    .colab-df-buttons div {\n",
              "      margin-bottom: 4px;\n",
              "    }\n",
              "\n",
              "    [theme=dark] .colab-df-convert {\n",
              "      background-color: #3B4455;\n",
              "      fill: #D2E3FC;\n",
              "    }\n",
              "\n",
              "    [theme=dark] .colab-df-convert:hover {\n",
              "      background-color: #434B5C;\n",
              "      box-shadow: 0px 1px 3px 1px rgba(0, 0, 0, 0.15);\n",
              "      filter: drop-shadow(0px 1px 2px rgba(0, 0, 0, 0.3));\n",
              "      fill: #FFFFFF;\n",
              "    }\n",
              "  </style>\n",
              "\n",
              "    <script>\n",
              "      const buttonEl =\n",
              "        document.querySelector('#df-9b1887d4-927e-4729-9eae-22a82b4516ce button.colab-df-convert');\n",
              "      buttonEl.style.display =\n",
              "        google.colab.kernel.accessAllowed ? 'block' : 'none';\n",
              "\n",
              "      async function convertToInteractive(key) {\n",
              "        const element = document.querySelector('#df-9b1887d4-927e-4729-9eae-22a82b4516ce');\n",
              "        const dataTable =\n",
              "          await google.colab.kernel.invokeFunction('convertToInteractive',\n",
              "                                                    [key], {});\n",
              "        if (!dataTable) return;\n",
              "\n",
              "        const docLinkHtml = 'Like what you see? Visit the ' +\n",
              "          '<a target=\"_blank\" href=https://colab.research.google.com/notebooks/data_table.ipynb>data table notebook</a>'\n",
              "          + ' to learn more about interactive tables.';\n",
              "        element.innerHTML = '';\n",
              "        dataTable['output_type'] = 'display_data';\n",
              "        await google.colab.output.renderOutput(dataTable, element);\n",
              "        const docLink = document.createElement('div');\n",
              "        docLink.innerHTML = docLinkHtml;\n",
              "        element.appendChild(docLink);\n",
              "      }\n",
              "    </script>\n",
              "  </div>\n",
              "\n",
              "\n",
              "<div id=\"df-6cf34281-b6e9-4fab-8161-260ea48f42a1\">\n",
              "  <button class=\"colab-df-quickchart\" onclick=\"quickchart('df-6cf34281-b6e9-4fab-8161-260ea48f42a1')\"\n",
              "            title=\"Suggest charts\"\n",
              "            style=\"display:none;\">\n",
              "\n",
              "<svg xmlns=\"http://www.w3.org/2000/svg\" height=\"24px\"viewBox=\"0 0 24 24\"\n",
              "     width=\"24px\">\n",
              "    <g>\n",
              "        <path d=\"M19 3H5c-1.1 0-2 .9-2 2v14c0 1.1.9 2 2 2h14c1.1 0 2-.9 2-2V5c0-1.1-.9-2-2-2zM9 17H7v-7h2v7zm4 0h-2V7h2v10zm4 0h-2v-4h2v4z\"/>\n",
              "    </g>\n",
              "</svg>\n",
              "  </button>\n",
              "\n",
              "<style>\n",
              "  .colab-df-quickchart {\n",
              "      --bg-color: #E8F0FE;\n",
              "      --fill-color: #1967D2;\n",
              "      --hover-bg-color: #E2EBFA;\n",
              "      --hover-fill-color: #174EA6;\n",
              "      --disabled-fill-color: #AAA;\n",
              "      --disabled-bg-color: #DDD;\n",
              "  }\n",
              "\n",
              "  [theme=dark] .colab-df-quickchart {\n",
              "      --bg-color: #3B4455;\n",
              "      --fill-color: #D2E3FC;\n",
              "      --hover-bg-color: #434B5C;\n",
              "      --hover-fill-color: #FFFFFF;\n",
              "      --disabled-bg-color: #3B4455;\n",
              "      --disabled-fill-color: #666;\n",
              "  }\n",
              "\n",
              "  .colab-df-quickchart {\n",
              "    background-color: var(--bg-color);\n",
              "    border: none;\n",
              "    border-radius: 50%;\n",
              "    cursor: pointer;\n",
              "    display: none;\n",
              "    fill: var(--fill-color);\n",
              "    height: 32px;\n",
              "    padding: 0;\n",
              "    width: 32px;\n",
              "  }\n",
              "\n",
              "  .colab-df-quickchart:hover {\n",
              "    background-color: var(--hover-bg-color);\n",
              "    box-shadow: 0 1px 2px rgba(60, 64, 67, 0.3), 0 1px 3px 1px rgba(60, 64, 67, 0.15);\n",
              "    fill: var(--button-hover-fill-color);\n",
              "  }\n",
              "\n",
              "  .colab-df-quickchart-complete:disabled,\n",
              "  .colab-df-quickchart-complete:disabled:hover {\n",
              "    background-color: var(--disabled-bg-color);\n",
              "    fill: var(--disabled-fill-color);\n",
              "    box-shadow: none;\n",
              "  }\n",
              "\n",
              "  .colab-df-spinner {\n",
              "    border: 2px solid var(--fill-color);\n",
              "    border-color: transparent;\n",
              "    border-bottom-color: var(--fill-color);\n",
              "    animation:\n",
              "      spin 1s steps(1) infinite;\n",
              "  }\n",
              "\n",
              "  @keyframes spin {\n",
              "    0% {\n",
              "      border-color: transparent;\n",
              "      border-bottom-color: var(--fill-color);\n",
              "      border-left-color: var(--fill-color);\n",
              "    }\n",
              "    20% {\n",
              "      border-color: transparent;\n",
              "      border-left-color: var(--fill-color);\n",
              "      border-top-color: var(--fill-color);\n",
              "    }\n",
              "    30% {\n",
              "      border-color: transparent;\n",
              "      border-left-color: var(--fill-color);\n",
              "      border-top-color: var(--fill-color);\n",
              "      border-right-color: var(--fill-color);\n",
              "    }\n",
              "    40% {\n",
              "      border-color: transparent;\n",
              "      border-right-color: var(--fill-color);\n",
              "      border-top-color: var(--fill-color);\n",
              "    }\n",
              "    60% {\n",
              "      border-color: transparent;\n",
              "      border-right-color: var(--fill-color);\n",
              "    }\n",
              "    80% {\n",
              "      border-color: transparent;\n",
              "      border-right-color: var(--fill-color);\n",
              "      border-bottom-color: var(--fill-color);\n",
              "    }\n",
              "    90% {\n",
              "      border-color: transparent;\n",
              "      border-bottom-color: var(--fill-color);\n",
              "    }\n",
              "  }\n",
              "</style>\n",
              "\n",
              "  <script>\n",
              "    async function quickchart(key) {\n",
              "      const quickchartButtonEl =\n",
              "        document.querySelector('#' + key + ' button');\n",
              "      quickchartButtonEl.disabled = true;  // To prevent multiple clicks.\n",
              "      quickchartButtonEl.classList.add('colab-df-spinner');\n",
              "      try {\n",
              "        const charts = await google.colab.kernel.invokeFunction(\n",
              "            'suggestCharts', [key], {});\n",
              "      } catch (error) {\n",
              "        console.error('Error during call to suggestCharts:', error);\n",
              "      }\n",
              "      quickchartButtonEl.classList.remove('colab-df-spinner');\n",
              "      quickchartButtonEl.classList.add('colab-df-quickchart-complete');\n",
              "    }\n",
              "    (() => {\n",
              "      let quickchartButtonEl =\n",
              "        document.querySelector('#df-6cf34281-b6e9-4fab-8161-260ea48f42a1 button');\n",
              "      quickchartButtonEl.style.display =\n",
              "        google.colab.kernel.accessAllowed ? 'block' : 'none';\n",
              "    })();\n",
              "  </script>\n",
              "</div>\n",
              "\n",
              "  <div id=\"id_1a92d082-9f7a-400c-b219-c7e60cea62aa\">\n",
              "    <style>\n",
              "      .colab-df-generate {\n",
              "        background-color: #E8F0FE;\n",
              "        border: none;\n",
              "        border-radius: 50%;\n",
              "        cursor: pointer;\n",
              "        display: none;\n",
              "        fill: #1967D2;\n",
              "        height: 32px;\n",
              "        padding: 0 0 0 0;\n",
              "        width: 32px;\n",
              "      }\n",
              "\n",
              "      .colab-df-generate:hover {\n",
              "        background-color: #E2EBFA;\n",
              "        box-shadow: 0px 1px 2px rgba(60, 64, 67, 0.3), 0px 1px 3px 1px rgba(60, 64, 67, 0.15);\n",
              "        fill: #174EA6;\n",
              "      }\n",
              "\n",
              "      [theme=dark] .colab-df-generate {\n",
              "        background-color: #3B4455;\n",
              "        fill: #D2E3FC;\n",
              "      }\n",
              "\n",
              "      [theme=dark] .colab-df-generate:hover {\n",
              "        background-color: #434B5C;\n",
              "        box-shadow: 0px 1px 3px 1px rgba(0, 0, 0, 0.15);\n",
              "        filter: drop-shadow(0px 1px 2px rgba(0, 0, 0, 0.3));\n",
              "        fill: #FFFFFF;\n",
              "      }\n",
              "    </style>\n",
              "    <button class=\"colab-df-generate\" onclick=\"generateWithVariable('df')\"\n",
              "            title=\"Generate code using this dataframe.\"\n",
              "            style=\"display:none;\">\n",
              "\n",
              "  <svg xmlns=\"http://www.w3.org/2000/svg\" height=\"24px\"viewBox=\"0 0 24 24\"\n",
              "       width=\"24px\">\n",
              "    <path d=\"M7,19H8.4L18.45,9,17,7.55,7,17.6ZM5,21V16.75L18.45,3.32a2,2,0,0,1,2.83,0l1.4,1.43a1.91,1.91,0,0,1,.58,1.4,1.91,1.91,0,0,1-.58,1.4L9.25,21ZM18.45,9,17,7.55Zm-12,3A5.31,5.31,0,0,0,4.9,8.1,5.31,5.31,0,0,0,1,6.5,5.31,5.31,0,0,0,4.9,4.9,5.31,5.31,0,0,0,6.5,1,5.31,5.31,0,0,0,8.1,4.9,5.31,5.31,0,0,0,12,6.5,5.46,5.46,0,0,0,6.5,12Z\"/>\n",
              "  </svg>\n",
              "    </button>\n",
              "    <script>\n",
              "      (() => {\n",
              "      const buttonEl =\n",
              "        document.querySelector('#id_1a92d082-9f7a-400c-b219-c7e60cea62aa button.colab-df-generate');\n",
              "      buttonEl.style.display =\n",
              "        google.colab.kernel.accessAllowed ? 'block' : 'none';\n",
              "\n",
              "      buttonEl.onclick = () => {\n",
              "        google.colab.notebook.generateWithVariable('df');\n",
              "      }\n",
              "      })();\n",
              "    </script>\n",
              "  </div>\n",
              "\n",
              "    </div>\n",
              "  </div>\n"
            ]
          },
          "metadata": {},
          "execution_count": 58
        }
      ],
      "source": [
        "df # AS STATED ABOVE, YOU MAY REMOVE THIS AND THE ABOVE BLOCKS OF CODE IF YOU LIKE, THIS WILL HAVE NO"
      ]
    },
    {
      "cell_type": "code",
      "execution_count": 59,
      "id": "3eb86201",
      "metadata": {
        "colab": {
          "base_uri": "https://localhost:8080/"
        },
        "id": "3eb86201",
        "outputId": "74ced360-ecdb-4d63-88de-f0233227ece1"
      },
      "outputs": [
        {
          "output_type": "execute_result",
          "data": {
            "text/plain": [
              "(81097, 6)"
            ]
          },
          "metadata": {},
          "execution_count": 59
        }
      ],
      "source": [
        "x.shape ### IN THE FOLLOWING PARTS OF THE CODE, MAKE SURE THAT EVERYTING IS LOADED CORRECTLY, YOU SHOULD HAVE A DATASET WITH 22 CLASSES, (n-rows, 6 columns, later another dimension will be added here)"
      ]
    },
    {
      "cell_type": "code",
      "execution_count": 60,
      "id": "6b640bf8",
      "metadata": {
        "colab": {
          "base_uri": "https://localhost:8080/"
        },
        "id": "6b640bf8",
        "outputId": "5094ad5b-c67f-4b8c-9e57-f37a5f9dba54"
      },
      "outputs": [
        {
          "output_type": "execute_result",
          "data": {
            "text/plain": [
              "(81097,)"
            ]
          },
          "metadata": {},
          "execution_count": 60
        }
      ],
      "source": [
        "y.shape"
      ]
    },
    {
      "cell_type": "code",
      "execution_count": 61,
      "id": "9650592c",
      "metadata": {
        "colab": {
          "base_uri": "https://localhost:8080/"
        },
        "id": "9650592c",
        "outputId": "d798fe1c-b505-44e4-f463-5fdc778eba7e"
      },
      "outputs": [
        {
          "output_type": "execute_result",
          "data": {
            "text/plain": [
              "array([ 0,  1,  2,  3,  4,  5,  6,  7,  8,  9, 10, 11, 12, 13, 14, 15, 16,\n",
              "       17, 18, 19, 20, 21])"
            ]
          },
          "metadata": {},
          "execution_count": 61
        }
      ],
      "source": [
        "np.unique(y)"
      ]
    },
    {
      "cell_type": "code",
      "execution_count": 62,
      "id": "0edc69b6",
      "metadata": {
        "colab": {
          "base_uri": "https://localhost:8080/"
        },
        "id": "0edc69b6",
        "outputId": "625b9f40-a196-4ff3-ac69-c7809eec4881"
      },
      "outputs": [
        {
          "output_type": "execute_result",
          "data": {
            "text/plain": [
              "array([-0., -0., -0., -0.,  0.,  0.])"
            ]
          },
          "metadata": {},
          "execution_count": 62
        }
      ],
      "source": [
        "x[0]"
      ]
    },
    {
      "cell_type": "code",
      "execution_count": 63,
      "id": "b4eec323",
      "metadata": {
        "colab": {
          "base_uri": "https://localhost:8080/"
        },
        "id": "b4eec323",
        "outputId": "95c6ff33-ad24-4d1d-cdb9-d3b0cb670fb9"
      },
      "outputs": [
        {
          "output_type": "execute_result",
          "data": {
            "text/plain": [
              "0"
            ]
          },
          "metadata": {},
          "execution_count": 63
        }
      ],
      "source": [
        "y[0] # these were sample rows from the data for your to inspect, you should see a 6 by 1 vector above and a single value here"
      ]
    },
    {
      "cell_type": "code",
      "execution_count": 64,
      "id": "9db6440b",
      "metadata": {
        "id": "9db6440b"
      },
      "outputs": [],
      "source": [
        "# Split the data into training, validation, and testing sets\n",
        "x_train, x_test, y_train, y_test = train_test_split(x, y, test_size=0.1, random_state=42)\n",
        "x_train, x_val, y_train, y_val = train_test_split(x_train, y_train, test_size=0.2, random_state=42)"
      ]
    },
    {
      "cell_type": "code",
      "execution_count": 65,
      "id": "0b135163",
      "metadata": {
        "id": "0b135163"
      },
      "outputs": [],
      "source": [
        "# Reshape the data\n",
        "x_train = x_train.reshape((x_train.shape[0], x_train.shape[1], 1))\n",
        "x_val = x_val.reshape((x_val.shape[0], x_val.shape[1], 1))\n",
        "x_test = x_test.reshape((x_test.shape[0], x_test.shape[1], 1))"
      ]
    },
    {
      "cell_type": "code",
      "execution_count": 66,
      "id": "936243fe",
      "metadata": {
        "id": "936243fe"
      },
      "outputs": [],
      "source": [
        "# Determine the input shape and number of classes\n",
        "input_shape = (x_train.shape[1], 1)\n",
        "num_classes = len(np.unique(y))"
      ]
    },
    {
      "cell_type": "code",
      "execution_count": 67,
      "id": "4cb2989e",
      "metadata": {
        "colab": {
          "base_uri": "https://localhost:8080/"
        },
        "id": "4cb2989e",
        "outputId": "8d39dbea-eb2d-4d61-93ad-d0982a19b18f"
      },
      "outputs": [
        {
          "output_type": "execute_result",
          "data": {
            "text/plain": [
              "22"
            ]
          },
          "metadata": {},
          "execution_count": 67
        }
      ],
      "source": [
        "num_classes # must have 22"
      ]
    },
    {
      "cell_type": "code",
      "execution_count": 68,
      "id": "26c6890e",
      "metadata": {
        "colab": {
          "base_uri": "https://localhost:8080/"
        },
        "id": "26c6890e",
        "outputId": "4850bfca-5656-4ea3-8157-29bbd65f3b99"
      },
      "outputs": [
        {
          "output_type": "execute_result",
          "data": {
            "text/plain": [
              "(6, 1)"
            ]
          },
          "metadata": {},
          "execution_count": 68
        }
      ],
      "source": [
        "input_shape"
      ]
    },
    {
      "cell_type": "code",
      "execution_count": 69,
      "id": "859aa647",
      "metadata": {
        "colab": {
          "base_uri": "https://localhost:8080/"
        },
        "id": "859aa647",
        "outputId": "f821fa09-9b48-4eab-816e-eea9b707161b"
      },
      "outputs": [
        {
          "output_type": "execute_result",
          "data": {
            "text/plain": [
              "(58389, 6, 1)"
            ]
          },
          "metadata": {},
          "execution_count": 69
        }
      ],
      "source": [
        "x_train.shape"
      ]
    },
    {
      "cell_type": "code",
      "execution_count": 70,
      "id": "eab565dd",
      "metadata": {
        "colab": {
          "base_uri": "https://localhost:8080/"
        },
        "id": "eab565dd",
        "outputId": "6e4abf90-3e7e-4ea4-82a2-70bcaa3db123"
      },
      "outputs": [
        {
          "output_type": "execute_result",
          "data": {
            "text/plain": [
              "(58389,)"
            ]
          },
          "metadata": {},
          "execution_count": 70
        }
      ],
      "source": [
        "y_train.shape"
      ]
    },
    {
      "cell_type": "code",
      "execution_count": 71,
      "id": "ab950213",
      "metadata": {
        "colab": {
          "base_uri": "https://localhost:8080/"
        },
        "id": "ab950213",
        "outputId": "7082c5ef-2c82-4e90-801f-00fdf06f8f34"
      },
      "outputs": [
        {
          "output_type": "execute_result",
          "data": {
            "text/plain": [
              "array([[72.823593],\n",
              "       [-1.559806],\n",
              "       [18.949818],\n",
              "       [ 0.245982],\n",
              "       [ 1.402932],\n",
              "       [ 0.185015]])"
            ]
          },
          "metadata": {},
          "execution_count": 71
        }
      ],
      "source": [
        "x_train[0]"
      ]
    },
    {
      "cell_type": "code",
      "execution_count": 72,
      "id": "7f11432f",
      "metadata": {
        "colab": {
          "base_uri": "https://localhost:8080/"
        },
        "id": "7f11432f",
        "outputId": "745dd884-ae29-4926-9cb2-afbc6ec71f15"
      },
      "outputs": [
        {
          "output_type": "execute_result",
          "data": {
            "text/plain": [
              "20"
            ]
          },
          "metadata": {},
          "execution_count": 72
        }
      ],
      "source": [
        "y_train[0]"
      ]
    },
    {
      "cell_type": "code",
      "execution_count": 73,
      "id": "cd51204b",
      "metadata": {
        "id": "cd51204b"
      },
      "outputs": [],
      "source": [
        "# Transformer Encoder function with dropout and L2 regularization\n",
        "def transformer_encoder(inputs, head_size, num_heads, ff_dim, dropout=0.1, l2_reg=0.01):\n",
        "\n",
        "    x = layers.MultiHeadAttention(key_dim=head_size, num_heads=num_heads, dropout=dropout)(inputs, inputs)\n",
        "    x = layers.Dropout(dropout)(x)\n",
        "    x = layers.LayerNormalization(epsilon=1e-6)(x)\n",
        "    res = x + inputs\n",
        "\n",
        "    # Feed-forward network with dropout and L2 regularization\n",
        "    x = layers.Dense(ff_dim, activation=\"relu\", kernel_regularizer=keras.regularizers.l2(l2_reg))(res)\n",
        "    x = layers.Dropout(dropout)(x)\n",
        "\n",
        "    x = layers.Dense(ff_dim, activation=\"relu\", kernel_regularizer=keras.regularizers.l2(l2_reg))(x)\n",
        "    x = layers.Dropout(dropout)(x)\n",
        "\n",
        "    '''\n",
        "    YOU MAY WANT TO ADD OR REMOVE THESE TWO LINES HERE PRECISELY IN THIS PART OF THE CODE, PAY ATTENTION TO THE INDENTATION, PYTHON REQUIRES CONSISTENCY IN ORDER FOR THE CODE TO RUN CORRECTLY\n",
        "    x = layers.Dense(ff_dim, activation=\"relu\", kernel_regularizer=keras.regularizers.l2(l2_reg))(x)\n",
        "    x = layers.Dropout(dropout)(x)\n",
        "\n",
        "    '''\n",
        "\n",
        "    x = layers.Dense(ff_dim, activation=\"relu\", kernel_regularizer=keras.regularizers.l2(l2_reg))(x)\n",
        "    x = layers.Dropout(dropout)(x)\n",
        "\n",
        "    x = layers.Dense(inputs.shape[-1], activation = 'softmax')(x)\n",
        "    x = layers.LayerNormalization(epsilon=1e-6)(x)\n",
        "\n",
        "    return x + res"
      ]
    },
    {
      "cell_type": "code",
      "execution_count": 74,
      "id": "9df843aa",
      "metadata": {
        "id": "9df843aa"
      },
      "outputs": [],
      "source": [
        "# Transformer Decoder function\n",
        "def transformer_decoder(inputs, enc_outputs, head_size, num_heads, ff_dim, dropout=0.1, l2_reg=0.01):\n",
        "    x = layers.MultiHeadAttention(key_dim=head_size, num_heads=num_heads, dropout=dropout)(inputs, inputs)\n",
        "    x = layers.Dropout(dropout)(x)\n",
        "    x = layers.LayerNormalization(epsilon=1e-6)(x)\n",
        "    res = x + inputs\n",
        "\n",
        "    x = layers.MultiHeadAttention(key_dim=head_size, num_heads=num_heads, dropout=dropout)(res, enc_outputs)\n",
        "    x = layers.Dropout(dropout)(x)\n",
        "    x = layers.LayerNormalization(epsilon=1e-6)(x)\n",
        "    x = x + res\n",
        "\n",
        "    # Feed-forward network\n",
        "    x = layers.Dense(ff_dim, activation=\"relu\", kernel_regularizer=keras.regularizers.l2(l2_reg))(x)\n",
        "    x = layers.Dropout(dropout)(x)\n",
        "\n",
        "    x = layers.Dense(ff_dim, activation=\"relu\", kernel_regularizer=keras.regularizers.l2(l2_reg))(x)\n",
        "    x = layers.Dropout(dropout)(x)\n",
        "\n",
        "    '''\n",
        "    YOU MAY WANT TO ADD OR REMOVE THESE TWO LINES HERE PRECISELY IN THIS PART OF THE CODE, PAY ATTENTION TO THE INDENTATION, PYTHON REQUIRES CONSISTENCY IN ORDER FOR THE CODE TO RUN CORRECTLY\n",
        "    x = layers.Dense(ff_dim, activation=\"relu\", kernel_regularizer=keras.regularizers.l2(l2_reg))(x)\n",
        "    x = layers.Dropout(dropout)(x)\n",
        "\n",
        "    '''\n",
        "\n",
        "    x = layers.Dense(ff_dim, activation=\"relu\", kernel_regularizer=keras.regularizers.l2(l2_reg))(x)\n",
        "    x = layers.Dropout(dropout)(x)\n",
        "\n",
        "    x = layers.Dense(inputs.shape[-1], activation = 'softmax')(x)\n",
        "    x = layers.LayerNormalization(epsilon=1e-6)(x)\n",
        "\n",
        "    return x + res\n"
      ]
    },
    {
      "cell_type": "code",
      "execution_count": 75,
      "id": "d9851305",
      "metadata": {
        "id": "d9851305"
      },
      "outputs": [],
      "source": [
        "# Build the model\n",
        "def build_model(input_shape, head_size, num_heads, ff_dim, num_transformer_blocks, mlp_units, dropout=0, mlp_dropout=0, l2_reg=0):\n",
        "    inputs = keras.Input(shape=input_shape)\n",
        "    x = inputs\n",
        "\n",
        "    # Encoder\n",
        "    for _ in range(num_transformer_blocks):\n",
        "        x = transformer_encoder(x, head_size, num_heads, ff_dim, dropout, l2_reg)\n",
        "\n",
        "\n",
        "    # Decoder\n",
        "    decoder_input = keras.Input(shape=input_shape)\n",
        "    dec = decoder_input\n",
        "    for _ in range(num_transformer_blocks):\n",
        "        dec = transformer_decoder(dec, x, head_size, num_heads, ff_dim, dropout, l2_reg)\n",
        "\n",
        "    x = layers.Flatten()(x)\n",
        "    dec = layers.Flatten()(dec)\n",
        "    x = layers.Concatenate()([x, dec])\n",
        "\n",
        "    for dim in mlp_units:\n",
        "        x = layers.Dense(dim, activation=\"relu\")(x)\n",
        "        x = layers.Dropout(mlp_dropout)(x)\n",
        "\n",
        "    outputs = layers.Dense(num_classes, activation=\"softmax\")(x)\n",
        "\n",
        "    model = keras.Model([inputs, decoder_input], outputs)\n",
        "    return model"
      ]
    },
    {
      "cell_type": "code",
      "execution_count": 76,
      "id": "1d648db6",
      "metadata": {
        "id": "1d648db6"
      },
      "outputs": [],
      "source": [
        "# Define the hyperparameters\n",
        "\"\"\"\n",
        "# THIS IS THE PART YOU SHOULD PLAY AROUND WITH\n",
        "# YOU MAY REDUCE THESE NUMBERS IF YOUR MACHINE IS OTHERWISE INCAPABLE OF RUNNING THE CODE\"\"\"\n",
        "\n",
        "head_size = 4\n",
        "num_heads = 4\n",
        "ff_dim = 256\n",
        "num_transformer_blocks = 4\n",
        "mlp_units = [256]\n",
        "dropout = 0.1\n",
        "mlp_dropout = 0.1\n",
        "initial_lr = 0.001\n",
        "l2_reg=0.01"
      ]
    },
    {
      "cell_type": "code",
      "execution_count": 77,
      "id": "6c794103",
      "metadata": {
        "id": "6c794103"
      },
      "outputs": [],
      "source": [
        "# Build the model\n",
        "model = build_model(input_shape, head_size, num_heads, ff_dim, num_transformer_blocks, mlp_units, dropout, mlp_dropout)"
      ]
    },
    {
      "cell_type": "code",
      "execution_count": 78,
      "id": "64e4c3ef",
      "metadata": {
        "id": "64e4c3ef"
      },
      "outputs": [],
      "source": [
        "# Create the optimizer with the initial learning rate\n",
        "optimizer = Adam(learning_rate=initial_lr)"
      ]
    },
    {
      "cell_type": "code",
      "execution_count": 79,
      "id": "0e19e795",
      "metadata": {
        "id": "0e19e795"
      },
      "outputs": [],
      "source": [
        "# Compile the model\n",
        "model.compile(optimizer=optimizer, loss=\"sparse_categorical_crossentropy\", metrics=[\"accuracy\"])"
      ]
    },
    {
      "cell_type": "code",
      "execution_count": 80,
      "id": "02a51f0f",
      "metadata": {
        "id": "02a51f0f"
      },
      "outputs": [],
      "source": [
        "# Create the ReduceLROnPlateau callback\n",
        "lr_callback = ReduceLROnPlateau(factor=0.1, patience=50)"
      ]
    },
    {
      "cell_type": "code",
      "execution_count": 81,
      "id": "511f6219",
      "metadata": {
        "id": "511f6219"
      },
      "outputs": [],
      "source": [
        "# Record the start time\n",
        "start_time = time.time()"
      ]
    },
    {
      "cell_type": "code",
      "execution_count": 82,
      "id": "19d80153",
      "metadata": {
        "colab": {
          "base_uri": "https://localhost:8080/"
        },
        "id": "19d80153",
        "outputId": "c34036e7-109c-4cba-f5ae-3c0597b3d9cb"
      },
      "outputs": [
        {
          "output_type": "stream",
          "name": "stdout",
          "text": [
            "Epoch 1/100\n",
            "913/913 [==============================] - 104s 73ms/step - loss: 2.0220 - accuracy: 0.6026 - val_loss: 0.6405 - val_accuracy: 0.7773 - lr: 0.0010\n",
            "Epoch 2/100\n",
            "913/913 [==============================] - 62s 68ms/step - loss: 0.6379 - accuracy: 0.7827 - val_loss: 0.4829 - val_accuracy: 0.8217 - lr: 0.0010\n",
            "Epoch 3/100\n",
            "913/913 [==============================] - 62s 68ms/step - loss: 0.5116 - accuracy: 0.8220 - val_loss: 0.3913 - val_accuracy: 0.8656 - lr: 0.0010\n",
            "Epoch 4/100\n",
            "913/913 [==============================] - 63s 69ms/step - loss: 0.4439 - accuracy: 0.8461 - val_loss: 0.3333 - val_accuracy: 0.8845 - lr: 0.0010\n",
            "Epoch 5/100\n",
            "913/913 [==============================] - 60s 66ms/step - loss: 0.3960 - accuracy: 0.8634 - val_loss: 0.3621 - val_accuracy: 0.8619 - lr: 0.0010\n",
            "Epoch 6/100\n",
            "913/913 [==============================] - 62s 68ms/step - loss: 0.3567 - accuracy: 0.8773 - val_loss: 0.2983 - val_accuracy: 0.8991 - lr: 0.0010\n",
            "Epoch 7/100\n",
            "913/913 [==============================] - 64s 70ms/step - loss: 0.3323 - accuracy: 0.8855 - val_loss: 0.2726 - val_accuracy: 0.9104 - lr: 0.0010\n",
            "Epoch 8/100\n",
            "913/913 [==============================] - 60s 66ms/step - loss: 0.3048 - accuracy: 0.8954 - val_loss: 0.2384 - val_accuracy: 0.9175 - lr: 0.0010\n",
            "Epoch 9/100\n",
            "913/913 [==============================] - 59s 64ms/step - loss: 0.2781 - accuracy: 0.9028 - val_loss: 0.2460 - val_accuracy: 0.9146 - lr: 0.0010\n",
            "Epoch 10/100\n",
            "913/913 [==============================] - 62s 68ms/step - loss: 0.2594 - accuracy: 0.9110 - val_loss: 0.2609 - val_accuracy: 0.9052 - lr: 0.0010\n",
            "Epoch 11/100\n",
            "913/913 [==============================] - 62s 68ms/step - loss: 0.2537 - accuracy: 0.9145 - val_loss: 0.2306 - val_accuracy: 0.9253 - lr: 0.0010\n",
            "Epoch 12/100\n",
            "913/913 [==============================] - 60s 66ms/step - loss: 0.2313 - accuracy: 0.9227 - val_loss: 0.1934 - val_accuracy: 0.9380 - lr: 0.0010\n",
            "Epoch 13/100\n",
            "913/913 [==============================] - 62s 68ms/step - loss: 0.2180 - accuracy: 0.9268 - val_loss: 0.1652 - val_accuracy: 0.9465 - lr: 0.0010\n",
            "Epoch 14/100\n",
            "913/913 [==============================] - 61s 67ms/step - loss: 0.2129 - accuracy: 0.9289 - val_loss: 0.1604 - val_accuracy: 0.9451 - lr: 0.0010\n",
            "Epoch 15/100\n",
            "913/913 [==============================] - 60s 65ms/step - loss: 0.2020 - accuracy: 0.9336 - val_loss: 0.1621 - val_accuracy: 0.9463 - lr: 0.0010\n",
            "Epoch 16/100\n",
            "913/913 [==============================] - 62s 68ms/step - loss: 0.1908 - accuracy: 0.9372 - val_loss: 0.1471 - val_accuracy: 0.9508 - lr: 0.0010\n",
            "Epoch 17/100\n",
            "913/913 [==============================] - 60s 66ms/step - loss: 0.1829 - accuracy: 0.9396 - val_loss: 0.1715 - val_accuracy: 0.9436 - lr: 0.0010\n",
            "Epoch 18/100\n",
            "913/913 [==============================] - 59s 65ms/step - loss: 0.1773 - accuracy: 0.9419 - val_loss: 0.1619 - val_accuracy: 0.9416 - lr: 0.0010\n",
            "Epoch 19/100\n",
            "913/913 [==============================] - 63s 69ms/step - loss: 0.1753 - accuracy: 0.9413 - val_loss: 0.1506 - val_accuracy: 0.9516 - lr: 0.0010\n",
            "Epoch 20/100\n",
            "913/913 [==============================] - 61s 66ms/step - loss: 0.1681 - accuracy: 0.9445 - val_loss: 0.1163 - val_accuracy: 0.9662 - lr: 0.0010\n",
            "Epoch 21/100\n",
            "913/913 [==============================] - 60s 65ms/step - loss: 0.1583 - accuracy: 0.9476 - val_loss: 0.1390 - val_accuracy: 0.9544 - lr: 0.0010\n",
            "Epoch 22/100\n",
            "913/913 [==============================] - 61s 66ms/step - loss: 0.1614 - accuracy: 0.9465 - val_loss: 0.1165 - val_accuracy: 0.9652 - lr: 0.0010\n",
            "Epoch 23/100\n",
            "913/913 [==============================] - 61s 67ms/step - loss: 0.1581 - accuracy: 0.9475 - val_loss: 0.1256 - val_accuracy: 0.9597 - lr: 0.0010\n",
            "Epoch 24/100\n",
            "913/913 [==============================] - 60s 66ms/step - loss: 0.1428 - accuracy: 0.9527 - val_loss: 0.1206 - val_accuracy: 0.9595 - lr: 0.0010\n",
            "Epoch 25/100\n",
            "913/913 [==============================] - 62s 68ms/step - loss: 0.1498 - accuracy: 0.9518 - val_loss: 0.0983 - val_accuracy: 0.9630 - lr: 0.0010\n",
            "Epoch 26/100\n",
            "913/913 [==============================] - 61s 67ms/step - loss: 0.1378 - accuracy: 0.9555 - val_loss: 0.1021 - val_accuracy: 0.9693 - lr: 0.0010\n",
            "Epoch 27/100\n",
            "913/913 [==============================] - 62s 67ms/step - loss: 0.1351 - accuracy: 0.9556 - val_loss: 0.1206 - val_accuracy: 0.9610 - lr: 0.0010\n",
            "Epoch 28/100\n",
            "913/913 [==============================] - 62s 68ms/step - loss: 0.1310 - accuracy: 0.9572 - val_loss: 0.1043 - val_accuracy: 0.9635 - lr: 0.0010\n",
            "Epoch 29/100\n",
            "913/913 [==============================] - 61s 66ms/step - loss: 0.1307 - accuracy: 0.9568 - val_loss: 0.0846 - val_accuracy: 0.9731 - lr: 0.0010\n",
            "Epoch 30/100\n",
            "913/913 [==============================] - 61s 67ms/step - loss: 0.1302 - accuracy: 0.9585 - val_loss: 0.1001 - val_accuracy: 0.9693 - lr: 0.0010\n",
            "Epoch 31/100\n",
            "913/913 [==============================] - 59s 64ms/step - loss: 0.1293 - accuracy: 0.9578 - val_loss: 0.0999 - val_accuracy: 0.9681 - lr: 0.0010\n",
            "Epoch 32/100\n",
            "913/913 [==============================] - 60s 65ms/step - loss: 0.1286 - accuracy: 0.9574 - val_loss: 0.0900 - val_accuracy: 0.9678 - lr: 0.0010\n",
            "Epoch 33/100\n",
            "913/913 [==============================] - 56s 62ms/step - loss: 0.1160 - accuracy: 0.9616 - val_loss: 0.1156 - val_accuracy: 0.9592 - lr: 0.0010\n",
            "Epoch 34/100\n",
            "913/913 [==============================] - 56s 62ms/step - loss: 0.1294 - accuracy: 0.9589 - val_loss: 0.1090 - val_accuracy: 0.9625 - lr: 0.0010\n",
            "Epoch 35/100\n",
            "913/913 [==============================] - 60s 66ms/step - loss: 0.1097 - accuracy: 0.9634 - val_loss: 0.0851 - val_accuracy: 0.9742 - lr: 0.0010\n",
            "Epoch 36/100\n",
            "913/913 [==============================] - 58s 63ms/step - loss: 0.1233 - accuracy: 0.9614 - val_loss: 0.0840 - val_accuracy: 0.9708 - lr: 0.0010\n",
            "Epoch 37/100\n",
            "913/913 [==============================] - 57s 63ms/step - loss: 0.1277 - accuracy: 0.9595 - val_loss: 0.1084 - val_accuracy: 0.9680 - lr: 0.0010\n",
            "Epoch 38/100\n",
            "913/913 [==============================] - 60s 66ms/step - loss: 0.1205 - accuracy: 0.9614 - val_loss: 0.0851 - val_accuracy: 0.9739 - lr: 0.0010\n",
            "Epoch 39/100\n",
            "913/913 [==============================] - 59s 65ms/step - loss: 0.1095 - accuracy: 0.9648 - val_loss: 0.0846 - val_accuracy: 0.9729 - lr: 0.0010\n",
            "Epoch 40/100\n",
            "913/913 [==============================] - 58s 63ms/step - loss: 0.1114 - accuracy: 0.9630 - val_loss: 0.1137 - val_accuracy: 0.9623 - lr: 0.0010\n",
            "Epoch 41/100\n",
            "913/913 [==============================] - 60s 66ms/step - loss: 0.1215 - accuracy: 0.9611 - val_loss: 0.0907 - val_accuracy: 0.9677 - lr: 0.0010\n",
            "Epoch 42/100\n",
            "913/913 [==============================] - 61s 67ms/step - loss: 0.1108 - accuracy: 0.9638 - val_loss: 0.0758 - val_accuracy: 0.9754 - lr: 0.0010\n",
            "Epoch 43/100\n",
            "913/913 [==============================] - 60s 66ms/step - loss: 0.1082 - accuracy: 0.9657 - val_loss: 0.0737 - val_accuracy: 0.9758 - lr: 0.0010\n",
            "Epoch 44/100\n",
            "913/913 [==============================] - 60s 66ms/step - loss: 0.1035 - accuracy: 0.9666 - val_loss: 0.1150 - val_accuracy: 0.9633 - lr: 0.0010\n",
            "Epoch 45/100\n",
            "913/913 [==============================] - 62s 68ms/step - loss: 0.1188 - accuracy: 0.9629 - val_loss: 0.0735 - val_accuracy: 0.9768 - lr: 0.0010\n",
            "Epoch 46/100\n",
            "913/913 [==============================] - 59s 65ms/step - loss: 0.1054 - accuracy: 0.9658 - val_loss: 0.1196 - val_accuracy: 0.9691 - lr: 0.0010\n",
            "Epoch 47/100\n",
            "913/913 [==============================] - 59s 65ms/step - loss: 0.1112 - accuracy: 0.9643 - val_loss: 0.0709 - val_accuracy: 0.9773 - lr: 0.0010\n",
            "Epoch 48/100\n",
            "913/913 [==============================] - 61s 66ms/step - loss: 0.0979 - accuracy: 0.9682 - val_loss: 0.1109 - val_accuracy: 0.9651 - lr: 0.0010\n",
            "Epoch 49/100\n",
            "913/913 [==============================] - 58s 64ms/step - loss: 0.1057 - accuracy: 0.9658 - val_loss: 0.1056 - val_accuracy: 0.9602 - lr: 0.0010\n",
            "Epoch 50/100\n",
            "913/913 [==============================] - 60s 66ms/step - loss: 0.1039 - accuracy: 0.9662 - val_loss: 0.1116 - val_accuracy: 0.9687 - lr: 0.0010\n",
            "Epoch 51/100\n",
            "913/913 [==============================] - 61s 66ms/step - loss: 0.1066 - accuracy: 0.9652 - val_loss: 0.1075 - val_accuracy: 0.9668 - lr: 0.0010\n",
            "Epoch 52/100\n",
            "913/913 [==============================] - 58s 64ms/step - loss: 0.1057 - accuracy: 0.9656 - val_loss: 0.0653 - val_accuracy: 0.9786 - lr: 0.0010\n",
            "Epoch 53/100\n",
            "913/913 [==============================] - 59s 64ms/step - loss: 0.0987 - accuracy: 0.9672 - val_loss: 0.0739 - val_accuracy: 0.9763 - lr: 0.0010\n",
            "Epoch 54/100\n",
            "913/913 [==============================] - 59s 64ms/step - loss: 0.1030 - accuracy: 0.9665 - val_loss: 0.0768 - val_accuracy: 0.9757 - lr: 0.0010\n",
            "Epoch 55/100\n",
            "913/913 [==============================] - 58s 64ms/step - loss: 0.1019 - accuracy: 0.9687 - val_loss: 0.0794 - val_accuracy: 0.9757 - lr: 0.0010\n",
            "Epoch 56/100\n",
            "913/913 [==============================] - 56s 62ms/step - loss: 0.0956 - accuracy: 0.9693 - val_loss: 0.0804 - val_accuracy: 0.9740 - lr: 0.0010\n",
            "Epoch 57/100\n",
            "913/913 [==============================] - 58s 64ms/step - loss: 0.1050 - accuracy: 0.9667 - val_loss: 0.1152 - val_accuracy: 0.9623 - lr: 0.0010\n",
            "Epoch 58/100\n",
            "913/913 [==============================] - 58s 64ms/step - loss: 0.0976 - accuracy: 0.9684 - val_loss: 0.0801 - val_accuracy: 0.9754 - lr: 0.0010\n",
            "Epoch 59/100\n",
            "913/913 [==============================] - 55s 61ms/step - loss: 0.0931 - accuracy: 0.9696 - val_loss: 0.1001 - val_accuracy: 0.9679 - lr: 0.0010\n",
            "Epoch 60/100\n",
            "913/913 [==============================] - 58s 63ms/step - loss: 0.0973 - accuracy: 0.9690 - val_loss: 0.0799 - val_accuracy: 0.9722 - lr: 0.0010\n",
            "Epoch 61/100\n",
            "913/913 [==============================] - 57s 63ms/step - loss: 0.1015 - accuracy: 0.9684 - val_loss: 0.0738 - val_accuracy: 0.9762 - lr: 0.0010\n",
            "Epoch 62/100\n",
            "913/913 [==============================] - 57s 62ms/step - loss: 0.0971 - accuracy: 0.9682 - val_loss: 0.0652 - val_accuracy: 0.9788 - lr: 0.0010\n",
            "Epoch 63/100\n",
            "913/913 [==============================] - 59s 65ms/step - loss: 0.0880 - accuracy: 0.9721 - val_loss: 0.0833 - val_accuracy: 0.9716 - lr: 0.0010\n",
            "Epoch 64/100\n",
            "913/913 [==============================] - 58s 63ms/step - loss: 0.0913 - accuracy: 0.9701 - val_loss: 0.0616 - val_accuracy: 0.9784 - lr: 0.0010\n",
            "Epoch 65/100\n",
            "913/913 [==============================] - 58s 63ms/step - loss: 0.0958 - accuracy: 0.9683 - val_loss: 0.0750 - val_accuracy: 0.9751 - lr: 0.0010\n",
            "Epoch 66/100\n",
            "913/913 [==============================] - 58s 64ms/step - loss: 0.0928 - accuracy: 0.9706 - val_loss: 0.0653 - val_accuracy: 0.9773 - lr: 0.0010\n",
            "Epoch 67/100\n",
            "913/913 [==============================] - 57s 63ms/step - loss: 0.1005 - accuracy: 0.9688 - val_loss: 0.0731 - val_accuracy: 0.9760 - lr: 0.0010\n",
            "Epoch 68/100\n",
            "913/913 [==============================] - 57s 62ms/step - loss: 0.0948 - accuracy: 0.9702 - val_loss: 0.0593 - val_accuracy: 0.9818 - lr: 0.0010\n",
            "Epoch 69/100\n",
            "913/913 [==============================] - 58s 64ms/step - loss: 0.0881 - accuracy: 0.9711 - val_loss: 0.0632 - val_accuracy: 0.9765 - lr: 0.0010\n",
            "Epoch 70/100\n",
            "913/913 [==============================] - 60s 65ms/step - loss: 0.0944 - accuracy: 0.9700 - val_loss: 0.0753 - val_accuracy: 0.9753 - lr: 0.0010\n",
            "Epoch 71/100\n",
            "913/913 [==============================] - 58s 64ms/step - loss: 0.0895 - accuracy: 0.9724 - val_loss: 0.0625 - val_accuracy: 0.9799 - lr: 0.0010\n",
            "Epoch 72/100\n",
            "913/913 [==============================] - 60s 66ms/step - loss: 0.0950 - accuracy: 0.9696 - val_loss: 0.0822 - val_accuracy: 0.9752 - lr: 0.0010\n",
            "Epoch 73/100\n",
            "913/913 [==============================] - 61s 67ms/step - loss: 0.0908 - accuracy: 0.9717 - val_loss: 0.0701 - val_accuracy: 0.9790 - lr: 0.0010\n",
            "Epoch 74/100\n",
            "913/913 [==============================] - 61s 66ms/step - loss: 0.0960 - accuracy: 0.9707 - val_loss: 0.0617 - val_accuracy: 0.9802 - lr: 0.0010\n",
            "Epoch 75/100\n",
            "913/913 [==============================] - 59s 65ms/step - loss: 0.0904 - accuracy: 0.9706 - val_loss: 0.0642 - val_accuracy: 0.9809 - lr: 0.0010\n",
            "Epoch 76/100\n",
            "913/913 [==============================] - 60s 65ms/step - loss: 0.0848 - accuracy: 0.9723 - val_loss: 0.0684 - val_accuracy: 0.9784 - lr: 0.0010\n",
            "Epoch 77/100\n",
            "913/913 [==============================] - 61s 67ms/step - loss: 0.0916 - accuracy: 0.9706 - val_loss: 0.0700 - val_accuracy: 0.9770 - lr: 0.0010\n",
            "Epoch 78/100\n",
            "913/913 [==============================] - 60s 66ms/step - loss: 0.0851 - accuracy: 0.9719 - val_loss: 0.0675 - val_accuracy: 0.9778 - lr: 0.0010\n",
            "Epoch 79/100\n",
            "913/913 [==============================] - 59s 64ms/step - loss: 0.0924 - accuracy: 0.9714 - val_loss: 0.0719 - val_accuracy: 0.9764 - lr: 0.0010\n",
            "Epoch 80/100\n",
            "913/913 [==============================] - 57s 62ms/step - loss: 0.0873 - accuracy: 0.9722 - val_loss: 0.0624 - val_accuracy: 0.9792 - lr: 0.0010\n",
            "Epoch 81/100\n",
            "913/913 [==============================] - 57s 62ms/step - loss: 0.0883 - accuracy: 0.9725 - val_loss: 0.0689 - val_accuracy: 0.9774 - lr: 0.0010\n",
            "Epoch 82/100\n",
            "913/913 [==============================] - 59s 64ms/step - loss: 0.0861 - accuracy: 0.9730 - val_loss: 0.0575 - val_accuracy: 0.9823 - lr: 0.0010\n",
            "Epoch 83/100\n",
            "913/913 [==============================] - 57s 63ms/step - loss: 0.0891 - accuracy: 0.9715 - val_loss: 0.0615 - val_accuracy: 0.9794 - lr: 0.0010\n",
            "Epoch 84/100\n",
            "913/913 [==============================] - 57s 62ms/step - loss: 0.0820 - accuracy: 0.9741 - val_loss: 0.0638 - val_accuracy: 0.9799 - lr: 0.0010\n",
            "Epoch 85/100\n",
            "913/913 [==============================] - 57s 63ms/step - loss: 0.0898 - accuracy: 0.9713 - val_loss: 0.0593 - val_accuracy: 0.9803 - lr: 0.0010\n",
            "Epoch 86/100\n",
            "913/913 [==============================] - 58s 63ms/step - loss: 0.0899 - accuracy: 0.9724 - val_loss: 0.0729 - val_accuracy: 0.9772 - lr: 0.0010\n",
            "Epoch 87/100\n",
            "913/913 [==============================] - 57s 63ms/step - loss: 0.0802 - accuracy: 0.9745 - val_loss: 0.0641 - val_accuracy: 0.9805 - lr: 0.0010\n",
            "Epoch 88/100\n",
            "913/913 [==============================] - 58s 63ms/step - loss: 0.0931 - accuracy: 0.9711 - val_loss: 0.0715 - val_accuracy: 0.9759 - lr: 0.0010\n",
            "Epoch 89/100\n",
            "913/913 [==============================] - 60s 66ms/step - loss: 0.0825 - accuracy: 0.9743 - val_loss: 0.0538 - val_accuracy: 0.9838 - lr: 0.0010\n",
            "Epoch 90/100\n",
            "913/913 [==============================] - 58s 63ms/step - loss: 0.0956 - accuracy: 0.9710 - val_loss: 0.0696 - val_accuracy: 0.9764 - lr: 0.0010\n",
            "Epoch 91/100\n",
            "913/913 [==============================] - 56s 62ms/step - loss: 0.0856 - accuracy: 0.9725 - val_loss: 0.1136 - val_accuracy: 0.9542 - lr: 0.0010\n",
            "Epoch 92/100\n",
            "913/913 [==============================] - 55s 60ms/step - loss: 0.0852 - accuracy: 0.9733 - val_loss: 0.0539 - val_accuracy: 0.9830 - lr: 0.0010\n",
            "Epoch 93/100\n",
            "913/913 [==============================] - 58s 63ms/step - loss: 0.0895 - accuracy: 0.9726 - val_loss: 0.0960 - val_accuracy: 0.9724 - lr: 0.0010\n",
            "Epoch 94/100\n",
            "913/913 [==============================] - 59s 65ms/step - loss: 0.0871 - accuracy: 0.9729 - val_loss: 0.0945 - val_accuracy: 0.9672 - lr: 0.0010\n",
            "Epoch 95/100\n",
            "913/913 [==============================] - 58s 64ms/step - loss: 0.0894 - accuracy: 0.9733 - val_loss: 0.0581 - val_accuracy: 0.9846 - lr: 0.0010\n",
            "Epoch 96/100\n",
            "913/913 [==============================] - 57s 63ms/step - loss: 0.0864 - accuracy: 0.9729 - val_loss: 0.0669 - val_accuracy: 0.9781 - lr: 0.0010\n",
            "Epoch 97/100\n",
            "913/913 [==============================] - 55s 61ms/step - loss: 0.0818 - accuracy: 0.9741 - val_loss: 0.0557 - val_accuracy: 0.9816 - lr: 0.0010\n",
            "Epoch 98/100\n",
            "913/913 [==============================] - 57s 63ms/step - loss: 0.0815 - accuracy: 0.9742 - val_loss: 0.0797 - val_accuracy: 0.9799 - lr: 0.0010\n",
            "Epoch 99/100\n",
            "913/913 [==============================] - 60s 66ms/step - loss: 0.0871 - accuracy: 0.9729 - val_loss: 0.0643 - val_accuracy: 0.9793 - lr: 0.0010\n",
            "Epoch 100/100\n",
            "913/913 [==============================] - 61s 66ms/step - loss: 0.0913 - accuracy: 0.9716 - val_loss: 0.0629 - val_accuracy: 0.9797 - lr: 0.0010\n"
          ]
        },
        {
          "output_type": "execute_result",
          "data": {
            "text/plain": [
              "<keras.src.callbacks.History at 0x7b98a39969b0>"
            ]
          },
          "metadata": {},
          "execution_count": 82
        }
      ],
      "source": [
        "model.fit([x_train, x_train], y_train,\n",
        "          batch_size=64,\n",
        "          epochs=100,\n",
        "          validation_data=([x_val, x_val], y_val),\n",
        "          callbacks=[lr_callback])"
      ]
    },
    {
      "cell_type": "code",
      "execution_count": 83,
      "id": "3ffe7d0c",
      "metadata": {
        "id": "3ffe7d0c"
      },
      "outputs": [],
      "source": [
        "# Record the end time\n",
        "end_time = time.time()"
      ]
    },
    {
      "cell_type": "code",
      "execution_count": 84,
      "id": "e8dd9c65",
      "metadata": {
        "colab": {
          "base_uri": "https://localhost:8080/"
        },
        "id": "e8dd9c65",
        "outputId": "38b64881-48f0-4977-8d40-0e56749af9ad"
      },
      "outputs": [
        {
          "output_type": "stream",
          "name": "stdout",
          "text": [
            "Total Running Time: 5971.30 seconds\n"
          ]
        }
      ],
      "source": [
        "# Calculate the total running time\n",
        "running_time = end_time - start_time\n",
        "print(\"Total Running Time: {:.2f} seconds\".format(running_time))"
      ]
    },
    {
      "cell_type": "code",
      "execution_count": 85,
      "id": "23ebca14",
      "metadata": {
        "id": "23ebca14",
        "colab": {
          "base_uri": "https://localhost:8080/"
        },
        "outputId": "fff5a303-2371-4925-a338-a14b95723ef2"
      },
      "outputs": [
        {
          "output_type": "stream",
          "name": "stdout",
          "text": [
            "254/254 [==============================] - 6s 22ms/step - loss: 0.0645 - accuracy: 0.9793\n",
            "Test loss: 0.06445014476776123, Test accuracy: 0.9792848229408264\n"
          ]
        }
      ],
      "source": [
        "# Evaluate the model\n",
        "loss, accuracy = model.evaluate([x_test, x_test], y_test)\n",
        "print(f\"Test loss: {loss}, Test accuracy: {accuracy}\")"
      ]
    },
    {
      "cell_type": "code",
      "execution_count": 86,
      "id": "78f8e19d",
      "metadata": {
        "colab": {
          "base_uri": "https://localhost:8080/"
        },
        "id": "78f8e19d",
        "outputId": "8c7f6e6c-9b02-464a-b77e-fd5c3b40be38"
      },
      "outputs": [
        {
          "output_type": "stream",
          "name": "stderr",
          "text": [
            "/usr/local/lib/python3.10/dist-packages/keras/src/engine/training.py:3103: UserWarning: You are saving your model as an HDF5 file via `model.save()`. This file format is considered legacy. We recommend using instead the native Keras format, e.g. `model.save('my_model.keras')`.\n",
            "  saving_api.save_model(\n"
          ]
        }
      ],
      "source": [
        "# Save the trained model\n",
        "model.save(\"my_model_otto.h5\")"
      ]
    }
  ],
  "metadata": {
    "accelerator": "GPU",
    "colab": {
      "provenance": []
    },
    "kernelspec": {
      "display_name": "Python 3 (ipykernel)",
      "language": "python",
      "name": "python3"
    },
    "language_info": {
      "codemirror_mode": {
        "name": "ipython",
        "version": 3
      },
      "file_extension": ".py",
      "mimetype": "text/x-python",
      "name": "python",
      "nbconvert_exporter": "python",
      "pygments_lexer": "ipython3",
      "version": "3.10.7"
    }
  },
  "nbformat": 4,
  "nbformat_minor": 5
}