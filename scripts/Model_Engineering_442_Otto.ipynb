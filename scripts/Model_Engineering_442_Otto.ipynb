{
  "cells": [
    {
      "cell_type": "markdown",
      "metadata": {
        "id": "view-in-github",
        "colab_type": "text"
      },
      "source": [
        "<a href=\"https://colab.research.google.com/github/camilleb2700/ENGIN-442/blob/main/Model_Engineering_442_(2).ipynb\" target=\"_parent\"><img src=\"https://colab.research.google.com/assets/colab-badge.svg\" alt=\"Open In Colab\"/></a>"
      ]
    },
    {
      "cell_type": "code",
      "execution_count": null,
      "id": "da645ec0",
      "metadata": {
        "id": "da645ec0"
      },
      "outputs": [],
      "source": [
        "'''\n",
        "YOUR TASKS:\n",
        "\n",
        "1. SPECIFY THE URL OR PATH TO YOUR DATA, REMEMBER - YOU FIRST HAVE TO DOWNLOAD IT.\n",
        "2. CLICK RUN ALL OR RESTART AND RUN ALL BUTTON TO RUN THE CODE. THIS CODE RUNS IN A CHRONOLOGICAL MANNER - THE TOP BLOCKS MUST PRECEED THE BOTTOM ONES,\n",
        "                                                                                                            i.e. don't run stuff from the bottom first, otherwise the code won't work properly.\n",
        "3. NEAR THE END OF THE CODE, YOU WILL SEE YOUR EPOCH METRICS, AS I STATED IN CLASS, YOU WANT THE ACCURACY TO APPROACH 100% =1.0 AND THE LOSS TO APPROACH 0\n",
        "4. IN CASE IF YOUR MODEL IS STRUGGLING TO REACH THESE RESULTS AND IS INSTEAD STUCK AT A LOW ACCURACY, NAVIGATE TO THE BLOCK OF CODE WITH HYPERPARAMETERS AND CHANGE THESE NUMBERS,\n",
        "THEN, TRY RUNNING THE CODE AGAIN AND SEE HOW YOUR MODEL IS PERFORMING; REPEAT UNTIL YOU REACH A PLAUSIBLE RESULT (ONE THAT IS BETTER THAN A COIN TOSS IN TERMS OF PREDICTION ACCURACY IN THE WORST CASE)\n",
        "5. SAVE YOUR RESULTS => THE CODE INCLUDES A BLOCK WHICH WILL SAVE YOUR MODEL TO A .h5 FILE,\n",
        " - KEEP THE OUTPUTS OF THIS NOTEBOOK AS WELL, YOU WILL WANT TO DEMONSTRATE HOW THE TRAINING PROCESS WENT.\n",
        " - BE MINDFUL OF THE TIME YOU HAVE IF YOU CHOOSE TO USE GOOGLE COLLABORATORY INSTEAD OF YOUR OWN MACHINE AS THEIR VMs ONLY OFFER YOU A COUPLE OF HOURS OF USAGE.\n",
        "'''"
      ]
    },
    {
      "cell_type": "code",
      "execution_count": 1,
      "id": "dd77aa5b",
      "metadata": {
        "id": "dd77aa5b"
      },
      "outputs": [],
      "source": [
        "import numpy as np\n",
        "import pandas as pd\n",
        "import tensorflow as tf\n",
        "from sklearn.model_selection import train_test_split\n",
        "from tensorflow import keras\n",
        "from tensorflow.keras import layers\n",
        "from tensorflow.keras.models import load_model\n",
        "from tensorflow.keras.optimizers import Adam\n",
        "from tensorflow.keras.callbacks import ReduceLROnPlateau, EarlyStopping\n",
        "from sklearn.metrics import confusion_matrix\n",
        "import seaborn as sns\n",
        "from sklearn.preprocessing import LabelEncoder\n",
        "import matplotlib.pyplot as plt\n",
        "import time"
      ]
    },
    {
      "cell_type": "code",
      "execution_count": 54,
      "id": "f16df2f1",
      "metadata": {
        "id": "f16df2f1",
        "colab": {
          "base_uri": "https://localhost:8080/"
        },
        "outputId": "da72a539-ec2f-45b4-f3b0-00a63856a000"
      },
      "outputs": [
        {
          "output_type": "stream",
          "name": "stderr",
          "text": [
            "<ipython-input-54-2d7f0d85bfa9>:10: DeprecationWarning: In a future version, `df.iloc[:, i] = newvals` will attempt to set the values inplace instead of always setting a new array. To retain the old behavior, use either `df[df.columns[i]] = newvals` or, if columns are non-unique, `df.isetitem(i, newvals)`\n",
            "  data.iloc[:, -1] = label_encoder.fit_transform(data.iloc[:, -1])\n"
          ]
        }
      ],
      "source": [
        "# Function to read the data\n",
        "def read_data(filename):\n",
        "    data = pd.read_csv(filename)\n",
        "\n",
        "    # Extract features\n",
        "    features = data.iloc[:,1 :-1].values\n",
        "\n",
        "    # Extract and encode labels\n",
        "    label_encoder = LabelEncoder()\n",
        "    data.iloc[:, -1] = label_encoder.fit_transform(data.iloc[:, -1])\n",
        "    labels = data.iloc[:, -1].values\n",
        "\n",
        "    return features, labels\n",
        "# Read the data\n",
        "data_url = \"https://raw.githubusercontent.com/camilleb2700/ENGIN-442/main/user_13.csv\" # enter your data URL or PATH here in enclosed in \" \" IF YOUR NOTEBOOK IS IN THE SAME FOLDER AS data.csv, which is your data you downloaded, then this will run as it is.\n",
        "                    # otherwise, you have to specify a different path or url\n",
        "x, y = read_data(data_url)"
      ]
    },
    {
      "cell_type": "code",
      "execution_count": 55,
      "id": "773378f4",
      "metadata": {
        "id": "773378f4"
      },
      "outputs": [],
      "source": [
        "df = pd.read_csv(data_url) ## THIS AND THE BLOCK OF CODE IMMEDIATELY AFTER THIS ARE OPTIONAL, THIS IS INTENDED TO HELP YOU VISUALIZE YOUR DATASET"
      ]
    },
    {
      "cell_type": "code",
      "execution_count": 56,
      "id": "c4345daf",
      "metadata": {
        "colab": {
          "base_uri": "https://localhost:8080/",
          "height": 441
        },
        "id": "c4345daf",
        "outputId": "91699f2c-4d42-4a7f-ec4c-2ca0fb5c0e90"
      },
      "outputs": [
        {
          "output_type": "execute_result",
          "data": {
            "text/plain": [
              "       Time (Seconds)  x-rotation  y-rotation  z-rotation  x-position  \\\n",
              "0            0.000000   -0.000000   -0.000000   -0.000000   -0.000000   \n",
              "1            0.008333   -0.000000   -0.000000   -0.000000   -0.000000   \n",
              "2            0.016667   -0.000000   -0.000000   -0.000000   -0.000000   \n",
              "3            0.025000   -0.000000   -0.000000   -0.000000   -0.000000   \n",
              "4            0.033333   -0.000000   -0.000000   -0.000000   -0.000000   \n",
              "...               ...         ...         ...         ...         ...   \n",
              "81092       31.425000   58.627224  -16.453003  100.837242    0.963660   \n",
              "81093       31.433333   58.508793  -16.198683  100.496178    0.960310   \n",
              "81094       31.441667   58.372505  -15.928641  100.154335    0.956939   \n",
              "81095       31.450000   58.301109  -15.527400   99.811371    0.953483   \n",
              "81096       31.458333   58.231148  -15.285139   99.531036    0.950060   \n",
              "\n",
              "       y-position  z-position                  label  \n",
              "0        0.000000    0.000000      Sit_VidCall_Phone  \n",
              "1        0.000000    0.000000      Sit_VidCall_Phone  \n",
              "2        0.000000    0.000000      Sit_VidCall_Phone  \n",
              "3        0.000000    0.000000      Sit_VidCall_Phone  \n",
              "4        0.000000    0.000000      Sit_VidCall_Phone  \n",
              "...           ...         ...                    ...  \n",
              "81092    1.294864    1.035364  Walk_WebBrowse_Tablet  \n",
              "81093    1.294741    1.032513  Walk_WebBrowse_Tablet  \n",
              "81094    1.294636    1.029681  Walk_WebBrowse_Tablet  \n",
              "81095    1.294595    1.026789  Walk_WebBrowse_Tablet  \n",
              "81096    1.294562    1.023957  Walk_WebBrowse_Tablet  \n",
              "\n",
              "[81097 rows x 8 columns]"
            ],
            "text/html": [
              "\n",
              "  <div id=\"df-8ddf4dc6-3961-444d-aa9a-35eac5435b95\" class=\"colab-df-container\">\n",
              "    <div>\n",
              "<style scoped>\n",
              "    .dataframe tbody tr th:only-of-type {\n",
              "        vertical-align: middle;\n",
              "    }\n",
              "\n",
              "    .dataframe tbody tr th {\n",
              "        vertical-align: top;\n",
              "    }\n",
              "\n",
              "    .dataframe thead th {\n",
              "        text-align: right;\n",
              "    }\n",
              "</style>\n",
              "<table border=\"1\" class=\"dataframe\">\n",
              "  <thead>\n",
              "    <tr style=\"text-align: right;\">\n",
              "      <th></th>\n",
              "      <th>Time (Seconds)</th>\n",
              "      <th>x-rotation</th>\n",
              "      <th>y-rotation</th>\n",
              "      <th>z-rotation</th>\n",
              "      <th>x-position</th>\n",
              "      <th>y-position</th>\n",
              "      <th>z-position</th>\n",
              "      <th>label</th>\n",
              "    </tr>\n",
              "  </thead>\n",
              "  <tbody>\n",
              "    <tr>\n",
              "      <th>0</th>\n",
              "      <td>0.000000</td>\n",
              "      <td>-0.000000</td>\n",
              "      <td>-0.000000</td>\n",
              "      <td>-0.000000</td>\n",
              "      <td>-0.000000</td>\n",
              "      <td>0.000000</td>\n",
              "      <td>0.000000</td>\n",
              "      <td>Sit_VidCall_Phone</td>\n",
              "    </tr>\n",
              "    <tr>\n",
              "      <th>1</th>\n",
              "      <td>0.008333</td>\n",
              "      <td>-0.000000</td>\n",
              "      <td>-0.000000</td>\n",
              "      <td>-0.000000</td>\n",
              "      <td>-0.000000</td>\n",
              "      <td>0.000000</td>\n",
              "      <td>0.000000</td>\n",
              "      <td>Sit_VidCall_Phone</td>\n",
              "    </tr>\n",
              "    <tr>\n",
              "      <th>2</th>\n",
              "      <td>0.016667</td>\n",
              "      <td>-0.000000</td>\n",
              "      <td>-0.000000</td>\n",
              "      <td>-0.000000</td>\n",
              "      <td>-0.000000</td>\n",
              "      <td>0.000000</td>\n",
              "      <td>0.000000</td>\n",
              "      <td>Sit_VidCall_Phone</td>\n",
              "    </tr>\n",
              "    <tr>\n",
              "      <th>3</th>\n",
              "      <td>0.025000</td>\n",
              "      <td>-0.000000</td>\n",
              "      <td>-0.000000</td>\n",
              "      <td>-0.000000</td>\n",
              "      <td>-0.000000</td>\n",
              "      <td>0.000000</td>\n",
              "      <td>0.000000</td>\n",
              "      <td>Sit_VidCall_Phone</td>\n",
              "    </tr>\n",
              "    <tr>\n",
              "      <th>4</th>\n",
              "      <td>0.033333</td>\n",
              "      <td>-0.000000</td>\n",
              "      <td>-0.000000</td>\n",
              "      <td>-0.000000</td>\n",
              "      <td>-0.000000</td>\n",
              "      <td>0.000000</td>\n",
              "      <td>0.000000</td>\n",
              "      <td>Sit_VidCall_Phone</td>\n",
              "    </tr>\n",
              "    <tr>\n",
              "      <th>...</th>\n",
              "      <td>...</td>\n",
              "      <td>...</td>\n",
              "      <td>...</td>\n",
              "      <td>...</td>\n",
              "      <td>...</td>\n",
              "      <td>...</td>\n",
              "      <td>...</td>\n",
              "      <td>...</td>\n",
              "    </tr>\n",
              "    <tr>\n",
              "      <th>81092</th>\n",
              "      <td>31.425000</td>\n",
              "      <td>58.627224</td>\n",
              "      <td>-16.453003</td>\n",
              "      <td>100.837242</td>\n",
              "      <td>0.963660</td>\n",
              "      <td>1.294864</td>\n",
              "      <td>1.035364</td>\n",
              "      <td>Walk_WebBrowse_Tablet</td>\n",
              "    </tr>\n",
              "    <tr>\n",
              "      <th>81093</th>\n",
              "      <td>31.433333</td>\n",
              "      <td>58.508793</td>\n",
              "      <td>-16.198683</td>\n",
              "      <td>100.496178</td>\n",
              "      <td>0.960310</td>\n",
              "      <td>1.294741</td>\n",
              "      <td>1.032513</td>\n",
              "      <td>Walk_WebBrowse_Tablet</td>\n",
              "    </tr>\n",
              "    <tr>\n",
              "      <th>81094</th>\n",
              "      <td>31.441667</td>\n",
              "      <td>58.372505</td>\n",
              "      <td>-15.928641</td>\n",
              "      <td>100.154335</td>\n",
              "      <td>0.956939</td>\n",
              "      <td>1.294636</td>\n",
              "      <td>1.029681</td>\n",
              "      <td>Walk_WebBrowse_Tablet</td>\n",
              "    </tr>\n",
              "    <tr>\n",
              "      <th>81095</th>\n",
              "      <td>31.450000</td>\n",
              "      <td>58.301109</td>\n",
              "      <td>-15.527400</td>\n",
              "      <td>99.811371</td>\n",
              "      <td>0.953483</td>\n",
              "      <td>1.294595</td>\n",
              "      <td>1.026789</td>\n",
              "      <td>Walk_WebBrowse_Tablet</td>\n",
              "    </tr>\n",
              "    <tr>\n",
              "      <th>81096</th>\n",
              "      <td>31.458333</td>\n",
              "      <td>58.231148</td>\n",
              "      <td>-15.285139</td>\n",
              "      <td>99.531036</td>\n",
              "      <td>0.950060</td>\n",
              "      <td>1.294562</td>\n",
              "      <td>1.023957</td>\n",
              "      <td>Walk_WebBrowse_Tablet</td>\n",
              "    </tr>\n",
              "  </tbody>\n",
              "</table>\n",
              "<p>81097 rows × 8 columns</p>\n",
              "</div>\n",
              "    <div class=\"colab-df-buttons\">\n",
              "\n",
              "  <div class=\"colab-df-container\">\n",
              "    <button class=\"colab-df-convert\" onclick=\"convertToInteractive('df-8ddf4dc6-3961-444d-aa9a-35eac5435b95')\"\n",
              "            title=\"Convert this dataframe to an interactive table.\"\n",
              "            style=\"display:none;\">\n",
              "\n",
              "  <svg xmlns=\"http://www.w3.org/2000/svg\" height=\"24px\" viewBox=\"0 -960 960 960\">\n",
              "    <path d=\"M120-120v-720h720v720H120Zm60-500h600v-160H180v160Zm220 220h160v-160H400v160Zm0 220h160v-160H400v160ZM180-400h160v-160H180v160Zm440 0h160v-160H620v160ZM180-180h160v-160H180v160Zm440 0h160v-160H620v160Z\"/>\n",
              "  </svg>\n",
              "    </button>\n",
              "\n",
              "  <style>\n",
              "    .colab-df-container {\n",
              "      display:flex;\n",
              "      gap: 12px;\n",
              "    }\n",
              "\n",
              "    .colab-df-convert {\n",
              "      background-color: #E8F0FE;\n",
              "      border: none;\n",
              "      border-radius: 50%;\n",
              "      cursor: pointer;\n",
              "      display: none;\n",
              "      fill: #1967D2;\n",
              "      height: 32px;\n",
              "      padding: 0 0 0 0;\n",
              "      width: 32px;\n",
              "    }\n",
              "\n",
              "    .colab-df-convert:hover {\n",
              "      background-color: #E2EBFA;\n",
              "      box-shadow: 0px 1px 2px rgba(60, 64, 67, 0.3), 0px 1px 3px 1px rgba(60, 64, 67, 0.15);\n",
              "      fill: #174EA6;\n",
              "    }\n",
              "\n",
              "    .colab-df-buttons div {\n",
              "      margin-bottom: 4px;\n",
              "    }\n",
              "\n",
              "    [theme=dark] .colab-df-convert {\n",
              "      background-color: #3B4455;\n",
              "      fill: #D2E3FC;\n",
              "    }\n",
              "\n",
              "    [theme=dark] .colab-df-convert:hover {\n",
              "      background-color: #434B5C;\n",
              "      box-shadow: 0px 1px 3px 1px rgba(0, 0, 0, 0.15);\n",
              "      filter: drop-shadow(0px 1px 2px rgba(0, 0, 0, 0.3));\n",
              "      fill: #FFFFFF;\n",
              "    }\n",
              "  </style>\n",
              "\n",
              "    <script>\n",
              "      const buttonEl =\n",
              "        document.querySelector('#df-8ddf4dc6-3961-444d-aa9a-35eac5435b95 button.colab-df-convert');\n",
              "      buttonEl.style.display =\n",
              "        google.colab.kernel.accessAllowed ? 'block' : 'none';\n",
              "\n",
              "      async function convertToInteractive(key) {\n",
              "        const element = document.querySelector('#df-8ddf4dc6-3961-444d-aa9a-35eac5435b95');\n",
              "        const dataTable =\n",
              "          await google.colab.kernel.invokeFunction('convertToInteractive',\n",
              "                                                    [key], {});\n",
              "        if (!dataTable) return;\n",
              "\n",
              "        const docLinkHtml = 'Like what you see? Visit the ' +\n",
              "          '<a target=\"_blank\" href=https://colab.research.google.com/notebooks/data_table.ipynb>data table notebook</a>'\n",
              "          + ' to learn more about interactive tables.';\n",
              "        element.innerHTML = '';\n",
              "        dataTable['output_type'] = 'display_data';\n",
              "        await google.colab.output.renderOutput(dataTable, element);\n",
              "        const docLink = document.createElement('div');\n",
              "        docLink.innerHTML = docLinkHtml;\n",
              "        element.appendChild(docLink);\n",
              "      }\n",
              "    </script>\n",
              "  </div>\n",
              "\n",
              "\n",
              "<div id=\"df-9089f4e5-212b-49e0-a1cc-1c9bf3b779d8\">\n",
              "  <button class=\"colab-df-quickchart\" onclick=\"quickchart('df-9089f4e5-212b-49e0-a1cc-1c9bf3b779d8')\"\n",
              "            title=\"Suggest charts\"\n",
              "            style=\"display:none;\">\n",
              "\n",
              "<svg xmlns=\"http://www.w3.org/2000/svg\" height=\"24px\"viewBox=\"0 0 24 24\"\n",
              "     width=\"24px\">\n",
              "    <g>\n",
              "        <path d=\"M19 3H5c-1.1 0-2 .9-2 2v14c0 1.1.9 2 2 2h14c1.1 0 2-.9 2-2V5c0-1.1-.9-2-2-2zM9 17H7v-7h2v7zm4 0h-2V7h2v10zm4 0h-2v-4h2v4z\"/>\n",
              "    </g>\n",
              "</svg>\n",
              "  </button>\n",
              "\n",
              "<style>\n",
              "  .colab-df-quickchart {\n",
              "      --bg-color: #E8F0FE;\n",
              "      --fill-color: #1967D2;\n",
              "      --hover-bg-color: #E2EBFA;\n",
              "      --hover-fill-color: #174EA6;\n",
              "      --disabled-fill-color: #AAA;\n",
              "      --disabled-bg-color: #DDD;\n",
              "  }\n",
              "\n",
              "  [theme=dark] .colab-df-quickchart {\n",
              "      --bg-color: #3B4455;\n",
              "      --fill-color: #D2E3FC;\n",
              "      --hover-bg-color: #434B5C;\n",
              "      --hover-fill-color: #FFFFFF;\n",
              "      --disabled-bg-color: #3B4455;\n",
              "      --disabled-fill-color: #666;\n",
              "  }\n",
              "\n",
              "  .colab-df-quickchart {\n",
              "    background-color: var(--bg-color);\n",
              "    border: none;\n",
              "    border-radius: 50%;\n",
              "    cursor: pointer;\n",
              "    display: none;\n",
              "    fill: var(--fill-color);\n",
              "    height: 32px;\n",
              "    padding: 0;\n",
              "    width: 32px;\n",
              "  }\n",
              "\n",
              "  .colab-df-quickchart:hover {\n",
              "    background-color: var(--hover-bg-color);\n",
              "    box-shadow: 0 1px 2px rgba(60, 64, 67, 0.3), 0 1px 3px 1px rgba(60, 64, 67, 0.15);\n",
              "    fill: var(--button-hover-fill-color);\n",
              "  }\n",
              "\n",
              "  .colab-df-quickchart-complete:disabled,\n",
              "  .colab-df-quickchart-complete:disabled:hover {\n",
              "    background-color: var(--disabled-bg-color);\n",
              "    fill: var(--disabled-fill-color);\n",
              "    box-shadow: none;\n",
              "  }\n",
              "\n",
              "  .colab-df-spinner {\n",
              "    border: 2px solid var(--fill-color);\n",
              "    border-color: transparent;\n",
              "    border-bottom-color: var(--fill-color);\n",
              "    animation:\n",
              "      spin 1s steps(1) infinite;\n",
              "  }\n",
              "\n",
              "  @keyframes spin {\n",
              "    0% {\n",
              "      border-color: transparent;\n",
              "      border-bottom-color: var(--fill-color);\n",
              "      border-left-color: var(--fill-color);\n",
              "    }\n",
              "    20% {\n",
              "      border-color: transparent;\n",
              "      border-left-color: var(--fill-color);\n",
              "      border-top-color: var(--fill-color);\n",
              "    }\n",
              "    30% {\n",
              "      border-color: transparent;\n",
              "      border-left-color: var(--fill-color);\n",
              "      border-top-color: var(--fill-color);\n",
              "      border-right-color: var(--fill-color);\n",
              "    }\n",
              "    40% {\n",
              "      border-color: transparent;\n",
              "      border-right-color: var(--fill-color);\n",
              "      border-top-color: var(--fill-color);\n",
              "    }\n",
              "    60% {\n",
              "      border-color: transparent;\n",
              "      border-right-color: var(--fill-color);\n",
              "    }\n",
              "    80% {\n",
              "      border-color: transparent;\n",
              "      border-right-color: var(--fill-color);\n",
              "      border-bottom-color: var(--fill-color);\n",
              "    }\n",
              "    90% {\n",
              "      border-color: transparent;\n",
              "      border-bottom-color: var(--fill-color);\n",
              "    }\n",
              "  }\n",
              "</style>\n",
              "\n",
              "  <script>\n",
              "    async function quickchart(key) {\n",
              "      const quickchartButtonEl =\n",
              "        document.querySelector('#' + key + ' button');\n",
              "      quickchartButtonEl.disabled = true;  // To prevent multiple clicks.\n",
              "      quickchartButtonEl.classList.add('colab-df-spinner');\n",
              "      try {\n",
              "        const charts = await google.colab.kernel.invokeFunction(\n",
              "            'suggestCharts', [key], {});\n",
              "      } catch (error) {\n",
              "        console.error('Error during call to suggestCharts:', error);\n",
              "      }\n",
              "      quickchartButtonEl.classList.remove('colab-df-spinner');\n",
              "      quickchartButtonEl.classList.add('colab-df-quickchart-complete');\n",
              "    }\n",
              "    (() => {\n",
              "      let quickchartButtonEl =\n",
              "        document.querySelector('#df-9089f4e5-212b-49e0-a1cc-1c9bf3b779d8 button');\n",
              "      quickchartButtonEl.style.display =\n",
              "        google.colab.kernel.accessAllowed ? 'block' : 'none';\n",
              "    })();\n",
              "  </script>\n",
              "</div>\n",
              "\n",
              "  <div id=\"id_be6288f1-1716-4a37-a92f-5dc35632e7f0\">\n",
              "    <style>\n",
              "      .colab-df-generate {\n",
              "        background-color: #E8F0FE;\n",
              "        border: none;\n",
              "        border-radius: 50%;\n",
              "        cursor: pointer;\n",
              "        display: none;\n",
              "        fill: #1967D2;\n",
              "        height: 32px;\n",
              "        padding: 0 0 0 0;\n",
              "        width: 32px;\n",
              "      }\n",
              "\n",
              "      .colab-df-generate:hover {\n",
              "        background-color: #E2EBFA;\n",
              "        box-shadow: 0px 1px 2px rgba(60, 64, 67, 0.3), 0px 1px 3px 1px rgba(60, 64, 67, 0.15);\n",
              "        fill: #174EA6;\n",
              "      }\n",
              "\n",
              "      [theme=dark] .colab-df-generate {\n",
              "        background-color: #3B4455;\n",
              "        fill: #D2E3FC;\n",
              "      }\n",
              "\n",
              "      [theme=dark] .colab-df-generate:hover {\n",
              "        background-color: #434B5C;\n",
              "        box-shadow: 0px 1px 3px 1px rgba(0, 0, 0, 0.15);\n",
              "        filter: drop-shadow(0px 1px 2px rgba(0, 0, 0, 0.3));\n",
              "        fill: #FFFFFF;\n",
              "      }\n",
              "    </style>\n",
              "    <button class=\"colab-df-generate\" onclick=\"generateWithVariable('df')\"\n",
              "            title=\"Generate code using this dataframe.\"\n",
              "            style=\"display:none;\">\n",
              "\n",
              "  <svg xmlns=\"http://www.w3.org/2000/svg\" height=\"24px\"viewBox=\"0 0 24 24\"\n",
              "       width=\"24px\">\n",
              "    <path d=\"M7,19H8.4L18.45,9,17,7.55,7,17.6ZM5,21V16.75L18.45,3.32a2,2,0,0,1,2.83,0l1.4,1.43a1.91,1.91,0,0,1,.58,1.4,1.91,1.91,0,0,1-.58,1.4L9.25,21ZM18.45,9,17,7.55Zm-12,3A5.31,5.31,0,0,0,4.9,8.1,5.31,5.31,0,0,0,1,6.5,5.31,5.31,0,0,0,4.9,4.9,5.31,5.31,0,0,0,6.5,1,5.31,5.31,0,0,0,8.1,4.9,5.31,5.31,0,0,0,12,6.5,5.46,5.46,0,0,0,6.5,12Z\"/>\n",
              "  </svg>\n",
              "    </button>\n",
              "    <script>\n",
              "      (() => {\n",
              "      const buttonEl =\n",
              "        document.querySelector('#id_be6288f1-1716-4a37-a92f-5dc35632e7f0 button.colab-df-generate');\n",
              "      buttonEl.style.display =\n",
              "        google.colab.kernel.accessAllowed ? 'block' : 'none';\n",
              "\n",
              "      buttonEl.onclick = () => {\n",
              "        google.colab.notebook.generateWithVariable('df');\n",
              "      }\n",
              "      })();\n",
              "    </script>\n",
              "  </div>\n",
              "\n",
              "    </div>\n",
              "  </div>\n"
            ]
          },
          "metadata": {},
          "execution_count": 56
        }
      ],
      "source": [
        "df # AS STATED ABOVE, YOU MAY REMOVE THIS AND THE ABOVE BLOCKS OF CODE IF YOU LIKE, THIS WILL HAVE NO"
      ]
    },
    {
      "cell_type": "code",
      "execution_count": 57,
      "id": "3eb86201",
      "metadata": {
        "colab": {
          "base_uri": "https://localhost:8080/"
        },
        "id": "3eb86201",
        "outputId": "5ad8e2b8-8202-4468-fb5a-fc94c37fe315"
      },
      "outputs": [
        {
          "output_type": "execute_result",
          "data": {
            "text/plain": [
              "(81097, 6)"
            ]
          },
          "metadata": {},
          "execution_count": 57
        }
      ],
      "source": [
        "x.shape ### IN THE FOLLOWING PARTS OF THE CODE, MAKE SURE THAT EVERYTING IS LOADED CORRECTLY, YOU SHOULD HAVE A DATASET WITH 22 CLASSES, (n-rows, 6 columns, later another dimension will be added here)"
      ]
    },
    {
      "cell_type": "code",
      "execution_count": 58,
      "id": "6b640bf8",
      "metadata": {
        "colab": {
          "base_uri": "https://localhost:8080/"
        },
        "id": "6b640bf8",
        "outputId": "dcb1826f-4643-440c-ef10-ea2898ce8e1b"
      },
      "outputs": [
        {
          "output_type": "execute_result",
          "data": {
            "text/plain": [
              "(81097,)"
            ]
          },
          "metadata": {},
          "execution_count": 58
        }
      ],
      "source": [
        "y.shape"
      ]
    },
    {
      "cell_type": "code",
      "execution_count": 64,
      "id": "9650592c",
      "metadata": {
        "colab": {
          "base_uri": "https://localhost:8080/"
        },
        "id": "9650592c",
        "outputId": "d7e3466a-b9f2-432e-e775-05a8ff793c05"
      },
      "outputs": [
        {
          "output_type": "execute_result",
          "data": {
            "text/plain": [
              "array([ 0,  1,  2,  3,  4,  5,  6,  7,  8,  9, 10, 11, 12, 13, 14, 15, 16,\n",
              "       17, 18, 19, 20, 21])"
            ]
          },
          "metadata": {},
          "execution_count": 64
        }
      ],
      "source": [
        "np.unique(y)"
      ]
    },
    {
      "cell_type": "code",
      "execution_count": 63,
      "id": "0edc69b6",
      "metadata": {
        "colab": {
          "base_uri": "https://localhost:8080/"
        },
        "id": "0edc69b6",
        "outputId": "cad13e9d-5008-49e1-a57a-25137fbf5255"
      },
      "outputs": [
        {
          "output_type": "execute_result",
          "data": {
            "text/plain": [
              "array([-0., -0., -0., -0.,  0.,  0.])"
            ]
          },
          "metadata": {},
          "execution_count": 63
        }
      ],
      "source": [
        "x[0]"
      ]
    },
    {
      "cell_type": "code",
      "execution_count": 65,
      "id": "b4eec323",
      "metadata": {
        "colab": {
          "base_uri": "https://localhost:8080/"
        },
        "id": "b4eec323",
        "outputId": "a9015346-8173-4d03-cc50-af3c0852799b"
      },
      "outputs": [
        {
          "output_type": "execute_result",
          "data": {
            "text/plain": [
              "0"
            ]
          },
          "metadata": {},
          "execution_count": 65
        }
      ],
      "source": [
        "y[0] # these were sample rows from the data for your to inspect, you should see a 6 by 1 vector above and a single value here"
      ]
    },
    {
      "cell_type": "code",
      "execution_count": 66,
      "id": "9db6440b",
      "metadata": {
        "id": "9db6440b"
      },
      "outputs": [],
      "source": [
        "# Split the data into training, validation, and testing sets\n",
        "x_train, x_test, y_train, y_test = train_test_split(x, y, test_size=0.1, random_state=42)\n",
        "x_train, x_val, y_train, y_val = train_test_split(x_train, y_train, test_size=0.2, random_state=42)"
      ]
    },
    {
      "cell_type": "code",
      "execution_count": 67,
      "id": "0b135163",
      "metadata": {
        "id": "0b135163"
      },
      "outputs": [],
      "source": [
        "# Reshape the data\n",
        "x_train = x_train.reshape((x_train.shape[0], x_train.shape[1], 1))\n",
        "x_val = x_val.reshape((x_val.shape[0], x_val.shape[1], 1))\n",
        "x_test = x_test.reshape((x_test.shape[0], x_test.shape[1], 1))"
      ]
    },
    {
      "cell_type": "code",
      "execution_count": 68,
      "id": "936243fe",
      "metadata": {
        "id": "936243fe"
      },
      "outputs": [],
      "source": [
        "# Determine the input shape and number of classes\n",
        "input_shape = (x_train.shape[1], 1)\n",
        "num_classes = len(np.unique(y))"
      ]
    },
    {
      "cell_type": "code",
      "execution_count": 69,
      "id": "4cb2989e",
      "metadata": {
        "colab": {
          "base_uri": "https://localhost:8080/"
        },
        "id": "4cb2989e",
        "outputId": "9e3686b8-09c9-4d70-fc94-fef625ed8b7f"
      },
      "outputs": [
        {
          "output_type": "execute_result",
          "data": {
            "text/plain": [
              "22"
            ]
          },
          "metadata": {},
          "execution_count": 69
        }
      ],
      "source": [
        "num_classes # must have 22"
      ]
    },
    {
      "cell_type": "code",
      "execution_count": 70,
      "id": "26c6890e",
      "metadata": {
        "colab": {
          "base_uri": "https://localhost:8080/"
        },
        "id": "26c6890e",
        "outputId": "fc42185f-6e54-48d6-d126-231d1ea5e252"
      },
      "outputs": [
        {
          "output_type": "execute_result",
          "data": {
            "text/plain": [
              "(6, 1)"
            ]
          },
          "metadata": {},
          "execution_count": 70
        }
      ],
      "source": [
        "input_shape"
      ]
    },
    {
      "cell_type": "code",
      "execution_count": 71,
      "id": "859aa647",
      "metadata": {
        "colab": {
          "base_uri": "https://localhost:8080/"
        },
        "id": "859aa647",
        "outputId": "eb081dff-804c-4867-a08b-1b15afbcd5bc"
      },
      "outputs": [
        {
          "output_type": "execute_result",
          "data": {
            "text/plain": [
              "(58389, 6, 1)"
            ]
          },
          "metadata": {},
          "execution_count": 71
        }
      ],
      "source": [
        "x_train.shape"
      ]
    },
    {
      "cell_type": "code",
      "execution_count": 72,
      "id": "eab565dd",
      "metadata": {
        "colab": {
          "base_uri": "https://localhost:8080/"
        },
        "id": "eab565dd",
        "outputId": "67ae0dad-e6d2-4c82-f91c-4cfed2cd699f"
      },
      "outputs": [
        {
          "output_type": "execute_result",
          "data": {
            "text/plain": [
              "(58389,)"
            ]
          },
          "metadata": {},
          "execution_count": 72
        }
      ],
      "source": [
        "y_train.shape"
      ]
    },
    {
      "cell_type": "code",
      "execution_count": 73,
      "id": "ab950213",
      "metadata": {
        "colab": {
          "base_uri": "https://localhost:8080/"
        },
        "id": "ab950213",
        "outputId": "91166369-28b7-4b77-97a9-b3bd95546871"
      },
      "outputs": [
        {
          "output_type": "execute_result",
          "data": {
            "text/plain": [
              "array([[72.823593],\n",
              "       [-1.559806],\n",
              "       [18.949818],\n",
              "       [ 0.245982],\n",
              "       [ 1.402932],\n",
              "       [ 0.185015]])"
            ]
          },
          "metadata": {},
          "execution_count": 73
        }
      ],
      "source": [
        "x_train[0]"
      ]
    },
    {
      "cell_type": "code",
      "execution_count": 74,
      "id": "7f11432f",
      "metadata": {
        "colab": {
          "base_uri": "https://localhost:8080/"
        },
        "id": "7f11432f",
        "outputId": "3069b83b-0e44-40d3-d91b-81f108fd86f2"
      },
      "outputs": [
        {
          "output_type": "execute_result",
          "data": {
            "text/plain": [
              "20"
            ]
          },
          "metadata": {},
          "execution_count": 74
        }
      ],
      "source": [
        "y_train[0]"
      ]
    },
    {
      "cell_type": "code",
      "execution_count": 75,
      "id": "cd51204b",
      "metadata": {
        "id": "cd51204b"
      },
      "outputs": [],
      "source": [
        "# Transformer Encoder function with dropout and L2 regularization\n",
        "def transformer_encoder(inputs, head_size, num_heads, ff_dim, dropout=0.1, l2_reg=0.01):\n",
        "\n",
        "    x = layers.MultiHeadAttention(key_dim=head_size, num_heads=num_heads, dropout=dropout)(inputs, inputs)\n",
        "    x = layers.Dropout(dropout)(x)\n",
        "    x = layers.LayerNormalization(epsilon=1e-6)(x)\n",
        "    res = x + inputs\n",
        "\n",
        "    # Feed-forward network with dropout and L2 regularization\n",
        "    x = layers.Dense(ff_dim, activation=\"relu\", kernel_regularizer=keras.regularizers.l2(l2_reg))(res)\n",
        "    x = layers.Dropout(dropout)(x)\n",
        "\n",
        "    x = layers.Dense(ff_dim, activation=\"relu\", kernel_regularizer=keras.regularizers.l2(l2_reg))(x)\n",
        "    x = layers.Dropout(dropout)(x)\n",
        "\n",
        "    '''\n",
        "    YOU MAY WANT TO ADD OR REMOVE THESE TWO LINES HERE PRECISELY IN THIS PART OF THE CODE, PAY ATTENTION TO THE INDENTATION, PYTHON REQUIRES CONSISTENCY IN ORDER FOR THE CODE TO RUN CORRECTLY\n",
        "    x = layers.Dense(ff_dim, activation=\"relu\", kernel_regularizer=keras.regularizers.l2(l2_reg))(x)\n",
        "    x = layers.Dropout(dropout)(x)\n",
        "\n",
        "    '''\n",
        "\n",
        "    x = layers.Dense(ff_dim, activation=\"relu\", kernel_regularizer=keras.regularizers.l2(l2_reg))(x)\n",
        "    x = layers.Dropout(dropout)(x)\n",
        "\n",
        "    x = layers.Dense(inputs.shape[-1], activation = 'softmax')(x)\n",
        "    x = layers.LayerNormalization(epsilon=1e-6)(x)\n",
        "\n",
        "    return x + res"
      ]
    },
    {
      "cell_type": "code",
      "execution_count": 76,
      "id": "9df843aa",
      "metadata": {
        "id": "9df843aa"
      },
      "outputs": [],
      "source": [
        "# Transformer Decoder function\n",
        "def transformer_decoder(inputs, enc_outputs, head_size, num_heads, ff_dim, dropout=0.1, l2_reg=0.01):\n",
        "    x = layers.MultiHeadAttention(key_dim=head_size, num_heads=num_heads, dropout=dropout)(inputs, inputs)\n",
        "    x = layers.Dropout(dropout)(x)\n",
        "    x = layers.LayerNormalization(epsilon=1e-6)(x)\n",
        "    res = x + inputs\n",
        "\n",
        "    x = layers.MultiHeadAttention(key_dim=head_size, num_heads=num_heads, dropout=dropout)(res, enc_outputs)\n",
        "    x = layers.Dropout(dropout)(x)\n",
        "    x = layers.LayerNormalization(epsilon=1e-6)(x)\n",
        "    x = x + res\n",
        "\n",
        "    # Feed-forward network\n",
        "    x = layers.Dense(ff_dim, activation=\"relu\", kernel_regularizer=keras.regularizers.l2(l2_reg))(x)\n",
        "    x = layers.Dropout(dropout)(x)\n",
        "\n",
        "    x = layers.Dense(ff_dim, activation=\"relu\", kernel_regularizer=keras.regularizers.l2(l2_reg))(x)\n",
        "    x = layers.Dropout(dropout)(x)\n",
        "\n",
        "    '''\n",
        "    YOU MAY WANT TO ADD OR REMOVE THESE TWO LINES HERE PRECISELY IN THIS PART OF THE CODE, PAY ATTENTION TO THE INDENTATION, PYTHON REQUIRES CONSISTENCY IN ORDER FOR THE CODE TO RUN CORRECTLY\n",
        "    x = layers.Dense(ff_dim, activation=\"relu\", kernel_regularizer=keras.regularizers.l2(l2_reg))(x)\n",
        "    x = layers.Dropout(dropout)(x)\n",
        "\n",
        "    '''\n",
        "\n",
        "    x = layers.Dense(ff_dim, activation=\"relu\", kernel_regularizer=keras.regularizers.l2(l2_reg))(x)\n",
        "    x = layers.Dropout(dropout)(x)\n",
        "\n",
        "    x = layers.Dense(inputs.shape[-1], activation = 'softmax')(x)\n",
        "    x = layers.LayerNormalization(epsilon=1e-6)(x)\n",
        "\n",
        "    return x + res\n"
      ]
    },
    {
      "cell_type": "code",
      "execution_count": 77,
      "id": "d9851305",
      "metadata": {
        "id": "d9851305"
      },
      "outputs": [],
      "source": [
        "# Build the model\n",
        "def build_model(input_shape, head_size, num_heads, ff_dim, num_transformer_blocks, mlp_units, dropout=0, mlp_dropout=0, l2_reg=0):\n",
        "    inputs = keras.Input(shape=input_shape)\n",
        "    x = inputs\n",
        "\n",
        "    # Encoder\n",
        "    for _ in range(num_transformer_blocks):\n",
        "        x = transformer_encoder(x, head_size, num_heads, ff_dim, dropout, l2_reg)\n",
        "\n",
        "\n",
        "    # Decoder\n",
        "    decoder_input = keras.Input(shape=input_shape)\n",
        "    dec = decoder_input\n",
        "    for _ in range(num_transformer_blocks):\n",
        "        dec = transformer_decoder(dec, x, head_size, num_heads, ff_dim, dropout, l2_reg)\n",
        "\n",
        "    x = layers.Flatten()(x)\n",
        "    dec = layers.Flatten()(dec)\n",
        "    x = layers.Concatenate()([x, dec])\n",
        "\n",
        "    for dim in mlp_units:\n",
        "        x = layers.Dense(dim, activation=\"relu\")(x)\n",
        "        x = layers.Dropout(mlp_dropout)(x)\n",
        "\n",
        "    outputs = layers.Dense(num_classes, activation=\"softmax\")(x)\n",
        "\n",
        "    model = keras.Model([inputs, decoder_input], outputs)\n",
        "    return model"
      ]
    },
    {
      "cell_type": "code",
      "execution_count": 78,
      "id": "1d648db6",
      "metadata": {
        "id": "1d648db6"
      },
      "outputs": [],
      "source": [
        "# Define the hyperparameters\n",
        "\"\"\"\n",
        "# THIS IS THE PART YOU SHOULD PLAY AROUND WITH\n",
        "# YOU MAY REDUCE THESE NUMBERS IF YOUR MACHINE IS OTHERWISE INCAPABLE OF RUNNING THE CODE\"\"\"\n",
        "\n",
        "head_size = 4\n",
        "num_heads = 4\n",
        "ff_dim = 256\n",
        "num_transformer_blocks = 4\n",
        "\n",
        "mlp_units = [256]\n",
        "dropout = 0.1\n",
        "mlp_dropout = 0.1\n",
        "initial_lr = 0.001\n",
        "l2_reg=0.01"
      ]
    },
    {
      "cell_type": "code",
      "execution_count": 79,
      "id": "6c794103",
      "metadata": {
        "id": "6c794103"
      },
      "outputs": [],
      "source": [
        "# Build the model\n",
        "model = build_model(input_shape, head_size, num_heads, ff_dim, num_transformer_blocks, mlp_units, dropout, mlp_dropout)"
      ]
    },
    {
      "cell_type": "code",
      "execution_count": 81,
      "id": "64e4c3ef",
      "metadata": {
        "id": "64e4c3ef"
      },
      "outputs": [],
      "source": [
        "# Create the optimizer with the initial learning rate\n",
        "optimizer = Adam(learning_rate=initial_lr)"
      ]
    },
    {
      "cell_type": "code",
      "execution_count": 82,
      "id": "0e19e795",
      "metadata": {
        "id": "0e19e795"
      },
      "outputs": [],
      "source": [
        "# Compile the model\n",
        "model.compile(optimizer=optimizer, loss=\"sparse_categorical_crossentropy\", metrics=[\"accuracy\"])"
      ]
    },
    {
      "cell_type": "code",
      "execution_count": 83,
      "id": "02a51f0f",
      "metadata": {
        "id": "02a51f0f"
      },
      "outputs": [],
      "source": [
        "# Create the ReduceLROnPlateau callback\n",
        "lr_callback = ReduceLROnPlateau(factor=0.1, patience=50)"
      ]
    },
    {
      "cell_type": "code",
      "execution_count": 84,
      "id": "511f6219",
      "metadata": {
        "id": "511f6219"
      },
      "outputs": [],
      "source": [
        "# Record the start time\n",
        "start_time = time.time()"
      ]
    },
    {
      "cell_type": "code",
      "execution_count": 85,
      "id": "19d80153",
      "metadata": {
        "colab": {
          "base_uri": "https://localhost:8080/"
        },
        "id": "19d80153",
        "outputId": "b9b6aba4-3621-4fd7-f9dc-92e72f872513"
      },
      "outputs": [
        {
          "output_type": "stream",
          "name": "stdout",
          "text": [
            "Epoch 1/100\n",
            "913/913 [==============================] - 97s 70ms/step - loss: 2.0331 - accuracy: 0.6062 - val_loss: 0.5416 - val_accuracy: 0.8173 - lr: 0.0010\n",
            "Epoch 2/100\n",
            "913/913 [==============================] - 59s 65ms/step - loss: 0.6017 - accuracy: 0.7962 - val_loss: 0.4699 - val_accuracy: 0.8388 - lr: 0.0010\n",
            "Epoch 3/100\n",
            "913/913 [==============================] - 59s 64ms/step - loss: 0.4394 - accuracy: 0.8503 - val_loss: 0.3295 - val_accuracy: 0.8806 - lr: 0.0010\n",
            "Epoch 4/100\n",
            "913/913 [==============================] - 62s 68ms/step - loss: 0.3418 - accuracy: 0.8851 - val_loss: 0.2339 - val_accuracy: 0.9288 - lr: 0.0010\n",
            "Epoch 5/100\n",
            "913/913 [==============================] - 61s 67ms/step - loss: 0.2746 - accuracy: 0.9074 - val_loss: 0.2216 - val_accuracy: 0.9296 - lr: 0.0010\n",
            "Epoch 6/100\n",
            "913/913 [==============================] - 62s 68ms/step - loss: 0.2304 - accuracy: 0.9234 - val_loss: 0.1805 - val_accuracy: 0.9459 - lr: 0.0010\n",
            "Epoch 7/100\n",
            "913/913 [==============================] - 59s 65ms/step - loss: 0.1920 - accuracy: 0.9362 - val_loss: 0.1517 - val_accuracy: 0.9551 - lr: 0.0010\n",
            "Epoch 8/100\n",
            "913/913 [==============================] - 61s 67ms/step - loss: 0.1734 - accuracy: 0.9425 - val_loss: 0.1752 - val_accuracy: 0.9407 - lr: 0.0010\n",
            "Epoch 9/100\n",
            "913/913 [==============================] - 61s 67ms/step - loss: 0.1586 - accuracy: 0.9485 - val_loss: 0.1217 - val_accuracy: 0.9634 - lr: 0.0010\n",
            "Epoch 10/100\n",
            "913/913 [==============================] - 63s 69ms/step - loss: 0.1520 - accuracy: 0.9500 - val_loss: 0.1254 - val_accuracy: 0.9630 - lr: 0.0010\n",
            "Epoch 11/100\n",
            "913/913 [==============================] - 59s 65ms/step - loss: 0.1366 - accuracy: 0.9559 - val_loss: 0.1364 - val_accuracy: 0.9625 - lr: 0.0010\n",
            "Epoch 12/100\n",
            "913/913 [==============================] - 60s 66ms/step - loss: 0.1425 - accuracy: 0.9534 - val_loss: 0.1135 - val_accuracy: 0.9583 - lr: 0.0010\n",
            "Epoch 13/100\n",
            "913/913 [==============================] - 59s 65ms/step - loss: 0.1298 - accuracy: 0.9575 - val_loss: 0.1052 - val_accuracy: 0.9651 - lr: 0.0010\n",
            "Epoch 14/100\n",
            "913/913 [==============================] - 59s 64ms/step - loss: 0.1278 - accuracy: 0.9585 - val_loss: 0.1085 - val_accuracy: 0.9666 - lr: 0.0010\n",
            "Epoch 15/100\n",
            "913/913 [==============================] - 61s 67ms/step - loss: 0.1258 - accuracy: 0.9599 - val_loss: 0.1807 - val_accuracy: 0.9450 - lr: 0.0010\n",
            "Epoch 16/100\n",
            "913/913 [==============================] - 58s 63ms/step - loss: 0.1271 - accuracy: 0.9579 - val_loss: 0.1032 - val_accuracy: 0.9677 - lr: 0.0010\n",
            "Epoch 17/100\n",
            "913/913 [==============================] - 57s 63ms/step - loss: 0.1182 - accuracy: 0.9616 - val_loss: 0.1144 - val_accuracy: 0.9631 - lr: 0.0010\n",
            "Epoch 18/100\n",
            "913/913 [==============================] - 58s 63ms/step - loss: 0.1154 - accuracy: 0.9628 - val_loss: 0.1037 - val_accuracy: 0.9643 - lr: 0.0010\n",
            "Epoch 19/100\n",
            "913/913 [==============================] - 58s 63ms/step - loss: 0.1124 - accuracy: 0.9630 - val_loss: 0.1037 - val_accuracy: 0.9639 - lr: 0.0010\n",
            "Epoch 20/100\n",
            "913/913 [==============================] - 59s 65ms/step - loss: 0.1220 - accuracy: 0.9620 - val_loss: 0.0882 - val_accuracy: 0.9702 - lr: 0.0010\n",
            "Epoch 21/100\n",
            "913/913 [==============================] - 57s 62ms/step - loss: 0.1102 - accuracy: 0.9642 - val_loss: 0.0866 - val_accuracy: 0.9749 - lr: 0.0010\n",
            "Epoch 22/100\n",
            "913/913 [==============================] - 58s 63ms/step - loss: 0.1121 - accuracy: 0.9642 - val_loss: 0.0828 - val_accuracy: 0.9730 - lr: 0.0010\n",
            "Epoch 23/100\n",
            "913/913 [==============================] - 56s 62ms/step - loss: 0.1025 - accuracy: 0.9666 - val_loss: 0.0846 - val_accuracy: 0.9729 - lr: 0.0010\n",
            "Epoch 24/100\n",
            "913/913 [==============================] - 59s 64ms/step - loss: 0.1144 - accuracy: 0.9634 - val_loss: 0.0865 - val_accuracy: 0.9729 - lr: 0.0010\n",
            "Epoch 25/100\n",
            "913/913 [==============================] - 58s 63ms/step - loss: 0.1056 - accuracy: 0.9646 - val_loss: 0.0759 - val_accuracy: 0.9766 - lr: 0.0010\n",
            "Epoch 26/100\n",
            "913/913 [==============================] - 62s 68ms/step - loss: 0.1056 - accuracy: 0.9661 - val_loss: 0.1582 - val_accuracy: 0.9644 - lr: 0.0010\n",
            "Epoch 27/100\n",
            "913/913 [==============================] - 58s 63ms/step - loss: 0.1098 - accuracy: 0.9650 - val_loss: 0.0775 - val_accuracy: 0.9759 - lr: 0.0010\n",
            "Epoch 28/100\n",
            "913/913 [==============================] - 59s 65ms/step - loss: 0.1065 - accuracy: 0.9649 - val_loss: 0.0841 - val_accuracy: 0.9655 - lr: 0.0010\n",
            "Epoch 29/100\n",
            "913/913 [==============================] - 58s 63ms/step - loss: 0.1081 - accuracy: 0.9647 - val_loss: 0.0938 - val_accuracy: 0.9694 - lr: 0.0010\n",
            "Epoch 30/100\n",
            "913/913 [==============================] - 58s 64ms/step - loss: 0.1055 - accuracy: 0.9648 - val_loss: 0.0841 - val_accuracy: 0.9729 - lr: 0.0010\n",
            "Epoch 31/100\n",
            "913/913 [==============================] - 63s 70ms/step - loss: 0.0987 - accuracy: 0.9674 - val_loss: 0.0708 - val_accuracy: 0.9771 - lr: 0.0010\n",
            "Epoch 32/100\n",
            "913/913 [==============================] - 59s 64ms/step - loss: 0.1026 - accuracy: 0.9671 - val_loss: 0.0772 - val_accuracy: 0.9742 - lr: 0.0010\n",
            "Epoch 33/100\n",
            "913/913 [==============================] - 58s 63ms/step - loss: 0.1022 - accuracy: 0.9666 - val_loss: 0.0751 - val_accuracy: 0.9768 - lr: 0.0010\n",
            "Epoch 34/100\n",
            "913/913 [==============================] - 57s 62ms/step - loss: 0.1033 - accuracy: 0.9670 - val_loss: 0.0899 - val_accuracy: 0.9736 - lr: 0.0010\n",
            "Epoch 35/100\n",
            "913/913 [==============================] - 57s 63ms/step - loss: 0.1064 - accuracy: 0.9658 - val_loss: 0.0764 - val_accuracy: 0.9760 - lr: 0.0010\n",
            "Epoch 36/100\n",
            "913/913 [==============================] - 61s 66ms/step - loss: 0.0929 - accuracy: 0.9694 - val_loss: 0.0674 - val_accuracy: 0.9794 - lr: 0.0010\n",
            "Epoch 37/100\n",
            "913/913 [==============================] - 56s 61ms/step - loss: 0.1040 - accuracy: 0.9658 - val_loss: 0.0961 - val_accuracy: 0.9699 - lr: 0.0010\n",
            "Epoch 38/100\n",
            "913/913 [==============================] - 57s 62ms/step - loss: 0.0999 - accuracy: 0.9675 - val_loss: 0.0719 - val_accuracy: 0.9784 - lr: 0.0010\n",
            "Epoch 39/100\n",
            "913/913 [==============================] - 57s 63ms/step - loss: 0.0957 - accuracy: 0.9689 - val_loss: 0.0928 - val_accuracy: 0.9688 - lr: 0.0010\n",
            "Epoch 40/100\n",
            "913/913 [==============================] - 57s 62ms/step - loss: 0.1000 - accuracy: 0.9670 - val_loss: 0.0705 - val_accuracy: 0.9786 - lr: 0.0010\n",
            "Epoch 41/100\n",
            "913/913 [==============================] - 58s 63ms/step - loss: 0.0957 - accuracy: 0.9687 - val_loss: 0.0751 - val_accuracy: 0.9777 - lr: 0.0010\n",
            "Epoch 42/100\n",
            "913/913 [==============================] - 57s 62ms/step - loss: 0.0985 - accuracy: 0.9684 - val_loss: 0.0932 - val_accuracy: 0.9677 - lr: 0.0010\n",
            "Epoch 43/100\n",
            "913/913 [==============================] - 57s 62ms/step - loss: 0.0940 - accuracy: 0.9693 - val_loss: 0.1104 - val_accuracy: 0.9714 - lr: 0.0010\n",
            "Epoch 44/100\n",
            "913/913 [==============================] - 57s 62ms/step - loss: 0.0992 - accuracy: 0.9672 - val_loss: 0.0700 - val_accuracy: 0.9780 - lr: 0.0010\n",
            "Epoch 45/100\n",
            "913/913 [==============================] - 57s 63ms/step - loss: 0.0981 - accuracy: 0.9688 - val_loss: 0.0790 - val_accuracy: 0.9729 - lr: 0.0010\n",
            "Epoch 46/100\n",
            "913/913 [==============================] - 57s 62ms/step - loss: 0.1059 - accuracy: 0.9672 - val_loss: 0.0691 - val_accuracy: 0.9770 - lr: 0.0010\n",
            "Epoch 47/100\n",
            "913/913 [==============================] - 57s 63ms/step - loss: 0.0961 - accuracy: 0.9693 - val_loss: 0.0723 - val_accuracy: 0.9763 - lr: 0.0010\n",
            "Epoch 48/100\n",
            "913/913 [==============================] - 57s 63ms/step - loss: 0.0916 - accuracy: 0.9695 - val_loss: 0.0637 - val_accuracy: 0.9789 - lr: 0.0010\n",
            "Epoch 49/100\n",
            "913/913 [==============================] - 56s 61ms/step - loss: 0.0954 - accuracy: 0.9692 - val_loss: 0.0818 - val_accuracy: 0.9729 - lr: 0.0010\n",
            "Epoch 50/100\n",
            "913/913 [==============================] - 57s 62ms/step - loss: 0.0947 - accuracy: 0.9705 - val_loss: 0.0706 - val_accuracy: 0.9753 - lr: 0.0010\n",
            "Epoch 51/100\n",
            "913/913 [==============================] - 57s 62ms/step - loss: 0.0890 - accuracy: 0.9704 - val_loss: 0.0779 - val_accuracy: 0.9729 - lr: 0.0010\n",
            "Epoch 52/100\n",
            "913/913 [==============================] - 59s 64ms/step - loss: 0.0980 - accuracy: 0.9680 - val_loss: 0.0729 - val_accuracy: 0.9786 - lr: 0.0010\n",
            "Epoch 53/100\n",
            "913/913 [==============================] - 57s 63ms/step - loss: 0.0926 - accuracy: 0.9695 - val_loss: 0.0698 - val_accuracy: 0.9786 - lr: 0.0010\n",
            "Epoch 54/100\n",
            "913/913 [==============================] - 57s 62ms/step - loss: 0.0953 - accuracy: 0.9697 - val_loss: 0.0817 - val_accuracy: 0.9762 - lr: 0.0010\n",
            "Epoch 55/100\n",
            "913/913 [==============================] - 58s 63ms/step - loss: 0.0903 - accuracy: 0.9708 - val_loss: 0.0901 - val_accuracy: 0.9679 - lr: 0.0010\n",
            "Epoch 56/100\n",
            "913/913 [==============================] - 55s 61ms/step - loss: 0.0955 - accuracy: 0.9698 - val_loss: 0.0865 - val_accuracy: 0.9701 - lr: 0.0010\n",
            "Epoch 57/100\n",
            "913/913 [==============================] - 58s 63ms/step - loss: 0.0854 - accuracy: 0.9725 - val_loss: 0.0833 - val_accuracy: 0.9764 - lr: 0.0010\n",
            "Epoch 58/100\n",
            "913/913 [==============================] - 59s 64ms/step - loss: 0.0927 - accuracy: 0.9696 - val_loss: 0.0689 - val_accuracy: 0.9763 - lr: 0.0010\n",
            "Epoch 59/100\n",
            "913/913 [==============================] - 56s 62ms/step - loss: 0.0955 - accuracy: 0.9695 - val_loss: 0.0704 - val_accuracy: 0.9795 - lr: 0.0010\n",
            "Epoch 60/100\n",
            "913/913 [==============================] - 57s 62ms/step - loss: 0.0883 - accuracy: 0.9714 - val_loss: 0.0619 - val_accuracy: 0.9810 - lr: 0.0010\n",
            "Epoch 61/100\n",
            "913/913 [==============================] - 57s 63ms/step - loss: 0.0930 - accuracy: 0.9690 - val_loss: 0.0854 - val_accuracy: 0.9694 - lr: 0.0010\n",
            "Epoch 62/100\n",
            "913/913 [==============================] - 58s 63ms/step - loss: 0.0978 - accuracy: 0.9686 - val_loss: 0.0887 - val_accuracy: 0.9691 - lr: 0.0010\n",
            "Epoch 63/100\n",
            "913/913 [==============================] - 58s 64ms/step - loss: 0.0939 - accuracy: 0.9706 - val_loss: 0.0952 - val_accuracy: 0.9675 - lr: 0.0010\n",
            "Epoch 64/100\n",
            "913/913 [==============================] - 55s 61ms/step - loss: 0.0918 - accuracy: 0.9700 - val_loss: 0.0764 - val_accuracy: 0.9710 - lr: 0.0010\n",
            "Epoch 65/100\n",
            "913/913 [==============================] - 57s 63ms/step - loss: 0.0953 - accuracy: 0.9702 - val_loss: 0.0781 - val_accuracy: 0.9761 - lr: 0.0010\n",
            "Epoch 66/100\n",
            "913/913 [==============================] - 57s 62ms/step - loss: 0.0896 - accuracy: 0.9705 - val_loss: 0.0859 - val_accuracy: 0.9744 - lr: 0.0010\n",
            "Epoch 67/100\n",
            "913/913 [==============================] - 57s 62ms/step - loss: 0.0854 - accuracy: 0.9713 - val_loss: 0.0941 - val_accuracy: 0.9714 - lr: 0.0010\n",
            "Epoch 68/100\n",
            "913/913 [==============================] - 63s 69ms/step - loss: 0.0897 - accuracy: 0.9713 - val_loss: 0.0757 - val_accuracy: 0.9749 - lr: 0.0010\n",
            "Epoch 69/100\n",
            "913/913 [==============================] - 57s 62ms/step - loss: 0.0993 - accuracy: 0.9695 - val_loss: 0.0909 - val_accuracy: 0.9678 - lr: 0.0010\n",
            "Epoch 70/100\n",
            "913/913 [==============================] - 56s 61ms/step - loss: 0.0966 - accuracy: 0.9686 - val_loss: 0.0700 - val_accuracy: 0.9779 - lr: 0.0010\n",
            "Epoch 71/100\n",
            "913/913 [==============================] - 56s 62ms/step - loss: 0.0897 - accuracy: 0.9713 - val_loss: 0.0766 - val_accuracy: 0.9763 - lr: 0.0010\n",
            "Epoch 72/100\n",
            "913/913 [==============================] - 58s 63ms/step - loss: 0.0903 - accuracy: 0.9710 - val_loss: 0.0734 - val_accuracy: 0.9744 - lr: 0.0010\n",
            "Epoch 73/100\n",
            "913/913 [==============================] - 57s 62ms/step - loss: 0.0897 - accuracy: 0.9711 - val_loss: 0.0653 - val_accuracy: 0.9787 - lr: 0.0010\n",
            "Epoch 74/100\n",
            "913/913 [==============================] - 58s 63ms/step - loss: 0.0910 - accuracy: 0.9712 - val_loss: 0.0688 - val_accuracy: 0.9779 - lr: 0.0010\n",
            "Epoch 75/100\n",
            "913/913 [==============================] - 56s 61ms/step - loss: 0.0904 - accuracy: 0.9709 - val_loss: 0.0825 - val_accuracy: 0.9715 - lr: 0.0010\n",
            "Epoch 76/100\n",
            "913/913 [==============================] - 57s 62ms/step - loss: 0.0937 - accuracy: 0.9712 - val_loss: 0.0810 - val_accuracy: 0.9731 - lr: 0.0010\n",
            "Epoch 77/100\n",
            "913/913 [==============================] - 57s 62ms/step - loss: 0.0866 - accuracy: 0.9721 - val_loss: 0.1162 - val_accuracy: 0.9501 - lr: 0.0010\n",
            "Epoch 78/100\n",
            "913/913 [==============================] - 57s 63ms/step - loss: 0.0950 - accuracy: 0.9696 - val_loss: 0.0616 - val_accuracy: 0.9810 - lr: 0.0010\n",
            "Epoch 79/100\n",
            "913/913 [==============================] - 57s 63ms/step - loss: 0.0899 - accuracy: 0.9713 - val_loss: 0.0592 - val_accuracy: 0.9813 - lr: 0.0010\n",
            "Epoch 80/100\n",
            "913/913 [==============================] - 58s 64ms/step - loss: 0.0914 - accuracy: 0.9704 - val_loss: 0.0659 - val_accuracy: 0.9785 - lr: 0.0010\n",
            "Epoch 81/100\n",
            "913/913 [==============================] - 60s 66ms/step - loss: 0.0942 - accuracy: 0.9693 - val_loss: 0.0725 - val_accuracy: 0.9764 - lr: 0.0010\n",
            "Epoch 82/100\n",
            "913/913 [==============================] - 59s 65ms/step - loss: 0.0888 - accuracy: 0.9711 - val_loss: 0.0841 - val_accuracy: 0.9779 - lr: 0.0010\n",
            "Epoch 83/100\n",
            "913/913 [==============================] - 59s 65ms/step - loss: 0.0843 - accuracy: 0.9721 - val_loss: 0.0746 - val_accuracy: 0.9767 - lr: 0.0010\n",
            "Epoch 84/100\n",
            "913/913 [==============================] - 59s 64ms/step - loss: 0.0905 - accuracy: 0.9709 - val_loss: 0.0855 - val_accuracy: 0.9718 - lr: 0.0010\n",
            "Epoch 85/100\n",
            "913/913 [==============================] - 59s 65ms/step - loss: 0.0973 - accuracy: 0.9689 - val_loss: 0.0701 - val_accuracy: 0.9768 - lr: 0.0010\n",
            "Epoch 86/100\n",
            "913/913 [==============================] - 61s 66ms/step - loss: 0.0884 - accuracy: 0.9720 - val_loss: 0.0728 - val_accuracy: 0.9755 - lr: 0.0010\n",
            "Epoch 87/100\n",
            "913/913 [==============================] - 58s 64ms/step - loss: 0.0914 - accuracy: 0.9706 - val_loss: 0.0697 - val_accuracy: 0.9773 - lr: 0.0010\n",
            "Epoch 88/100\n",
            "913/913 [==============================] - 58s 64ms/step - loss: 0.0912 - accuracy: 0.9710 - val_loss: 0.0742 - val_accuracy: 0.9744 - lr: 0.0010\n",
            "Epoch 89/100\n",
            "913/913 [==============================] - 61s 66ms/step - loss: 0.0878 - accuracy: 0.9708 - val_loss: 0.0867 - val_accuracy: 0.9725 - lr: 0.0010\n",
            "Epoch 90/100\n",
            "913/913 [==============================] - 59s 65ms/step - loss: 0.0975 - accuracy: 0.9694 - val_loss: 0.0847 - val_accuracy: 0.9731 - lr: 0.0010\n",
            "Epoch 91/100\n",
            "913/913 [==============================] - 57s 62ms/step - loss: 0.0825 - accuracy: 0.9738 - val_loss: 0.0679 - val_accuracy: 0.9801 - lr: 0.0010\n",
            "Epoch 92/100\n",
            "913/913 [==============================] - 59s 64ms/step - loss: 0.0860 - accuracy: 0.9723 - val_loss: 0.0786 - val_accuracy: 0.9715 - lr: 0.0010\n",
            "Epoch 93/100\n",
            "913/913 [==============================] - 59s 65ms/step - loss: 0.0948 - accuracy: 0.9700 - val_loss: 0.0792 - val_accuracy: 0.9759 - lr: 0.0010\n",
            "Epoch 94/100\n",
            "913/913 [==============================] - 55s 60ms/step - loss: 0.0853 - accuracy: 0.9718 - val_loss: 0.0793 - val_accuracy: 0.9714 - lr: 0.0010\n",
            "Epoch 95/100\n",
            "913/913 [==============================] - 57s 63ms/step - loss: 0.0961 - accuracy: 0.9695 - val_loss: 0.0630 - val_accuracy: 0.9788 - lr: 0.0010\n",
            "Epoch 96/100\n",
            "913/913 [==============================] - 57s 62ms/step - loss: 0.0909 - accuracy: 0.9706 - val_loss: 0.0585 - val_accuracy: 0.9814 - lr: 0.0010\n",
            "Epoch 97/100\n",
            "913/913 [==============================] - 55s 60ms/step - loss: 0.0882 - accuracy: 0.9713 - val_loss: 0.0641 - val_accuracy: 0.9797 - lr: 0.0010\n",
            "Epoch 98/100\n",
            "913/913 [==============================] - 55s 60ms/step - loss: 0.0954 - accuracy: 0.9705 - val_loss: 0.0805 - val_accuracy: 0.9725 - lr: 0.0010\n",
            "Epoch 99/100\n",
            "913/913 [==============================] - 53s 58ms/step - loss: 0.0879 - accuracy: 0.9710 - val_loss: 0.0755 - val_accuracy: 0.9680 - lr: 0.0010\n",
            "Epoch 100/100\n",
            "913/913 [==============================] - 57s 63ms/step - loss: 0.0913 - accuracy: 0.9713 - val_loss: 0.0742 - val_accuracy: 0.9743 - lr: 0.0010\n"
          ]
        },
        {
          "output_type": "execute_result",
          "data": {
            "text/plain": [
              "<keras.src.callbacks.History at 0x7ca4c7cd4bb0>"
            ]
          },
          "metadata": {},
          "execution_count": 85
        }
      ],
      "source": [
        "model.fit([x_train, x_train], y_train,\n",
        "          batch_size=64,\n",
        "          epochs=100,\n",
        "          validation_data=([x_val, x_val], y_val),\n",
        "          callbacks=[lr_callback])"
      ]
    },
    {
      "cell_type": "code",
      "execution_count": 86,
      "id": "3ffe7d0c",
      "metadata": {
        "id": "3ffe7d0c"
      },
      "outputs": [],
      "source": [
        "# Record the end time\n",
        "end_time = time.time()"
      ]
    },
    {
      "cell_type": "code",
      "execution_count": 87,
      "id": "e8dd9c65",
      "metadata": {
        "id": "e8dd9c65",
        "colab": {
          "base_uri": "https://localhost:8080/"
        },
        "outputId": "e58c52cf-a820-41ee-fa5f-49bd24578206"
      },
      "outputs": [
        {
          "output_type": "stream",
          "name": "stdout",
          "text": [
            "Total Running Time: 5872.79 seconds\n"
          ]
        }
      ],
      "source": [
        "# Calculate the total running time\n",
        "running_time = end_time - start_time\n",
        "print(\"Total Running Time: {:.2f} seconds\".format(running_time))"
      ]
    },
    {
      "cell_type": "code",
      "execution_count": 88,
      "id": "23ebca14",
      "metadata": {
        "id": "23ebca14",
        "colab": {
          "base_uri": "https://localhost:8080/"
        },
        "outputId": "a51ff966-d9a5-4dcc-e62e-8c99294bf1a3"
      },
      "outputs": [
        {
          "output_type": "stream",
          "name": "stdout",
          "text": [
            "254/254 [==============================] - 4s 17ms/step - loss: 0.0787 - accuracy: 0.9720\n",
            "Test loss: 0.07865912467241287, Test accuracy: 0.9720098376274109\n"
          ]
        }
      ],
      "source": [
        "# Evaluate the model\n",
        "loss, accuracy = model.evaluate([x_test, x_test], y_test)\n",
        "print(f\"Test loss: {loss}, Test accuracy: {accuracy}\")"
      ]
    },
    {
      "cell_type": "code",
      "execution_count": 89,
      "id": "78f8e19d",
      "metadata": {
        "id": "78f8e19d",
        "colab": {
          "base_uri": "https://localhost:8080/"
        },
        "outputId": "a8b0447e-7e22-4f50-d169-2367c80c873d"
      },
      "outputs": [
        {
          "output_type": "stream",
          "name": "stderr",
          "text": [
            "/usr/local/lib/python3.10/dist-packages/keras/src/engine/training.py:3103: UserWarning: You are saving your model as an HDF5 file via `model.save()`. This file format is considered legacy. We recommend using instead the native Keras format, e.g. `model.save('my_model.keras')`.\n",
            "  saving_api.save_model(\n"
          ]
        }
      ],
      "source": [
        "# Save the trained model\n",
        "model.save(\"my_model_otto.h5\")\n"
      ]
    }
  ],
  "metadata": {
    "accelerator": "GPU",
    "colab": {
      "provenance": [],
      "toc_visible": true,
      "include_colab_link": true
    },
    "kernelspec": {
      "display_name": "Python 3 (ipykernel)",
      "language": "python",
      "name": "python3"
    },
    "language_info": {
      "codemirror_mode": {
        "name": "ipython",
        "version": 3
      },
      "file_extension": ".py",
      "mimetype": "text/x-python",
      "name": "python",
      "nbconvert_exporter": "python",
      "pygments_lexer": "ipython3",
      "version": "3.10.7"
    }
  },
  "nbformat": 4,
  "nbformat_minor": 5
}
