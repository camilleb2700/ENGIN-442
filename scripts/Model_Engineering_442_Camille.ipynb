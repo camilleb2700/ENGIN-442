{
  "cells": [
    {
      "cell_type": "code",
      "execution_count": null,
      "id": "da645ec0",
      "metadata": {
        "id": "da645ec0"
      },
      "outputs": [],
      "source": [
        "'''\n",
        "YOUR TASKS:\n",
        "\n",
        "1. SPECIFY THE URL OR PATH TO YOUR DATA, REMEMBER - YOU FIRST HAVE TO DOWNLOAD IT.\n",
        "2. CLICK RUN ALL OR RESTART AND RUN ALL BUTTON TO RUN THE CODE. THIS CODE RUNS IN A CHRONOLOGICAL MANNER - THE TOP BLOCKS MUST PRECEED THE BOTTOM ONES,\n",
        "                                                                                                            i.e. don't run stuff from the bottom first, otherwise the code won't work properly.\n",
        "3. NEAR THE END OF THE CODE, YOU WILL SEE YOUR EPOCH METRICS, AS I STATED IN CLASS, YOU WANT THE ACCURACY TO APPROACH 100% =1.0 AND THE LOSS TO APPROACH 0\n",
        "4. IN CASE IF YOUR MODEL IS STRUGGLING TO REACH THESE RESULTS AND IS INSTEAD STUCK AT A LOW ACCURACY, NAVIGATE TO THE BLOCK OF CODE WITH HYPERPARAMETERS AND CHANGE THESE NUMBERS,\n",
        "THEN, TRY RUNNING THE CODE AGAIN AND SEE HOW YOUR MODEL IS PERFORMING; REPEAT UNTIL YOU REACH A PLAUSIBLE RESULT (ONE THAT IS BETTER THAN A COIN TOSS IN TERMS OF PREDICTION ACCURACY IN THE WORST CASE)\n",
        "5. SAVE YOUR RESULTS => THE CODE INCLUDES A BLOCK WHICH WILL SAVE YOUR MODEL TO A .h5 FILE,\n",
        " - KEEP THE OUTPUTS OF THIS NOTEBOOK AS WELL, YOU WILL WANT TO DEMONSTRATE HOW THE TRAINING PROCESS WENT.\n",
        " - BE MINDFUL OF THE TIME YOU HAVE IF YOU CHOOSE TO USE GOOGLE COLLABORATORY INSTEAD OF YOUR OWN MACHINE AS THEIR VMs ONLY OFFER YOU A COUPLE OF HOURS OF USAGE.\n",
        "'''"
      ]
    },
    {
      "cell_type": "code",
      "execution_count": 32,
      "id": "dd77aa5b",
      "metadata": {
        "id": "dd77aa5b"
      },
      "outputs": [],
      "source": [
        "import numpy as np\n",
        "import pandas as pd\n",
        "import tensorflow as tf\n",
        "from sklearn.model_selection import train_test_split\n",
        "from tensorflow import keras\n",
        "from tensorflow.keras import layers\n",
        "from tensorflow.keras.models import load_model\n",
        "from tensorflow.keras.optimizers import Adam\n",
        "from tensorflow.keras.callbacks import ReduceLROnPlateau, EarlyStopping\n",
        "from sklearn.metrics import confusion_matrix\n",
        "import seaborn as sns\n",
        "from sklearn.preprocessing import LabelEncoder\n",
        "import matplotlib.pyplot as plt\n",
        "import time"
      ]
    },
    {
      "cell_type": "code",
      "execution_count": null,
      "id": "f16df2f1",
      "metadata": {
        "id": "f16df2f1"
      },
      "outputs": [],
      "source": [
        "# Function to read the data\n",
        "def read_data(filename):\n",
        "    data = pd.read_csv(filename)\n",
        "\n",
        "    # Extract features\n",
        "    features = data.iloc[:,1 :-1].values\n",
        "\n",
        "    # Extract and encode labels\n",
        "    label_encoder = LabelEncoder()\n",
        "    data.iloc[:, -1] = label_encoder.fit_transform(data.iloc[:, -1])\n",
        "    labels = data.iloc[:, -1].values\n",
        "\n",
        "    return features, labels\n",
        "# Read the data\n",
        "data_url = \"https://raw.githubusercontent.com/camilleb2700/ENGIN-442/main/user_4.csv\" # enter your data URL or PATH here in enclosed in \" \" IF YOUR NOTEBOOK IS IN THE SAME FOLDER AS data.csv, which is your data you downloaded, then this will run as it is.\n",
        "                    # otherwise, you have to specify a different path or url\n",
        "x, y = read_data(data_url)"
      ]
    },
    {
      "cell_type": "code",
      "execution_count": 34,
      "id": "773378f4",
      "metadata": {
        "id": "773378f4"
      },
      "outputs": [],
      "source": [
        "df = pd.read_csv(data_url) ## THIS AND THE BLOCK OF CODE IMMEDIATELY AFTER THIS ARE OPTIONAL, THIS IS INTENDED TO HELP YOU VISUALIZE YOUR DATASET"
      ]
    },
    {
      "cell_type": "code",
      "execution_count": 35,
      "id": "c4345daf",
      "metadata": {
        "colab": {
          "base_uri": "https://localhost:8080/",
          "height": 461
        },
        "id": "c4345daf",
        "outputId": "2f6604b2-f8f9-482c-a452-7cd2baf667d1"
      },
      "outputs": [
        {
          "output_type": "execute_result",
          "data": {
            "text/plain": [
              "       Time (Seconds)  x-rotation  y-rotation  z-rotation  x-position  \\\n",
              "0            0.000000   71.503227    8.469132   15.086559    1.031810   \n",
              "1            0.008333   71.465935    8.534703   15.115500    1.031648   \n",
              "2            0.016667   71.402290    8.547145   15.212766    1.031494   \n",
              "3            0.025000   71.345825    8.632352   15.297141    1.031372   \n",
              "4            0.033333   71.296577    8.698273   15.370334    1.031248   \n",
              "...               ...         ...         ...         ...         ...   \n",
              "80469       30.300000   25.907475  -53.189522  126.003304   -0.335001   \n",
              "80470       30.308333   26.524557  -53.891808  126.768288   -0.337853   \n",
              "80471       30.316667   27.122971  -54.681313  127.514549   -0.340846   \n",
              "80472       30.325000   27.821383  -55.441963  128.452454   -0.344030   \n",
              "80473       30.333333   28.559237  -56.367188  129.474243   -0.347016   \n",
              "\n",
              "       y-position  z-position                  label  \n",
              "0        1.135602   -0.420733      Sit_VidCall_Phone  \n",
              "1        1.135565   -0.420697      Sit_VidCall_Phone  \n",
              "2        1.135499   -0.420653      Sit_VidCall_Phone  \n",
              "3        1.135447   -0.420621      Sit_VidCall_Phone  \n",
              "4        1.135412   -0.420604      Sit_VidCall_Phone  \n",
              "...           ...         ...                    ...  \n",
              "80469    1.214560   -0.059039  Walk_WebBrowse_Tablet  \n",
              "80470    1.216213   -0.051177  Walk_WebBrowse_Tablet  \n",
              "80471    1.217775   -0.043328  Walk_WebBrowse_Tablet  \n",
              "80472    1.219314   -0.035561  Walk_WebBrowse_Tablet  \n",
              "80473    1.220644   -0.027703  Walk_WebBrowse_Tablet  \n",
              "\n",
              "[80474 rows x 8 columns]"
            ],
            "text/html": [
              "\n",
              "  <div id=\"df-603798f3-8596-4039-ab90-a938100a9bfe\" class=\"colab-df-container\">\n",
              "    <div>\n",
              "<style scoped>\n",
              "    .dataframe tbody tr th:only-of-type {\n",
              "        vertical-align: middle;\n",
              "    }\n",
              "\n",
              "    .dataframe tbody tr th {\n",
              "        vertical-align: top;\n",
              "    }\n",
              "\n",
              "    .dataframe thead th {\n",
              "        text-align: right;\n",
              "    }\n",
              "</style>\n",
              "<table border=\"1\" class=\"dataframe\">\n",
              "  <thead>\n",
              "    <tr style=\"text-align: right;\">\n",
              "      <th></th>\n",
              "      <th>Time (Seconds)</th>\n",
              "      <th>x-rotation</th>\n",
              "      <th>y-rotation</th>\n",
              "      <th>z-rotation</th>\n",
              "      <th>x-position</th>\n",
              "      <th>y-position</th>\n",
              "      <th>z-position</th>\n",
              "      <th>label</th>\n",
              "    </tr>\n",
              "  </thead>\n",
              "  <tbody>\n",
              "    <tr>\n",
              "      <th>0</th>\n",
              "      <td>0.000000</td>\n",
              "      <td>71.503227</td>\n",
              "      <td>8.469132</td>\n",
              "      <td>15.086559</td>\n",
              "      <td>1.031810</td>\n",
              "      <td>1.135602</td>\n",
              "      <td>-0.420733</td>\n",
              "      <td>Sit_VidCall_Phone</td>\n",
              "    </tr>\n",
              "    <tr>\n",
              "      <th>1</th>\n",
              "      <td>0.008333</td>\n",
              "      <td>71.465935</td>\n",
              "      <td>8.534703</td>\n",
              "      <td>15.115500</td>\n",
              "      <td>1.031648</td>\n",
              "      <td>1.135565</td>\n",
              "      <td>-0.420697</td>\n",
              "      <td>Sit_VidCall_Phone</td>\n",
              "    </tr>\n",
              "    <tr>\n",
              "      <th>2</th>\n",
              "      <td>0.016667</td>\n",
              "      <td>71.402290</td>\n",
              "      <td>8.547145</td>\n",
              "      <td>15.212766</td>\n",
              "      <td>1.031494</td>\n",
              "      <td>1.135499</td>\n",
              "      <td>-0.420653</td>\n",
              "      <td>Sit_VidCall_Phone</td>\n",
              "    </tr>\n",
              "    <tr>\n",
              "      <th>3</th>\n",
              "      <td>0.025000</td>\n",
              "      <td>71.345825</td>\n",
              "      <td>8.632352</td>\n",
              "      <td>15.297141</td>\n",
              "      <td>1.031372</td>\n",
              "      <td>1.135447</td>\n",
              "      <td>-0.420621</td>\n",
              "      <td>Sit_VidCall_Phone</td>\n",
              "    </tr>\n",
              "    <tr>\n",
              "      <th>4</th>\n",
              "      <td>0.033333</td>\n",
              "      <td>71.296577</td>\n",
              "      <td>8.698273</td>\n",
              "      <td>15.370334</td>\n",
              "      <td>1.031248</td>\n",
              "      <td>1.135412</td>\n",
              "      <td>-0.420604</td>\n",
              "      <td>Sit_VidCall_Phone</td>\n",
              "    </tr>\n",
              "    <tr>\n",
              "      <th>...</th>\n",
              "      <td>...</td>\n",
              "      <td>...</td>\n",
              "      <td>...</td>\n",
              "      <td>...</td>\n",
              "      <td>...</td>\n",
              "      <td>...</td>\n",
              "      <td>...</td>\n",
              "      <td>...</td>\n",
              "    </tr>\n",
              "    <tr>\n",
              "      <th>80469</th>\n",
              "      <td>30.300000</td>\n",
              "      <td>25.907475</td>\n",
              "      <td>-53.189522</td>\n",
              "      <td>126.003304</td>\n",
              "      <td>-0.335001</td>\n",
              "      <td>1.214560</td>\n",
              "      <td>-0.059039</td>\n",
              "      <td>Walk_WebBrowse_Tablet</td>\n",
              "    </tr>\n",
              "    <tr>\n",
              "      <th>80470</th>\n",
              "      <td>30.308333</td>\n",
              "      <td>26.524557</td>\n",
              "      <td>-53.891808</td>\n",
              "      <td>126.768288</td>\n",
              "      <td>-0.337853</td>\n",
              "      <td>1.216213</td>\n",
              "      <td>-0.051177</td>\n",
              "      <td>Walk_WebBrowse_Tablet</td>\n",
              "    </tr>\n",
              "    <tr>\n",
              "      <th>80471</th>\n",
              "      <td>30.316667</td>\n",
              "      <td>27.122971</td>\n",
              "      <td>-54.681313</td>\n",
              "      <td>127.514549</td>\n",
              "      <td>-0.340846</td>\n",
              "      <td>1.217775</td>\n",
              "      <td>-0.043328</td>\n",
              "      <td>Walk_WebBrowse_Tablet</td>\n",
              "    </tr>\n",
              "    <tr>\n",
              "      <th>80472</th>\n",
              "      <td>30.325000</td>\n",
              "      <td>27.821383</td>\n",
              "      <td>-55.441963</td>\n",
              "      <td>128.452454</td>\n",
              "      <td>-0.344030</td>\n",
              "      <td>1.219314</td>\n",
              "      <td>-0.035561</td>\n",
              "      <td>Walk_WebBrowse_Tablet</td>\n",
              "    </tr>\n",
              "    <tr>\n",
              "      <th>80473</th>\n",
              "      <td>30.333333</td>\n",
              "      <td>28.559237</td>\n",
              "      <td>-56.367188</td>\n",
              "      <td>129.474243</td>\n",
              "      <td>-0.347016</td>\n",
              "      <td>1.220644</td>\n",
              "      <td>-0.027703</td>\n",
              "      <td>Walk_WebBrowse_Tablet</td>\n",
              "    </tr>\n",
              "  </tbody>\n",
              "</table>\n",
              "<p>80474 rows × 8 columns</p>\n",
              "</div>\n",
              "    <div class=\"colab-df-buttons\">\n",
              "\n",
              "  <div class=\"colab-df-container\">\n",
              "    <button class=\"colab-df-convert\" onclick=\"convertToInteractive('df-603798f3-8596-4039-ab90-a938100a9bfe')\"\n",
              "            title=\"Convert this dataframe to an interactive table.\"\n",
              "            style=\"display:none;\">\n",
              "\n",
              "  <svg xmlns=\"http://www.w3.org/2000/svg\" height=\"24px\" viewBox=\"0 -960 960 960\">\n",
              "    <path d=\"M120-120v-720h720v720H120Zm60-500h600v-160H180v160Zm220 220h160v-160H400v160Zm0 220h160v-160H400v160ZM180-400h160v-160H180v160Zm440 0h160v-160H620v160ZM180-180h160v-160H180v160Zm440 0h160v-160H620v160Z\"/>\n",
              "  </svg>\n",
              "    </button>\n",
              "\n",
              "  <style>\n",
              "    .colab-df-container {\n",
              "      display:flex;\n",
              "      gap: 12px;\n",
              "    }\n",
              "\n",
              "    .colab-df-convert {\n",
              "      background-color: #E8F0FE;\n",
              "      border: none;\n",
              "      border-radius: 50%;\n",
              "      cursor: pointer;\n",
              "      display: none;\n",
              "      fill: #1967D2;\n",
              "      height: 32px;\n",
              "      padding: 0 0 0 0;\n",
              "      width: 32px;\n",
              "    }\n",
              "\n",
              "    .colab-df-convert:hover {\n",
              "      background-color: #E2EBFA;\n",
              "      box-shadow: 0px 1px 2px rgba(60, 64, 67, 0.3), 0px 1px 3px 1px rgba(60, 64, 67, 0.15);\n",
              "      fill: #174EA6;\n",
              "    }\n",
              "\n",
              "    .colab-df-buttons div {\n",
              "      margin-bottom: 4px;\n",
              "    }\n",
              "\n",
              "    [theme=dark] .colab-df-convert {\n",
              "      background-color: #3B4455;\n",
              "      fill: #D2E3FC;\n",
              "    }\n",
              "\n",
              "    [theme=dark] .colab-df-convert:hover {\n",
              "      background-color: #434B5C;\n",
              "      box-shadow: 0px 1px 3px 1px rgba(0, 0, 0, 0.15);\n",
              "      filter: drop-shadow(0px 1px 2px rgba(0, 0, 0, 0.3));\n",
              "      fill: #FFFFFF;\n",
              "    }\n",
              "  </style>\n",
              "\n",
              "    <script>\n",
              "      const buttonEl =\n",
              "        document.querySelector('#df-603798f3-8596-4039-ab90-a938100a9bfe button.colab-df-convert');\n",
              "      buttonEl.style.display =\n",
              "        google.colab.kernel.accessAllowed ? 'block' : 'none';\n",
              "\n",
              "      async function convertToInteractive(key) {\n",
              "        const element = document.querySelector('#df-603798f3-8596-4039-ab90-a938100a9bfe');\n",
              "        const dataTable =\n",
              "          await google.colab.kernel.invokeFunction('convertToInteractive',\n",
              "                                                    [key], {});\n",
              "        if (!dataTable) return;\n",
              "\n",
              "        const docLinkHtml = 'Like what you see? Visit the ' +\n",
              "          '<a target=\"_blank\" href=https://colab.research.google.com/notebooks/data_table.ipynb>data table notebook</a>'\n",
              "          + ' to learn more about interactive tables.';\n",
              "        element.innerHTML = '';\n",
              "        dataTable['output_type'] = 'display_data';\n",
              "        await google.colab.output.renderOutput(dataTable, element);\n",
              "        const docLink = document.createElement('div');\n",
              "        docLink.innerHTML = docLinkHtml;\n",
              "        element.appendChild(docLink);\n",
              "      }\n",
              "    </script>\n",
              "  </div>\n",
              "\n",
              "\n",
              "<div id=\"df-171ae077-a58a-40c3-90ef-3375cffcc8a1\">\n",
              "  <button class=\"colab-df-quickchart\" onclick=\"quickchart('df-171ae077-a58a-40c3-90ef-3375cffcc8a1')\"\n",
              "            title=\"Suggest charts\"\n",
              "            style=\"display:none;\">\n",
              "\n",
              "<svg xmlns=\"http://www.w3.org/2000/svg\" height=\"24px\"viewBox=\"0 0 24 24\"\n",
              "     width=\"24px\">\n",
              "    <g>\n",
              "        <path d=\"M19 3H5c-1.1 0-2 .9-2 2v14c0 1.1.9 2 2 2h14c1.1 0 2-.9 2-2V5c0-1.1-.9-2-2-2zM9 17H7v-7h2v7zm4 0h-2V7h2v10zm4 0h-2v-4h2v4z\"/>\n",
              "    </g>\n",
              "</svg>\n",
              "  </button>\n",
              "\n",
              "<style>\n",
              "  .colab-df-quickchart {\n",
              "      --bg-color: #E8F0FE;\n",
              "      --fill-color: #1967D2;\n",
              "      --hover-bg-color: #E2EBFA;\n",
              "      --hover-fill-color: #174EA6;\n",
              "      --disabled-fill-color: #AAA;\n",
              "      --disabled-bg-color: #DDD;\n",
              "  }\n",
              "\n",
              "  [theme=dark] .colab-df-quickchart {\n",
              "      --bg-color: #3B4455;\n",
              "      --fill-color: #D2E3FC;\n",
              "      --hover-bg-color: #434B5C;\n",
              "      --hover-fill-color: #FFFFFF;\n",
              "      --disabled-bg-color: #3B4455;\n",
              "      --disabled-fill-color: #666;\n",
              "  }\n",
              "\n",
              "  .colab-df-quickchart {\n",
              "    background-color: var(--bg-color);\n",
              "    border: none;\n",
              "    border-radius: 50%;\n",
              "    cursor: pointer;\n",
              "    display: none;\n",
              "    fill: var(--fill-color);\n",
              "    height: 32px;\n",
              "    padding: 0;\n",
              "    width: 32px;\n",
              "  }\n",
              "\n",
              "  .colab-df-quickchart:hover {\n",
              "    background-color: var(--hover-bg-color);\n",
              "    box-shadow: 0 1px 2px rgba(60, 64, 67, 0.3), 0 1px 3px 1px rgba(60, 64, 67, 0.15);\n",
              "    fill: var(--button-hover-fill-color);\n",
              "  }\n",
              "\n",
              "  .colab-df-quickchart-complete:disabled,\n",
              "  .colab-df-quickchart-complete:disabled:hover {\n",
              "    background-color: var(--disabled-bg-color);\n",
              "    fill: var(--disabled-fill-color);\n",
              "    box-shadow: none;\n",
              "  }\n",
              "\n",
              "  .colab-df-spinner {\n",
              "    border: 2px solid var(--fill-color);\n",
              "    border-color: transparent;\n",
              "    border-bottom-color: var(--fill-color);\n",
              "    animation:\n",
              "      spin 1s steps(1) infinite;\n",
              "  }\n",
              "\n",
              "  @keyframes spin {\n",
              "    0% {\n",
              "      border-color: transparent;\n",
              "      border-bottom-color: var(--fill-color);\n",
              "      border-left-color: var(--fill-color);\n",
              "    }\n",
              "    20% {\n",
              "      border-color: transparent;\n",
              "      border-left-color: var(--fill-color);\n",
              "      border-top-color: var(--fill-color);\n",
              "    }\n",
              "    30% {\n",
              "      border-color: transparent;\n",
              "      border-left-color: var(--fill-color);\n",
              "      border-top-color: var(--fill-color);\n",
              "      border-right-color: var(--fill-color);\n",
              "    }\n",
              "    40% {\n",
              "      border-color: transparent;\n",
              "      border-right-color: var(--fill-color);\n",
              "      border-top-color: var(--fill-color);\n",
              "    }\n",
              "    60% {\n",
              "      border-color: transparent;\n",
              "      border-right-color: var(--fill-color);\n",
              "    }\n",
              "    80% {\n",
              "      border-color: transparent;\n",
              "      border-right-color: var(--fill-color);\n",
              "      border-bottom-color: var(--fill-color);\n",
              "    }\n",
              "    90% {\n",
              "      border-color: transparent;\n",
              "      border-bottom-color: var(--fill-color);\n",
              "    }\n",
              "  }\n",
              "</style>\n",
              "\n",
              "  <script>\n",
              "    async function quickchart(key) {\n",
              "      const quickchartButtonEl =\n",
              "        document.querySelector('#' + key + ' button');\n",
              "      quickchartButtonEl.disabled = true;  // To prevent multiple clicks.\n",
              "      quickchartButtonEl.classList.add('colab-df-spinner');\n",
              "      try {\n",
              "        const charts = await google.colab.kernel.invokeFunction(\n",
              "            'suggestCharts', [key], {});\n",
              "      } catch (error) {\n",
              "        console.error('Error during call to suggestCharts:', error);\n",
              "      }\n",
              "      quickchartButtonEl.classList.remove('colab-df-spinner');\n",
              "      quickchartButtonEl.classList.add('colab-df-quickchart-complete');\n",
              "    }\n",
              "    (() => {\n",
              "      let quickchartButtonEl =\n",
              "        document.querySelector('#df-171ae077-a58a-40c3-90ef-3375cffcc8a1 button');\n",
              "      quickchartButtonEl.style.display =\n",
              "        google.colab.kernel.accessAllowed ? 'block' : 'none';\n",
              "    })();\n",
              "  </script>\n",
              "</div>\n",
              "\n",
              "  <div id=\"id_036ea511-6342-4441-8b41-41d8f02bbea6\">\n",
              "    <style>\n",
              "      .colab-df-generate {\n",
              "        background-color: #E8F0FE;\n",
              "        border: none;\n",
              "        border-radius: 50%;\n",
              "        cursor: pointer;\n",
              "        display: none;\n",
              "        fill: #1967D2;\n",
              "        height: 32px;\n",
              "        padding: 0 0 0 0;\n",
              "        width: 32px;\n",
              "      }\n",
              "\n",
              "      .colab-df-generate:hover {\n",
              "        background-color: #E2EBFA;\n",
              "        box-shadow: 0px 1px 2px rgba(60, 64, 67, 0.3), 0px 1px 3px 1px rgba(60, 64, 67, 0.15);\n",
              "        fill: #174EA6;\n",
              "      }\n",
              "\n",
              "      [theme=dark] .colab-df-generate {\n",
              "        background-color: #3B4455;\n",
              "        fill: #D2E3FC;\n",
              "      }\n",
              "\n",
              "      [theme=dark] .colab-df-generate:hover {\n",
              "        background-color: #434B5C;\n",
              "        box-shadow: 0px 1px 3px 1px rgba(0, 0, 0, 0.15);\n",
              "        filter: drop-shadow(0px 1px 2px rgba(0, 0, 0, 0.3));\n",
              "        fill: #FFFFFF;\n",
              "      }\n",
              "    </style>\n",
              "    <button class=\"colab-df-generate\" onclick=\"generateWithVariable('df')\"\n",
              "            title=\"Generate code using this dataframe.\"\n",
              "            style=\"display:none;\">\n",
              "\n",
              "  <svg xmlns=\"http://www.w3.org/2000/svg\" height=\"24px\"viewBox=\"0 0 24 24\"\n",
              "       width=\"24px\">\n",
              "    <path d=\"M7,19H8.4L18.45,9,17,7.55,7,17.6ZM5,21V16.75L18.45,3.32a2,2,0,0,1,2.83,0l1.4,1.43a1.91,1.91,0,0,1,.58,1.4,1.91,1.91,0,0,1-.58,1.4L9.25,21ZM18.45,9,17,7.55Zm-12,3A5.31,5.31,0,0,0,4.9,8.1,5.31,5.31,0,0,0,1,6.5,5.31,5.31,0,0,0,4.9,4.9,5.31,5.31,0,0,0,6.5,1,5.31,5.31,0,0,0,8.1,4.9,5.31,5.31,0,0,0,12,6.5,5.46,5.46,0,0,0,6.5,12Z\"/>\n",
              "  </svg>\n",
              "    </button>\n",
              "    <script>\n",
              "      (() => {\n",
              "      const buttonEl =\n",
              "        document.querySelector('#id_036ea511-6342-4441-8b41-41d8f02bbea6 button.colab-df-generate');\n",
              "      buttonEl.style.display =\n",
              "        google.colab.kernel.accessAllowed ? 'block' : 'none';\n",
              "\n",
              "      buttonEl.onclick = () => {\n",
              "        google.colab.notebook.generateWithVariable('df');\n",
              "      }\n",
              "      })();\n",
              "    </script>\n",
              "  </div>\n",
              "\n",
              "    </div>\n",
              "  </div>\n"
            ]
          },
          "metadata": {},
          "execution_count": 35
        }
      ],
      "source": [
        "df # AS STATED ABOVE, YOU MAY REMOVE THIS AND THE ABOVE BLOCKS OF CODE IF YOU LIKE, THIS WILL HAVE NO"
      ]
    },
    {
      "cell_type": "code",
      "execution_count": 36,
      "id": "3eb86201",
      "metadata": {
        "colab": {
          "base_uri": "https://localhost:8080/"
        },
        "id": "3eb86201",
        "outputId": "a70e4a31-430e-47ce-bee0-3bd3dc998dd3"
      },
      "outputs": [
        {
          "output_type": "execute_result",
          "data": {
            "text/plain": [
              "(80474, 6)"
            ]
          },
          "metadata": {},
          "execution_count": 36
        }
      ],
      "source": [
        "x.shape ### IN THE FOLLOWING PARTS OF THE CODE, MAKE SURE THAT EVERYTING IS LOADED CORRECTLY, YOU SHOULD HAVE A DATASET WITH 22 CLASSES, (n-rows, 6 columns, later another dimension will be added here)"
      ]
    },
    {
      "cell_type": "code",
      "execution_count": 37,
      "id": "6b640bf8",
      "metadata": {
        "colab": {
          "base_uri": "https://localhost:8080/"
        },
        "id": "6b640bf8",
        "outputId": "1ce8937b-01ae-4d49-ae27-696ea283dae8"
      },
      "outputs": [
        {
          "output_type": "execute_result",
          "data": {
            "text/plain": [
              "(80474,)"
            ]
          },
          "metadata": {},
          "execution_count": 37
        }
      ],
      "source": [
        "y.shape"
      ]
    },
    {
      "cell_type": "code",
      "execution_count": 38,
      "id": "9650592c",
      "metadata": {
        "colab": {
          "base_uri": "https://localhost:8080/"
        },
        "id": "9650592c",
        "outputId": "1d88a12a-12db-422e-a053-63b9837a827b"
      },
      "outputs": [
        {
          "output_type": "execute_result",
          "data": {
            "text/plain": [
              "array([ 0,  1,  2,  3,  4,  5,  6,  7,  8,  9, 10, 11, 12, 13, 14, 15, 16,\n",
              "       17, 18, 19, 20, 21])"
            ]
          },
          "metadata": {},
          "execution_count": 38
        }
      ],
      "source": [
        "np.unique(y)"
      ]
    },
    {
      "cell_type": "code",
      "execution_count": 39,
      "id": "0edc69b6",
      "metadata": {
        "colab": {
          "base_uri": "https://localhost:8080/"
        },
        "id": "0edc69b6",
        "outputId": "aea80492-95e1-4066-9ed4-91c981e5a4c5"
      },
      "outputs": [
        {
          "output_type": "execute_result",
          "data": {
            "text/plain": [
              "array([71.503227,  8.469132, 15.086559,  1.03181 ,  1.135602, -0.420733])"
            ]
          },
          "metadata": {},
          "execution_count": 39
        }
      ],
      "source": [
        "x[0]"
      ]
    },
    {
      "cell_type": "code",
      "execution_count": 40,
      "id": "b4eec323",
      "metadata": {
        "colab": {
          "base_uri": "https://localhost:8080/"
        },
        "id": "b4eec323",
        "outputId": "98a1a019-de5e-4ba0-84e3-5ac71105b92b"
      },
      "outputs": [
        {
          "output_type": "execute_result",
          "data": {
            "text/plain": [
              "0"
            ]
          },
          "metadata": {},
          "execution_count": 40
        }
      ],
      "source": [
        "y[0] # these were sample rows from the data for your to inspect, you should see a 6 by 1 vector above and a single value here"
      ]
    },
    {
      "cell_type": "code",
      "execution_count": 41,
      "id": "9db6440b",
      "metadata": {
        "id": "9db6440b"
      },
      "outputs": [],
      "source": [
        "# Split the data into training, validation, and testing sets\n",
        "x_train, x_test, y_train, y_test = train_test_split(x, y, test_size=0.1, random_state=42)\n",
        "x_train, x_val, y_train, y_val = train_test_split(x_train, y_train, test_size=0.2, random_state=42)"
      ]
    },
    {
      "cell_type": "code",
      "execution_count": 42,
      "id": "0b135163",
      "metadata": {
        "id": "0b135163"
      },
      "outputs": [],
      "source": [
        "# Reshape the data\n",
        "x_train = x_train.reshape((x_train.shape[0], x_train.shape[1], 1))\n",
        "x_val = x_val.reshape((x_val.shape[0], x_val.shape[1], 1))\n",
        "x_test = x_test.reshape((x_test.shape[0], x_test.shape[1], 1))"
      ]
    },
    {
      "cell_type": "code",
      "execution_count": 43,
      "id": "936243fe",
      "metadata": {
        "id": "936243fe"
      },
      "outputs": [],
      "source": [
        "# Determine the input shape and number of classes\n",
        "input_shape = (x_train.shape[1], 1)\n",
        "num_classes = len(np.unique(y))"
      ]
    },
    {
      "cell_type": "code",
      "execution_count": 44,
      "id": "4cb2989e",
      "metadata": {
        "colab": {
          "base_uri": "https://localhost:8080/"
        },
        "id": "4cb2989e",
        "outputId": "b94f5249-992b-49ad-b9a0-67f174ddfacc"
      },
      "outputs": [
        {
          "output_type": "execute_result",
          "data": {
            "text/plain": [
              "22"
            ]
          },
          "metadata": {},
          "execution_count": 44
        }
      ],
      "source": [
        "num_classes # must have 22"
      ]
    },
    {
      "cell_type": "code",
      "execution_count": 45,
      "id": "26c6890e",
      "metadata": {
        "colab": {
          "base_uri": "https://localhost:8080/"
        },
        "id": "26c6890e",
        "outputId": "aa7539f1-bc79-4edb-dc9c-8c7ae2b92a26"
      },
      "outputs": [
        {
          "output_type": "execute_result",
          "data": {
            "text/plain": [
              "(6, 1)"
            ]
          },
          "metadata": {},
          "execution_count": 45
        }
      ],
      "source": [
        "input_shape"
      ]
    },
    {
      "cell_type": "code",
      "execution_count": 46,
      "id": "859aa647",
      "metadata": {
        "colab": {
          "base_uri": "https://localhost:8080/"
        },
        "id": "859aa647",
        "outputId": "7f107257-79b3-4512-8f06-17f4b1f7d755"
      },
      "outputs": [
        {
          "output_type": "execute_result",
          "data": {
            "text/plain": [
              "(57940, 6, 1)"
            ]
          },
          "metadata": {},
          "execution_count": 46
        }
      ],
      "source": [
        "x_train.shape"
      ]
    },
    {
      "cell_type": "code",
      "execution_count": 47,
      "id": "eab565dd",
      "metadata": {
        "colab": {
          "base_uri": "https://localhost:8080/"
        },
        "id": "eab565dd",
        "outputId": "3ee837b7-59de-477e-dcb4-7466801dc2f7"
      },
      "outputs": [
        {
          "output_type": "execute_result",
          "data": {
            "text/plain": [
              "(57940,)"
            ]
          },
          "metadata": {},
          "execution_count": 47
        }
      ],
      "source": [
        "y_train.shape"
      ]
    },
    {
      "cell_type": "code",
      "execution_count": 48,
      "id": "ab950213",
      "metadata": {
        "colab": {
          "base_uri": "https://localhost:8080/"
        },
        "id": "ab950213",
        "outputId": "fd6aa4dc-217a-4d51-931e-f9c2b6caa185"
      },
      "outputs": [
        {
          "output_type": "execute_result",
          "data": {
            "text/plain": [
              "array([[-76.838287],\n",
              "       [-16.723667],\n",
              "       [-74.727928],\n",
              "       [  0.632294],\n",
              "       [  1.719963],\n",
              "       [  0.247437]])"
            ]
          },
          "metadata": {},
          "execution_count": 48
        }
      ],
      "source": [
        "x_train[0]"
      ]
    },
    {
      "cell_type": "code",
      "execution_count": 49,
      "id": "7f11432f",
      "metadata": {
        "colab": {
          "base_uri": "https://localhost:8080/"
        },
        "id": "7f11432f",
        "outputId": "9c1984d6-d6bd-4005-c43d-dbbcc144708b"
      },
      "outputs": [
        {
          "output_type": "execute_result",
          "data": {
            "text/plain": [
              "13"
            ]
          },
          "metadata": {},
          "execution_count": 49
        }
      ],
      "source": [
        "y_train[0]"
      ]
    },
    {
      "cell_type": "code",
      "execution_count": 50,
      "id": "cd51204b",
      "metadata": {
        "id": "cd51204b"
      },
      "outputs": [],
      "source": [
        "# Transformer Encoder function with dropout and L2 regularization\n",
        "def transformer_encoder(inputs, head_size, num_heads, ff_dim, dropout=0.1, l2_reg=0.01):\n",
        "\n",
        "    x = layers.MultiHeadAttention(key_dim=head_size, num_heads=num_heads, dropout=dropout)(inputs, inputs)\n",
        "    x = layers.Dropout(dropout)(x)\n",
        "    x = layers.LayerNormalization(epsilon=1e-6)(x)\n",
        "    res = x + inputs\n",
        "\n",
        "    # Feed-forward network with dropout and L2 regularization\n",
        "    x = layers.Dense(ff_dim, activation=\"relu\", kernel_regularizer=keras.regularizers.l2(l2_reg))(res)\n",
        "    x = layers.Dropout(dropout)(x)\n",
        "\n",
        "    x = layers.Dense(ff_dim, activation=\"relu\", kernel_regularizer=keras.regularizers.l2(l2_reg))(x)\n",
        "    x = layers.Dropout(dropout)(x)\n",
        "\n",
        "    '''\n",
        "    YOU MAY WANT TO ADD OR REMOVE THESE TWO LINES HERE PRECISELY IN THIS PART OF THE CODE, PAY ATTENTION TO THE INDENTATION, PYTHON REQUIRES CONSISTENCY IN ORDER FOR THE CODE TO RUN CORRECTLY\n",
        "    x = layers.Dense(ff_dim, activation=\"relu\", kernel_regularizer=keras.regularizers.l2(l2_reg))(x)\n",
        "    x = layers.Dropout(dropout)(x)\n",
        "\n",
        "    '''\n",
        "\n",
        "    x = layers.Dense(ff_dim, activation=\"relu\", kernel_regularizer=keras.regularizers.l2(l2_reg))(x)\n",
        "    x = layers.Dropout(dropout)(x)\n",
        "\n",
        "    x = layers.Dense(inputs.shape[-1], activation = 'softmax')(x)\n",
        "    x = layers.LayerNormalization(epsilon=1e-6)(x)\n",
        "\n",
        "    return x + res"
      ]
    },
    {
      "cell_type": "code",
      "execution_count": 51,
      "id": "9df843aa",
      "metadata": {
        "id": "9df843aa"
      },
      "outputs": [],
      "source": [
        "# Transformer Decoder function\n",
        "def transformer_decoder(inputs, enc_outputs, head_size, num_heads, ff_dim, dropout=0.1, l2_reg=0.01):\n",
        "    x = layers.MultiHeadAttention(key_dim=head_size, num_heads=num_heads, dropout=dropout)(inputs, inputs)\n",
        "    x = layers.Dropout(dropout)(x)\n",
        "    x = layers.LayerNormalization(epsilon=1e-6)(x)\n",
        "    res = x + inputs\n",
        "\n",
        "    x = layers.MultiHeadAttention(key_dim=head_size, num_heads=num_heads, dropout=dropout)(res, enc_outputs)\n",
        "    x = layers.Dropout(dropout)(x)\n",
        "    x = layers.LayerNormalization(epsilon=1e-6)(x)\n",
        "    x = x + res\n",
        "\n",
        "    # Feed-forward network\n",
        "    x = layers.Dense(ff_dim, activation=\"relu\", kernel_regularizer=keras.regularizers.l2(l2_reg))(x)\n",
        "    x = layers.Dropout(dropout)(x)\n",
        "\n",
        "    x = layers.Dense(ff_dim, activation=\"relu\", kernel_regularizer=keras.regularizers.l2(l2_reg))(x)\n",
        "    x = layers.Dropout(dropout)(x)\n",
        "\n",
        "    '''\n",
        "    YOU MAY WANT TO ADD OR REMOVE THESE TWO LINES HERE PRECISELY IN THIS PART OF THE CODE, PAY ATTENTION TO THE INDENTATION, PYTHON REQUIRES CONSISTENCY IN ORDER FOR THE CODE TO RUN CORRECTLY\n",
        "    x = layers.Dense(ff_dim, activation=\"relu\", kernel_regularizer=keras.regularizers.l2(l2_reg))(x)\n",
        "    x = layers.Dropout(dropout)(x)\n",
        "\n",
        "    '''\n",
        "\n",
        "    x = layers.Dense(ff_dim, activation=\"relu\", kernel_regularizer=keras.regularizers.l2(l2_reg))(x)\n",
        "    x = layers.Dropout(dropout)(x)\n",
        "\n",
        "    x = layers.Dense(inputs.shape[-1], activation = 'softmax')(x)\n",
        "    x = layers.LayerNormalization(epsilon=1e-6)(x)\n",
        "\n",
        "    return x + res\n"
      ]
    },
    {
      "cell_type": "code",
      "execution_count": 52,
      "id": "d9851305",
      "metadata": {
        "id": "d9851305"
      },
      "outputs": [],
      "source": [
        "# Build the model\n",
        "def build_model(input_shape, head_size, num_heads, ff_dim, num_transformer_blocks, mlp_units, dropout=0, mlp_dropout=0, l2_reg=0):\n",
        "    inputs = keras.Input(shape=input_shape)\n",
        "    x = inputs\n",
        "\n",
        "    # Encoder\n",
        "    for _ in range(num_transformer_blocks):\n",
        "        x = transformer_encoder(x, head_size, num_heads, ff_dim, dropout, l2_reg)\n",
        "\n",
        "\n",
        "    # Decoder\n",
        "    decoder_input = keras.Input(shape=input_shape)\n",
        "    dec = decoder_input\n",
        "    for _ in range(num_transformer_blocks):\n",
        "        dec = transformer_decoder(dec, x, head_size, num_heads, ff_dim, dropout, l2_reg)\n",
        "\n",
        "    x = layers.Flatten()(x)\n",
        "    dec = layers.Flatten()(dec)\n",
        "    x = layers.Concatenate()([x, dec])\n",
        "\n",
        "    for dim in mlp_units:\n",
        "        x = layers.Dense(dim, activation=\"relu\")(x)\n",
        "        x = layers.Dropout(mlp_dropout)(x)\n",
        "\n",
        "    outputs = layers.Dense(num_classes, activation=\"softmax\")(x)\n",
        "\n",
        "    model = keras.Model([inputs, decoder_input], outputs)\n",
        "    return model"
      ]
    },
    {
      "cell_type": "code",
      "execution_count": 53,
      "id": "1d648db6",
      "metadata": {
        "id": "1d648db6"
      },
      "outputs": [],
      "source": [
        "# Define the hyperparameters\n",
        "\"\"\"\n",
        "# THIS IS THE PART YOU SHOULD PLAY AROUND WITH\n",
        "# YOU MAY REDUCE THESE NUMBERS IF YOUR MACHINE IS OTHERWISE INCAPABLE OF RUNNING THE CODE\"\"\"\n",
        "\n",
        "head_size = 2\n",
        "num_heads = 2\n",
        "ff_dim = 128\n",
        "num_transformer_blocks = 2\n",
        "\n",
        "mlp_units = [256]\n",
        "dropout = 0.1\n",
        "mlp_dropout = 0.1\n",
        "initial_lr = 0.01\n",
        "l2_reg=0.01"
      ]
    },
    {
      "cell_type": "code",
      "execution_count": 54,
      "id": "6c794103",
      "metadata": {
        "id": "6c794103"
      },
      "outputs": [],
      "source": [
        "# Build the model\n",
        "model = build_model(input_shape, head_size, num_heads, ff_dim, num_transformer_blocks, mlp_units, dropout, mlp_dropout)"
      ]
    },
    {
      "cell_type": "code",
      "execution_count": 55,
      "id": "64e4c3ef",
      "metadata": {
        "id": "64e4c3ef"
      },
      "outputs": [],
      "source": [
        "# Create the optimizer with the initial learning rate\n",
        "optimizer = Adam(learning_rate=initial_lr)"
      ]
    },
    {
      "cell_type": "code",
      "execution_count": 56,
      "id": "0e19e795",
      "metadata": {
        "id": "0e19e795"
      },
      "outputs": [],
      "source": [
        "# Compile the model\n",
        "model.compile(optimizer=optimizer, loss=\"sparse_categorical_crossentropy\", metrics=[\"accuracy\"])"
      ]
    },
    {
      "cell_type": "code",
      "execution_count": 57,
      "id": "02a51f0f",
      "metadata": {
        "id": "02a51f0f"
      },
      "outputs": [],
      "source": [
        "# Create the ReduceLROnPlateau callback\n",
        "lr_callback = ReduceLROnPlateau(factor=0.1, patience=50)"
      ]
    },
    {
      "cell_type": "code",
      "execution_count": 58,
      "id": "511f6219",
      "metadata": {
        "id": "511f6219"
      },
      "outputs": [],
      "source": [
        "# Record the start time\n",
        "start_time = time.time()"
      ]
    },
    {
      "cell_type": "code",
      "execution_count": 59,
      "id": "19d80153",
      "metadata": {
        "colab": {
          "base_uri": "https://localhost:8080/"
        },
        "id": "19d80153",
        "outputId": "af523356-b08c-4e8a-c91b-95c92a94f82a"
      },
      "outputs": [
        {
          "output_type": "stream",
          "name": "stdout",
          "text": [
            "Epoch 1/100\n",
            "906/906 [==============================] - 36s 29ms/step - loss: 1.4985 - accuracy: 0.7037 - val_loss: 0.8419 - val_accuracy: 0.7812 - lr: 0.0100\n",
            "Epoch 2/100\n",
            "906/906 [==============================] - 26s 29ms/step - loss: 0.7641 - accuracy: 0.7651 - val_loss: 0.6111 - val_accuracy: 0.8025 - lr: 0.0100\n",
            "Epoch 3/100\n",
            "906/906 [==============================] - 24s 27ms/step - loss: 0.6787 - accuracy: 0.7789 - val_loss: 0.5177 - val_accuracy: 0.8178 - lr: 0.0100\n",
            "Epoch 4/100\n",
            "906/906 [==============================] - 24s 26ms/step - loss: 0.6443 - accuracy: 0.7809 - val_loss: 0.4406 - val_accuracy: 0.8398 - lr: 0.0100\n",
            "Epoch 5/100\n",
            "906/906 [==============================] - 24s 27ms/step - loss: 0.6453 - accuracy: 0.7820 - val_loss: 0.4794 - val_accuracy: 0.8287 - lr: 0.0100\n",
            "Epoch 6/100\n",
            "906/906 [==============================] - 24s 27ms/step - loss: 0.6430 - accuracy: 0.7838 - val_loss: 0.4452 - val_accuracy: 0.8358 - lr: 0.0100\n",
            "Epoch 7/100\n",
            "906/906 [==============================] - 26s 29ms/step - loss: 0.6474 - accuracy: 0.7843 - val_loss: 0.4432 - val_accuracy: 0.8347 - lr: 0.0100\n",
            "Epoch 8/100\n",
            "906/906 [==============================] - 26s 29ms/step - loss: 0.6588 - accuracy: 0.7811 - val_loss: 0.4696 - val_accuracy: 0.8369 - lr: 0.0100\n",
            "Epoch 9/100\n",
            "906/906 [==============================] - 26s 28ms/step - loss: 0.6406 - accuracy: 0.7879 - val_loss: 0.4723 - val_accuracy: 0.8171 - lr: 0.0100\n",
            "Epoch 10/100\n",
            "906/906 [==============================] - 26s 29ms/step - loss: 0.6434 - accuracy: 0.7795 - val_loss: 0.4818 - val_accuracy: 0.8219 - lr: 0.0100\n",
            "Epoch 11/100\n",
            "906/906 [==============================] - 25s 27ms/step - loss: 0.6416 - accuracy: 0.7802 - val_loss: 0.6251 - val_accuracy: 0.7610 - lr: 0.0100\n",
            "Epoch 12/100\n",
            "906/906 [==============================] - 26s 28ms/step - loss: 0.6533 - accuracy: 0.7786 - val_loss: 0.6425 - val_accuracy: 0.8094 - lr: 0.0100\n",
            "Epoch 13/100\n",
            "906/906 [==============================] - 26s 28ms/step - loss: 0.6642 - accuracy: 0.7818 - val_loss: 0.4567 - val_accuracy: 0.8334 - lr: 0.0100\n",
            "Epoch 14/100\n",
            "906/906 [==============================] - 25s 28ms/step - loss: 0.6231 - accuracy: 0.7887 - val_loss: 0.5003 - val_accuracy: 0.8084 - lr: 0.0100\n",
            "Epoch 15/100\n",
            "906/906 [==============================] - 25s 28ms/step - loss: 0.6438 - accuracy: 0.7843 - val_loss: 0.5153 - val_accuracy: 0.7934 - lr: 0.0100\n",
            "Epoch 16/100\n",
            "906/906 [==============================] - 25s 28ms/step - loss: 0.7197 - accuracy: 0.7649 - val_loss: 0.4988 - val_accuracy: 0.8320 - lr: 0.0100\n",
            "Epoch 17/100\n",
            "906/906 [==============================] - 25s 28ms/step - loss: 0.7171 - accuracy: 0.7634 - val_loss: 0.7249 - val_accuracy: 0.7652 - lr: 0.0100\n",
            "Epoch 18/100\n",
            "906/906 [==============================] - 25s 27ms/step - loss: 0.6934 - accuracy: 0.7691 - val_loss: 0.5023 - val_accuracy: 0.8176 - lr: 0.0100\n",
            "Epoch 19/100\n",
            "906/906 [==============================] - 27s 29ms/step - loss: 0.7848 - accuracy: 0.7455 - val_loss: 0.5225 - val_accuracy: 0.8120 - lr: 0.0100\n",
            "Epoch 20/100\n",
            "906/906 [==============================] - 26s 29ms/step - loss: 0.7274 - accuracy: 0.7568 - val_loss: 0.5278 - val_accuracy: 0.8099 - lr: 0.0100\n",
            "Epoch 21/100\n",
            "906/906 [==============================] - 25s 27ms/step - loss: 0.6529 - accuracy: 0.7740 - val_loss: 0.4205 - val_accuracy: 0.8410 - lr: 0.0100\n",
            "Epoch 22/100\n",
            "906/906 [==============================] - 25s 28ms/step - loss: 0.7103 - accuracy: 0.7642 - val_loss: 0.4985 - val_accuracy: 0.8225 - lr: 0.0100\n",
            "Epoch 23/100\n",
            "906/906 [==============================] - 24s 27ms/step - loss: 0.6640 - accuracy: 0.7747 - val_loss: 0.5057 - val_accuracy: 0.8218 - lr: 0.0100\n",
            "Epoch 24/100\n",
            "906/906 [==============================] - 24s 27ms/step - loss: 0.7393 - accuracy: 0.7592 - val_loss: 0.6621 - val_accuracy: 0.7815 - lr: 0.0100\n",
            "Epoch 25/100\n",
            "906/906 [==============================] - 24s 27ms/step - loss: 0.7758 - accuracy: 0.7460 - val_loss: 0.4845 - val_accuracy: 0.8261 - lr: 0.0100\n",
            "Epoch 26/100\n",
            "906/906 [==============================] - 24s 27ms/step - loss: 0.6562 - accuracy: 0.7764 - val_loss: 0.5369 - val_accuracy: 0.8302 - lr: 0.0100\n",
            "Epoch 27/100\n",
            "906/906 [==============================] - 25s 28ms/step - loss: 0.6752 - accuracy: 0.7739 - val_loss: 0.4951 - val_accuracy: 0.8316 - lr: 0.0100\n",
            "Epoch 28/100\n",
            "906/906 [==============================] - 24s 26ms/step - loss: 0.7118 - accuracy: 0.7636 - val_loss: 0.5069 - val_accuracy: 0.8118 - lr: 0.0100\n",
            "Epoch 29/100\n",
            "906/906 [==============================] - 25s 27ms/step - loss: 0.6719 - accuracy: 0.7729 - val_loss: 0.5207 - val_accuracy: 0.8142 - lr: 0.0100\n",
            "Epoch 30/100\n",
            "906/906 [==============================] - 24s 26ms/step - loss: 0.6977 - accuracy: 0.7664 - val_loss: 0.4336 - val_accuracy: 0.8362 - lr: 0.0100\n",
            "Epoch 31/100\n",
            "906/906 [==============================] - 26s 28ms/step - loss: 0.6824 - accuracy: 0.7758 - val_loss: 0.4174 - val_accuracy: 0.8423 - lr: 0.0100\n",
            "Epoch 32/100\n",
            "906/906 [==============================] - 26s 28ms/step - loss: 0.6433 - accuracy: 0.7818 - val_loss: 0.5390 - val_accuracy: 0.8256 - lr: 0.0100\n",
            "Epoch 33/100\n",
            "906/906 [==============================] - 25s 27ms/step - loss: 0.6800 - accuracy: 0.7779 - val_loss: 0.4543 - val_accuracy: 0.8274 - lr: 0.0100\n",
            "Epoch 34/100\n",
            "906/906 [==============================] - 24s 27ms/step - loss: 0.6679 - accuracy: 0.7761 - val_loss: 0.4301 - val_accuracy: 0.8395 - lr: 0.0100\n",
            "Epoch 35/100\n",
            "906/906 [==============================] - 24s 27ms/step - loss: 0.6666 - accuracy: 0.7740 - val_loss: 0.4770 - val_accuracy: 0.8482 - lr: 0.0100\n",
            "Epoch 36/100\n",
            "906/906 [==============================] - 25s 28ms/step - loss: 0.7333 - accuracy: 0.7628 - val_loss: 0.4438 - val_accuracy: 0.8304 - lr: 0.0100\n",
            "Epoch 37/100\n",
            "906/906 [==============================] - 24s 26ms/step - loss: 0.7068 - accuracy: 0.7685 - val_loss: 0.8348 - val_accuracy: 0.6942 - lr: 0.0100\n",
            "Epoch 38/100\n",
            "906/906 [==============================] - 25s 27ms/step - loss: 0.9139 - accuracy: 0.7185 - val_loss: 0.5637 - val_accuracy: 0.7979 - lr: 0.0100\n",
            "Epoch 39/100\n",
            "906/906 [==============================] - 24s 26ms/step - loss: 0.8098 - accuracy: 0.7367 - val_loss: 0.5101 - val_accuracy: 0.8287 - lr: 0.0100\n",
            "Epoch 40/100\n",
            "906/906 [==============================] - 24s 26ms/step - loss: 0.7311 - accuracy: 0.7608 - val_loss: 0.5050 - val_accuracy: 0.8238 - lr: 0.0100\n",
            "Epoch 41/100\n",
            "906/906 [==============================] - 24s 27ms/step - loss: 0.6795 - accuracy: 0.7762 - val_loss: 0.5448 - val_accuracy: 0.8202 - lr: 0.0100\n",
            "Epoch 42/100\n",
            "906/906 [==============================] - 25s 28ms/step - loss: 0.7168 - accuracy: 0.7717 - val_loss: 0.4771 - val_accuracy: 0.8406 - lr: 0.0100\n",
            "Epoch 43/100\n",
            "906/906 [==============================] - 25s 27ms/step - loss: 0.6886 - accuracy: 0.7707 - val_loss: 0.5189 - val_accuracy: 0.8337 - lr: 0.0100\n",
            "Epoch 44/100\n",
            "906/906 [==============================] - 25s 27ms/step - loss: 0.7495 - accuracy: 0.7607 - val_loss: 0.4885 - val_accuracy: 0.8382 - lr: 0.0100\n",
            "Epoch 45/100\n",
            "906/906 [==============================] - 26s 29ms/step - loss: 0.7135 - accuracy: 0.7624 - val_loss: 0.4654 - val_accuracy: 0.8432 - lr: 0.0100\n",
            "Epoch 46/100\n",
            "906/906 [==============================] - 25s 28ms/step - loss: 0.7285 - accuracy: 0.7631 - val_loss: 0.8188 - val_accuracy: 0.7525 - lr: 0.0100\n",
            "Epoch 47/100\n",
            "906/906 [==============================] - 26s 28ms/step - loss: 0.8288 - accuracy: 0.7439 - val_loss: 0.4678 - val_accuracy: 0.8294 - lr: 0.0100\n",
            "Epoch 48/100\n",
            "906/906 [==============================] - 24s 27ms/step - loss: 0.7315 - accuracy: 0.7655 - val_loss: 0.6245 - val_accuracy: 0.8418 - lr: 0.0100\n",
            "Epoch 49/100\n",
            "906/906 [==============================] - 24s 27ms/step - loss: 0.6648 - accuracy: 0.7747 - val_loss: 0.4707 - val_accuracy: 0.8236 - lr: 0.0100\n",
            "Epoch 50/100\n",
            "906/906 [==============================] - 24s 26ms/step - loss: 0.8378 - accuracy: 0.7410 - val_loss: 0.5508 - val_accuracy: 0.8146 - lr: 0.0100\n",
            "Epoch 51/100\n",
            "906/906 [==============================] - 25s 28ms/step - loss: 0.8332 - accuracy: 0.7309 - val_loss: 0.5511 - val_accuracy: 0.8115 - lr: 0.0100\n",
            "Epoch 52/100\n",
            "906/906 [==============================] - 24s 27ms/step - loss: 0.7721 - accuracy: 0.7501 - val_loss: 0.5977 - val_accuracy: 0.8064 - lr: 0.0100\n",
            "Epoch 53/100\n",
            "906/906 [==============================] - 25s 27ms/step - loss: 0.7563 - accuracy: 0.7512 - val_loss: 0.4906 - val_accuracy: 0.8303 - lr: 0.0100\n",
            "Epoch 54/100\n",
            "906/906 [==============================] - 25s 27ms/step - loss: 0.7772 - accuracy: 0.7504 - val_loss: 0.5082 - val_accuracy: 0.8328 - lr: 0.0100\n",
            "Epoch 55/100\n",
            "906/906 [==============================] - 24s 27ms/step - loss: 0.7019 - accuracy: 0.7704 - val_loss: 0.4750 - val_accuracy: 0.8356 - lr: 0.0100\n",
            "Epoch 56/100\n",
            "906/906 [==============================] - 26s 28ms/step - loss: 0.8046 - accuracy: 0.7507 - val_loss: 0.5022 - val_accuracy: 0.8394 - lr: 0.0100\n",
            "Epoch 57/100\n",
            "906/906 [==============================] - 26s 28ms/step - loss: 0.7639 - accuracy: 0.7588 - val_loss: 0.4470 - val_accuracy: 0.8320 - lr: 0.0100\n",
            "Epoch 58/100\n",
            "906/906 [==============================] - 26s 28ms/step - loss: 0.7341 - accuracy: 0.7575 - val_loss: 0.4848 - val_accuracy: 0.8211 - lr: 0.0100\n",
            "Epoch 59/100\n",
            "906/906 [==============================] - 24s 27ms/step - loss: 0.7215 - accuracy: 0.7586 - val_loss: 0.4659 - val_accuracy: 0.8273 - lr: 0.0100\n",
            "Epoch 60/100\n",
            "906/906 [==============================] - 25s 28ms/step - loss: 0.6908 - accuracy: 0.7694 - val_loss: 0.6459 - val_accuracy: 0.8247 - lr: 0.0100\n",
            "Epoch 61/100\n",
            "906/906 [==============================] - 24s 27ms/step - loss: 0.7016 - accuracy: 0.7650 - val_loss: 0.4620 - val_accuracy: 0.8301 - lr: 0.0100\n",
            "Epoch 62/100\n",
            "906/906 [==============================] - 26s 29ms/step - loss: 0.8540 - accuracy: 0.7298 - val_loss: 0.7503 - val_accuracy: 0.7645 - lr: 0.0100\n",
            "Epoch 63/100\n",
            "906/906 [==============================] - 24s 27ms/step - loss: 0.8169 - accuracy: 0.7318 - val_loss: 0.5314 - val_accuracy: 0.8023 - lr: 0.0100\n",
            "Epoch 64/100\n",
            "906/906 [==============================] - 26s 29ms/step - loss: 0.6925 - accuracy: 0.7618 - val_loss: 0.5915 - val_accuracy: 0.8002 - lr: 0.0100\n",
            "Epoch 65/100\n",
            "906/906 [==============================] - 26s 29ms/step - loss: 0.8007 - accuracy: 0.7404 - val_loss: 0.5064 - val_accuracy: 0.8234 - lr: 0.0100\n",
            "Epoch 66/100\n",
            "906/906 [==============================] - 25s 28ms/step - loss: 0.7190 - accuracy: 0.7635 - val_loss: 0.5177 - val_accuracy: 0.7781 - lr: 0.0100\n",
            "Epoch 67/100\n",
            "906/906 [==============================] - 26s 29ms/step - loss: 0.7289 - accuracy: 0.7595 - val_loss: 0.5663 - val_accuracy: 0.8041 - lr: 0.0100\n",
            "Epoch 68/100\n",
            "906/906 [==============================] - 26s 29ms/step - loss: 0.7314 - accuracy: 0.7577 - val_loss: 0.7392 - val_accuracy: 0.7878 - lr: 0.0100\n",
            "Epoch 69/100\n",
            "906/906 [==============================] - 26s 29ms/step - loss: 0.7916 - accuracy: 0.7466 - val_loss: 0.4737 - val_accuracy: 0.8250 - lr: 0.0100\n",
            "Epoch 70/100\n",
            "906/906 [==============================] - 24s 27ms/step - loss: 0.7411 - accuracy: 0.7567 - val_loss: 0.5723 - val_accuracy: 0.7941 - lr: 0.0100\n",
            "Epoch 71/100\n",
            "906/906 [==============================] - 24s 27ms/step - loss: 0.8499 - accuracy: 0.7328 - val_loss: 0.5437 - val_accuracy: 0.8265 - lr: 0.0100\n",
            "Epoch 72/100\n",
            "906/906 [==============================] - 25s 28ms/step - loss: 0.7802 - accuracy: 0.7427 - val_loss: 0.4960 - val_accuracy: 0.8029 - lr: 0.0100\n",
            "Epoch 73/100\n",
            "906/906 [==============================] - 26s 29ms/step - loss: 0.7475 - accuracy: 0.7537 - val_loss: 0.4617 - val_accuracy: 0.8485 - lr: 0.0100\n",
            "Epoch 74/100\n",
            "906/906 [==============================] - 24s 27ms/step - loss: 0.6899 - accuracy: 0.7673 - val_loss: 0.5297 - val_accuracy: 0.7838 - lr: 0.0100\n",
            "Epoch 75/100\n",
            "906/906 [==============================] - 24s 27ms/step - loss: 0.7160 - accuracy: 0.7635 - val_loss: 0.4653 - val_accuracy: 0.8260 - lr: 0.0100\n",
            "Epoch 76/100\n",
            "906/906 [==============================] - 25s 27ms/step - loss: 0.8517 - accuracy: 0.7374 - val_loss: 0.6339 - val_accuracy: 0.7980 - lr: 0.0100\n",
            "Epoch 77/100\n",
            "906/906 [==============================] - 25s 28ms/step - loss: 0.8143 - accuracy: 0.7411 - val_loss: 0.5798 - val_accuracy: 0.8018 - lr: 0.0100\n",
            "Epoch 78/100\n",
            "906/906 [==============================] - 25s 28ms/step - loss: 0.7025 - accuracy: 0.7691 - val_loss: 0.4280 - val_accuracy: 0.8521 - lr: 0.0100\n",
            "Epoch 79/100\n",
            "906/906 [==============================] - 24s 26ms/step - loss: 0.6766 - accuracy: 0.7736 - val_loss: 0.4646 - val_accuracy: 0.8358 - lr: 0.0100\n",
            "Epoch 80/100\n",
            "906/906 [==============================] - 24s 27ms/step - loss: 0.7165 - accuracy: 0.7655 - val_loss: 0.4467 - val_accuracy: 0.8479 - lr: 0.0100\n",
            "Epoch 81/100\n",
            "906/906 [==============================] - 25s 27ms/step - loss: 0.7020 - accuracy: 0.7697 - val_loss: 0.5294 - val_accuracy: 0.8155 - lr: 0.0100\n",
            "Epoch 82/100\n",
            "906/906 [==============================] - 24s 27ms/step - loss: 0.5733 - accuracy: 0.8009 - val_loss: 0.3783 - val_accuracy: 0.8637 - lr: 1.0000e-03\n",
            "Epoch 83/100\n",
            "906/906 [==============================] - 25s 28ms/step - loss: 0.5405 - accuracy: 0.8133 - val_loss: 0.3798 - val_accuracy: 0.8637 - lr: 1.0000e-03\n",
            "Epoch 84/100\n",
            "906/906 [==============================] - 26s 28ms/step - loss: 0.5336 - accuracy: 0.8123 - val_loss: 0.3712 - val_accuracy: 0.8586 - lr: 1.0000e-03\n",
            "Epoch 85/100\n",
            "906/906 [==============================] - 27s 29ms/step - loss: 0.5062 - accuracy: 0.8188 - val_loss: 0.3601 - val_accuracy: 0.8617 - lr: 1.0000e-03\n",
            "Epoch 86/100\n",
            "906/906 [==============================] - 26s 28ms/step - loss: 0.4952 - accuracy: 0.8198 - val_loss: 0.3549 - val_accuracy: 0.8612 - lr: 1.0000e-03\n",
            "Epoch 87/100\n",
            "906/906 [==============================] - 24s 27ms/step - loss: 0.4865 - accuracy: 0.8209 - val_loss: 0.3442 - val_accuracy: 0.8623 - lr: 1.0000e-03\n",
            "Epoch 88/100\n",
            "906/906 [==============================] - 25s 28ms/step - loss: 0.4812 - accuracy: 0.8208 - val_loss: 0.3463 - val_accuracy: 0.8677 - lr: 1.0000e-03\n",
            "Epoch 89/100\n",
            "906/906 [==============================] - 24s 27ms/step - loss: 0.4753 - accuracy: 0.8228 - val_loss: 0.3447 - val_accuracy: 0.8656 - lr: 1.0000e-03\n",
            "Epoch 90/100\n",
            "906/906 [==============================] - 24s 27ms/step - loss: 0.4717 - accuracy: 0.8252 - val_loss: 0.3426 - val_accuracy: 0.8690 - lr: 1.0000e-03\n",
            "Epoch 91/100\n",
            "906/906 [==============================] - 26s 28ms/step - loss: 0.4631 - accuracy: 0.8268 - val_loss: 0.3336 - val_accuracy: 0.8687 - lr: 1.0000e-03\n",
            "Epoch 92/100\n",
            "906/906 [==============================] - 24s 27ms/step - loss: 0.4639 - accuracy: 0.8267 - val_loss: 0.3322 - val_accuracy: 0.8728 - lr: 1.0000e-03\n",
            "Epoch 93/100\n",
            "906/906 [==============================] - 24s 27ms/step - loss: 0.4585 - accuracy: 0.8285 - val_loss: 0.3322 - val_accuracy: 0.8708 - lr: 1.0000e-03\n",
            "Epoch 94/100\n",
            "906/906 [==============================] - 24s 27ms/step - loss: 0.4573 - accuracy: 0.8301 - val_loss: 0.3366 - val_accuracy: 0.8648 - lr: 1.0000e-03\n",
            "Epoch 95/100\n",
            "906/906 [==============================] - 26s 29ms/step - loss: 0.4550 - accuracy: 0.8293 - val_loss: 0.3335 - val_accuracy: 0.8716 - lr: 1.0000e-03\n",
            "Epoch 96/100\n",
            "906/906 [==============================] - 25s 27ms/step - loss: 0.4553 - accuracy: 0.8301 - val_loss: 0.3329 - val_accuracy: 0.8650 - lr: 1.0000e-03\n",
            "Epoch 97/100\n",
            "906/906 [==============================] - 25s 27ms/step - loss: 0.4472 - accuracy: 0.8322 - val_loss: 0.3250 - val_accuracy: 0.8755 - lr: 1.0000e-03\n",
            "Epoch 98/100\n",
            "906/906 [==============================] - 26s 29ms/step - loss: 0.4473 - accuracy: 0.8321 - val_loss: 0.3232 - val_accuracy: 0.8776 - lr: 1.0000e-03\n",
            "Epoch 99/100\n",
            "906/906 [==============================] - 25s 28ms/step - loss: 0.4439 - accuracy: 0.8332 - val_loss: 0.3162 - val_accuracy: 0.8731 - lr: 1.0000e-03\n",
            "Epoch 100/100\n",
            "906/906 [==============================] - 24s 27ms/step - loss: 0.4485 - accuracy: 0.8327 - val_loss: 0.3203 - val_accuracy: 0.8767 - lr: 1.0000e-03\n"
          ]
        },
        {
          "output_type": "execute_result",
          "data": {
            "text/plain": [
              "<keras.src.callbacks.History at 0x7b57f0a00220>"
            ]
          },
          "metadata": {},
          "execution_count": 59
        }
      ],
      "source": [
        "model.fit([x_train, x_train], y_train,\n",
        "          batch_size=64,\n",
        "          epochs=100,\n",
        "          validation_data=([x_val, x_val], y_val),\n",
        "          callbacks=[lr_callback])"
      ]
    },
    {
      "cell_type": "code",
      "execution_count": 60,
      "id": "3ffe7d0c",
      "metadata": {
        "id": "3ffe7d0c"
      },
      "outputs": [],
      "source": [
        "# Record the end time\n",
        "end_time = time.time()"
      ]
    },
    {
      "cell_type": "code",
      "execution_count": 61,
      "id": "e8dd9c65",
      "metadata": {
        "id": "e8dd9c65",
        "colab": {
          "base_uri": "https://localhost:8080/"
        },
        "outputId": "9c62e5cd-e099-40b7-857c-8fa1e44a372b"
      },
      "outputs": [
        {
          "output_type": "stream",
          "name": "stdout",
          "text": [
            "Total Running Time: 2554.27 seconds\n"
          ]
        }
      ],
      "source": [
        "# Calculate the total running time\n",
        "running_time = end_time - start_time\n",
        "print(\"Total Running Time: {:.2f} seconds\".format(running_time))"
      ]
    },
    {
      "cell_type": "code",
      "execution_count": 62,
      "id": "23ebca14",
      "metadata": {
        "id": "23ebca14",
        "colab": {
          "base_uri": "https://localhost:8080/"
        },
        "outputId": "a17b5f60-25ed-4612-f7d7-07f968fa3b85"
      },
      "outputs": [
        {
          "output_type": "stream",
          "name": "stdout",
          "text": [
            "252/252 [==============================] - 2s 6ms/step - loss: 0.3221 - accuracy: 0.8726\n",
            "Test loss: 0.3220961391925812, Test accuracy: 0.8726391792297363\n"
          ]
        }
      ],
      "source": [
        "# Evaluate the model\n",
        "loss, accuracy = model.evaluate([x_test, x_test], y_test)\n",
        "print(f\"Test loss: {loss}, Test accuracy: {accuracy}\")"
      ]
    },
    {
      "cell_type": "code",
      "execution_count": 63,
      "id": "78f8e19d",
      "metadata": {
        "id": "78f8e19d",
        "colab": {
          "base_uri": "https://localhost:8080/"
        },
        "outputId": "c77e2a63-49ba-4860-c18d-c1401ac6631b"
      },
      "outputs": [
        {
          "output_type": "stream",
          "name": "stderr",
          "text": [
            "/usr/local/lib/python3.10/dist-packages/keras/src/engine/training.py:3103: UserWarning: You are saving your model as an HDF5 file via `model.save()`. This file format is considered legacy. We recommend using instead the native Keras format, e.g. `model.save('my_model.keras')`.\n",
            "  saving_api.save_model(\n"
          ]
        }
      ],
      "source": [
        "# Save the trained model\n",
        "model.save(\"my_model_camille.h5\")\n"
      ]
    },
    {
      "cell_type": "code",
      "source": [],
      "metadata": {
        "id": "-XMO3zxYZr-H"
      },
      "id": "-XMO3zxYZr-H",
      "execution_count": null,
      "outputs": []
    },
    {
      "cell_type": "markdown",
      "source": [],
      "metadata": {
        "id": "g-O8mw3eZsbb"
      },
      "id": "g-O8mw3eZsbb"
    }
  ],
  "metadata": {
    "accelerator": "GPU",
    "colab": {
      "provenance": [],
      "toc_visible": true
    },
    "kernelspec": {
      "display_name": "Python 3 (ipykernel)",
      "language": "python",
      "name": "python3"
    },
    "language_info": {
      "codemirror_mode": {
        "name": "ipython",
        "version": 3
      },
      "file_extension": ".py",
      "mimetype": "text/x-python",
      "name": "python",
      "nbconvert_exporter": "python",
      "pygments_lexer": "ipython3",
      "version": "3.10.7"
    }
  },
  "nbformat": 4,
  "nbformat_minor": 5
}